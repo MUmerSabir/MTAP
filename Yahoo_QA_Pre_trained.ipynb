{
  "nbformat": 4,
  "nbformat_minor": 0,
  "metadata": {
    "colab": {
      "name": "Yahoo QA Pre-trained.ipynb",
      "provenance": [],
      "collapsed_sections": [],
      "machine_shape": "hm"
    },
    "kernelspec": {
      "name": "python3",
      "display_name": "Python 3"
    },
    "accelerator": "GPU"
  },
  "cells": [
    {
      "cell_type": "code",
      "metadata": {
        "id": "lPeEkdMCthC_",
        "colab_type": "code",
        "colab": {}
      },
      "source": [
        "import os\n",
        "from pydrive.auth import GoogleAuth\n",
        "from pydrive.drive import GoogleDrive\n",
        "from google.colab import auth\n",
        "from oauth2client.client import GoogleCredentials"
      ],
      "execution_count": 0,
      "outputs": []
    },
    {
      "cell_type": "code",
      "metadata": {
        "id": "y94jPpQ0Oo-4",
        "colab_type": "code",
        "outputId": "4739d07c-f5e3-4ded-be85-ac5c46ecf676",
        "colab": {
          "base_uri": "https://localhost:8080/",
          "height": 257
        }
      },
      "source": [
        "pip install keras_metrics"
      ],
      "execution_count": 3,
      "outputs": [
        {
          "output_type": "stream",
          "text": [
            "Collecting keras_metrics\n",
            "  Downloading https://files.pythonhosted.org/packages/32/c9/a87420da8e73de944e63a8e9cdcfb1f03ca31a7c4cdcdbd45d2cdf13275a/keras_metrics-1.1.0-py2.py3-none-any.whl\n",
            "Requirement already satisfied: Keras>=2.1.5 in /usr/local/lib/python3.6/dist-packages (from keras_metrics) (2.2.5)\n",
            "Requirement already satisfied: scipy>=0.14 in /usr/local/lib/python3.6/dist-packages (from Keras>=2.1.5->keras_metrics) (1.3.2)\n",
            "Requirement already satisfied: six>=1.9.0 in /usr/local/lib/python3.6/dist-packages (from Keras>=2.1.5->keras_metrics) (1.12.0)\n",
            "Requirement already satisfied: keras-preprocessing>=1.1.0 in /usr/local/lib/python3.6/dist-packages (from Keras>=2.1.5->keras_metrics) (1.1.0)\n",
            "Requirement already satisfied: numpy>=1.9.1 in /usr/local/lib/python3.6/dist-packages (from Keras>=2.1.5->keras_metrics) (1.17.4)\n",
            "Requirement already satisfied: keras-applications>=1.0.8 in /usr/local/lib/python3.6/dist-packages (from Keras>=2.1.5->keras_metrics) (1.0.8)\n",
            "Requirement already satisfied: h5py in /usr/local/lib/python3.6/dist-packages (from Keras>=2.1.5->keras_metrics) (2.8.0)\n",
            "Requirement already satisfied: pyyaml in /usr/local/lib/python3.6/dist-packages (from Keras>=2.1.5->keras_metrics) (3.13)\n",
            "Installing collected packages: keras-metrics\n",
            "Successfully installed keras-metrics-1.1.0\n"
          ],
          "name": "stdout"
        }
      ]
    },
    {
      "cell_type": "code",
      "metadata": {
        "id": "2DLe5VYxO3jN",
        "colab_type": "code",
        "outputId": "2ba7ec97-18aa-4895-8d2e-3ca7ff5b83fc",
        "colab": {
          "base_uri": "https://localhost:8080/",
          "height": 72
        }
      },
      "source": [
        "import nltk\n",
        "nltk.download('stopwords')"
      ],
      "execution_count": 4,
      "outputs": [
        {
          "output_type": "stream",
          "text": [
            "[nltk_data] Downloading package stopwords to /root/nltk_data...\n",
            "[nltk_data]   Unzipping corpora/stopwords.zip.\n"
          ],
          "name": "stdout"
        },
        {
          "output_type": "execute_result",
          "data": {
            "text/plain": [
              "True"
            ]
          },
          "metadata": {
            "tags": []
          },
          "execution_count": 4
        }
      ]
    },
    {
      "cell_type": "code",
      "metadata": {
        "id": "zNCLhhd_8mOd",
        "colab_type": "code",
        "outputId": "3359723c-253d-4045-e8ab-445c76e576c0",
        "colab": {
          "base_uri": "https://localhost:8080/",
          "height": 83
        }
      },
      "source": [
        "# importing all necessary libraries to run the code\n",
        "import re,string\n",
        "import numpy as np\n",
        "import pandas as pd\n",
        "import keras_metrics\n",
        "import tensorflow.keras\n",
        "import matplotlib.pyplot as plt\n",
        "from nltk.corpus import stopwords\n",
        "from keras.models import Sequential\n",
        "from sklearn.model_selection import train_test_split\n",
        "from keras.callbacks import EarlyStopping\n",
        "from keras.layers import Dense, Flatten, LSTM, Conv1D, MaxPooling1D, Dropout, Activation,Embedding,GlobalMaxPooling1D\n",
        "# using the variable sw to hold all stopwords that are in English\n",
        "sw = stopwords.words('english')"
      ],
      "execution_count": 5,
      "outputs": [
        {
          "output_type": "stream",
          "text": [
            "Using TensorFlow backend.\n"
          ],
          "name": "stderr"
        },
        {
          "output_type": "display_data",
          "data": {
            "text/html": [
              "<p style=\"color: red;\">\n",
              "The default version of TensorFlow in Colab will soon switch to TensorFlow 2.x.<br>\n",
              "We recommend you <a href=\"https://www.tensorflow.org/guide/migrate\" target=\"_blank\">upgrade</a> now \n",
              "or ensure your notebook will continue to use TensorFlow 1.x via the <code>%tensorflow_version 1.x</code> magic:\n",
              "<a href=\"https://colab.research.google.com/notebooks/tensorflow_version.ipynb\" target=\"_blank\">more info</a>.</p>\n"
            ],
            "text/plain": [
              "<IPython.core.display.HTML object>"
            ]
          },
          "metadata": {
            "tags": []
          }
        }
      ]
    },
    {
      "cell_type": "code",
      "metadata": {
        "id": "pZLE90t0tqBP",
        "colab_type": "code",
        "colab": {}
      },
      "source": [
        "auth.authenticate_user()\n",
        "gauth = GoogleAuth()\n",
        "gauth.credentials = GoogleCredentials.get_application_default()\n",
        "drive = GoogleDrive(gauth)"
      ],
      "execution_count": 0,
      "outputs": []
    },
    {
      "cell_type": "code",
      "metadata": {
        "id": "JHbJa3GMtv_a",
        "colab_type": "code",
        "colab": {}
      },
      "source": [
        "link = 'https://drive.google.com/open?id=0Bz8a_Dbh9Qhbd2JNdDBsQUdocVU' # The shareable link"
      ],
      "execution_count": 0,
      "outputs": []
    },
    {
      "cell_type": "code",
      "metadata": {
        "id": "XCPdfdHyuigU",
        "colab_type": "code",
        "outputId": "8ef6931a-b5d8-4ce5-8a74-d8f2bdabeb51",
        "colab": {
          "base_uri": "https://localhost:8080/",
          "height": 35
        }
      },
      "source": [
        "fluff, id = link.split('=')\n",
        "print (id) # Verify that you have everything after '='"
      ],
      "execution_count": 8,
      "outputs": [
        {
          "output_type": "stream",
          "text": [
            "0Bz8a_Dbh9Qhbd2JNdDBsQUdocVU\n"
          ],
          "name": "stdout"
        }
      ]
    },
    {
      "cell_type": "code",
      "metadata": {
        "id": "9aQavyJ8uoac",
        "colab_type": "code",
        "colab": {}
      },
      "source": [
        "import gzip\n",
        "import pandas as pd\n",
        "downloaded = drive.CreateFile({'id':id}) \n",
        "downloaded.GetContentFile('Filename.csv') \n",
        "with open('Filename.csv', 'rb') as fd:\n",
        "  gzip_fd = gzip.GzipFile(fileobj=fd)\n",
        "  data = pd.read_csv(gzip_fd, nrows=1400000) \n",
        "#df3 = pd.read_csv('Filename.csv')# Dataset is now stored in a Pandas Dataframe"
      ],
      "execution_count": 0,
      "outputs": []
    },
    {
      "cell_type": "code",
      "metadata": {
        "id": "73oEjmOyutd1",
        "colab_type": "code",
        "outputId": "1aca6ff1-9afa-4e5d-9574-017d81d20234",
        "colab": {
          "base_uri": "https://localhost:8080/",
          "height": 112
        }
      },
      "source": [
        "data.columns=['Target','Headline','HeadlineDetail','HeadlineBody']\n",
        "data.head(2)"
      ],
      "execution_count": 10,
      "outputs": [
        {
          "output_type": "execute_result",
          "data": {
            "text/html": [
              "<div>\n",
              "<style scoped>\n",
              "    .dataframe tbody tr th:only-of-type {\n",
              "        vertical-align: middle;\n",
              "    }\n",
              "\n",
              "    .dataframe tbody tr th {\n",
              "        vertical-align: top;\n",
              "    }\n",
              "\n",
              "    .dataframe thead th {\n",
              "        text-align: right;\n",
              "    }\n",
              "</style>\n",
              "<table border=\"1\" class=\"dataframe\">\n",
              "  <thead>\n",
              "    <tr style=\"text-align: right;\">\n",
              "      <th></th>\n",
              "      <th>Target</th>\n",
              "      <th>Headline</th>\n",
              "      <th>HeadlineDetail</th>\n",
              "      <th>HeadlineBody</th>\n",
              "    </tr>\n",
              "  </thead>\n",
              "  <tbody>\n",
              "    <tr>\n",
              "      <th>0</th>\n",
              "      <td>6.0</td>\n",
              "      <td>What is the best off-road motorcycle trail ?</td>\n",
              "      <td>long-distance trail throughout CA</td>\n",
              "      <td>i hear that the mojave road is amazing!&lt;br /&gt;\\...</td>\n",
              "    </tr>\n",
              "    <tr>\n",
              "      <th>1</th>\n",
              "      <td>3.0</td>\n",
              "      <td>What is Trans Fat? How to reduce that?</td>\n",
              "      <td>I heard that tras fat is bad for the body.  Wh...</td>\n",
              "      <td>Trans fats occur in manufactured foods during ...</td>\n",
              "    </tr>\n",
              "  </tbody>\n",
              "</table>\n",
              "</div>"
            ],
            "text/plain": [
              "   Target  ...                                       HeadlineBody\n",
              "0     6.0  ...  i hear that the mojave road is amazing!<br />\\...\n",
              "1     3.0  ...  Trans fats occur in manufactured foods during ...\n",
              "\n",
              "[2 rows x 4 columns]"
            ]
          },
          "metadata": {
            "tags": []
          },
          "execution_count": 10
        }
      ]
    },
    {
      "cell_type": "code",
      "metadata": {
        "id": "7kfS4r6jumO2",
        "colab_type": "code",
        "colab": {}
      },
      "source": [
        "data['text']= data['Headline']+ ' '+data['HeadlineBody']+ ' '+data['HeadlineDetail']"
      ],
      "execution_count": 0,
      "outputs": []
    },
    {
      "cell_type": "code",
      "metadata": {
        "id": "XSIq37OY8C4y",
        "colab_type": "code",
        "outputId": "8fad2292-f0bf-41e8-ae0b-b41804759dfa",
        "colab": {
          "base_uri": "https://localhost:8080/",
          "height": 147
        }
      },
      "source": [
        "data=data.dropna()\n",
        "data.head(2)"
      ],
      "execution_count": 12,
      "outputs": [
        {
          "output_type": "execute_result",
          "data": {
            "text/html": [
              "<div>\n",
              "<style scoped>\n",
              "    .dataframe tbody tr th:only-of-type {\n",
              "        vertical-align: middle;\n",
              "    }\n",
              "\n",
              "    .dataframe tbody tr th {\n",
              "        vertical-align: top;\n",
              "    }\n",
              "\n",
              "    .dataframe thead th {\n",
              "        text-align: right;\n",
              "    }\n",
              "</style>\n",
              "<table border=\"1\" class=\"dataframe\">\n",
              "  <thead>\n",
              "    <tr style=\"text-align: right;\">\n",
              "      <th></th>\n",
              "      <th>Target</th>\n",
              "      <th>Headline</th>\n",
              "      <th>HeadlineDetail</th>\n",
              "      <th>HeadlineBody</th>\n",
              "      <th>text</th>\n",
              "    </tr>\n",
              "  </thead>\n",
              "  <tbody>\n",
              "    <tr>\n",
              "      <th>0</th>\n",
              "      <td>6.0</td>\n",
              "      <td>What is the best off-road motorcycle trail ?</td>\n",
              "      <td>long-distance trail throughout CA</td>\n",
              "      <td>i hear that the mojave road is amazing!&lt;br /&gt;\\...</td>\n",
              "      <td>What is the best off-road motorcycle trail ? i...</td>\n",
              "    </tr>\n",
              "    <tr>\n",
              "      <th>1</th>\n",
              "      <td>3.0</td>\n",
              "      <td>What is Trans Fat? How to reduce that?</td>\n",
              "      <td>I heard that tras fat is bad for the body.  Wh...</td>\n",
              "      <td>Trans fats occur in manufactured foods during ...</td>\n",
              "      <td>What is Trans Fat? How to reduce that? Trans f...</td>\n",
              "    </tr>\n",
              "  </tbody>\n",
              "</table>\n",
              "</div>"
            ],
            "text/plain": [
              "   Target  ...                                               text\n",
              "0     6.0  ...  What is the best off-road motorcycle trail ? i...\n",
              "1     3.0  ...  What is Trans Fat? How to reduce that? Trans f...\n",
              "\n",
              "[2 rows x 5 columns]"
            ]
          },
          "metadata": {
            "tags": []
          },
          "execution_count": 12
        }
      ]
    },
    {
      "cell_type": "code",
      "metadata": {
        "id": "jth6q8NfQLe6",
        "colab_type": "code",
        "outputId": "a904f26c-0422-4db6-cd71-f1859e2a4ca3",
        "colab": {
          "base_uri": "https://localhost:8080/",
          "height": 127
        }
      },
      "source": [
        "data.isnull().sum()"
      ],
      "execution_count": 13,
      "outputs": [
        {
          "output_type": "execute_result",
          "data": {
            "text/plain": [
              "Target            0\n",
              "Headline          0\n",
              "HeadlineDetail    0\n",
              "HeadlineBody      0\n",
              "text              0\n",
              "dtype: int64"
            ]
          },
          "metadata": {
            "tags": []
          },
          "execution_count": 13
        }
      ]
    },
    {
      "cell_type": "code",
      "metadata": {
        "id": "Sz8bjF0WQUcH",
        "colab_type": "code",
        "outputId": "7643a9d1-e945-4e4c-8317-2c189ca6974d",
        "colab": {
          "base_uri": "https://localhost:8080/",
          "height": 147
        }
      },
      "source": [
        "#applying pre-processing steps to remove stopwords and words of size less than 2\n",
        "data['text'] = data['text'].apply(lambda x: x.split())\n",
        "wordsEng = stopwords.words('english')\n",
        "data['text'] = data['text'].apply(lambda x:[item for item in x if item not in wordsEng])\n",
        "data['text'] = data['text'].apply(lambda x: [w for w in x if len(w)>2])\n",
        "data['text'] = data['text'].apply(lambda x: \" \".join(x))\n",
        "data.head(2)"
      ],
      "execution_count": 14,
      "outputs": [
        {
          "output_type": "execute_result",
          "data": {
            "text/html": [
              "<div>\n",
              "<style scoped>\n",
              "    .dataframe tbody tr th:only-of-type {\n",
              "        vertical-align: middle;\n",
              "    }\n",
              "\n",
              "    .dataframe tbody tr th {\n",
              "        vertical-align: top;\n",
              "    }\n",
              "\n",
              "    .dataframe thead th {\n",
              "        text-align: right;\n",
              "    }\n",
              "</style>\n",
              "<table border=\"1\" class=\"dataframe\">\n",
              "  <thead>\n",
              "    <tr style=\"text-align: right;\">\n",
              "      <th></th>\n",
              "      <th>Target</th>\n",
              "      <th>Headline</th>\n",
              "      <th>HeadlineDetail</th>\n",
              "      <th>HeadlineBody</th>\n",
              "      <th>text</th>\n",
              "    </tr>\n",
              "  </thead>\n",
              "  <tbody>\n",
              "    <tr>\n",
              "      <th>0</th>\n",
              "      <td>6.0</td>\n",
              "      <td>What is the best off-road motorcycle trail ?</td>\n",
              "      <td>long-distance trail throughout CA</td>\n",
              "      <td>i hear that the mojave road is amazing!&lt;br /&gt;\\...</td>\n",
              "      <td>What best off-road motorcycle trail hear mojav...</td>\n",
              "    </tr>\n",
              "    <tr>\n",
              "      <th>1</th>\n",
              "      <td>3.0</td>\n",
              "      <td>What is Trans Fat? How to reduce that?</td>\n",
              "      <td>I heard that tras fat is bad for the body.  Wh...</td>\n",
              "      <td>Trans fats occur in manufactured foods during ...</td>\n",
              "      <td>What Trans Fat? How reduce that? Trans fats oc...</td>\n",
              "    </tr>\n",
              "  </tbody>\n",
              "</table>\n",
              "</div>"
            ],
            "text/plain": [
              "   Target  ...                                               text\n",
              "0     6.0  ...  What best off-road motorcycle trail hear mojav...\n",
              "1     3.0  ...  What Trans Fat? How reduce that? Trans fats oc...\n",
              "\n",
              "[2 rows x 5 columns]"
            ]
          },
          "metadata": {
            "tags": []
          },
          "execution_count": 14
        }
      ]
    },
    {
      "cell_type": "code",
      "metadata": {
        "id": "XoO_hRd6RGzB",
        "colab_type": "code",
        "colab": {}
      },
      "source": [
        "data.reset_index(inplace=True)"
      ],
      "execution_count": 0,
      "outputs": []
    },
    {
      "cell_type": "code",
      "metadata": {
        "id": "7ScjBQbm7tZu",
        "colab_type": "code",
        "colab": {}
      },
      "source": [
        "#removing airline company names as pre-processing\n",
        "testList=[]\n",
        "def strip_links(text):\n",
        "    link_regex    = re.compile('((https?):((//)|(\\\\\\\\))+([\\w\\d:#@%/;$()~_?\\+-=\\\\\\.&](#!)?)*)', re.DOTALL)\n",
        "    links         = re.findall(link_regex, text)\n",
        "    for link in links:\n",
        "        text = text.replace(link[0], ', ')    \n",
        "    return text\n",
        "\n",
        "def strip_all_entities(text):\n",
        "    entity_prefixes = ['@','#']\n",
        "    for separator in  string.punctuation:\n",
        "        if separator not in entity_prefixes :\n",
        "            text = text.replace(separator,' ')\n",
        "    words = []\n",
        "    for word in text.split():\n",
        "        word = word.strip()\n",
        "        if word:\n",
        "            if word[0] not in entity_prefixes:\n",
        "                words.append(word)\n",
        "    return ' '.join(words)\n",
        "\n",
        "\n",
        "for t in range(len(data)):\n",
        "    testList.append(strip_all_entities(strip_links(data['text'][t])))"
      ],
      "execution_count": 0,
      "outputs": []
    },
    {
      "cell_type": "code",
      "metadata": {
        "id": "4iGXiIHzRD7e",
        "colab_type": "code",
        "outputId": "6817e5fc-0847-42c3-bd6f-7b92e11b39e6",
        "colab": {
          "base_uri": "https://localhost:8080/",
          "height": 112
        }
      },
      "source": [
        "#converting testList[] list into dataframe for further processing\n",
        "dat = pd.DataFrame(np.array(testList))\n",
        "dat.head(2)"
      ],
      "execution_count": 17,
      "outputs": [
        {
          "output_type": "execute_result",
          "data": {
            "text/html": [
              "<div>\n",
              "<style scoped>\n",
              "    .dataframe tbody tr th:only-of-type {\n",
              "        vertical-align: middle;\n",
              "    }\n",
              "\n",
              "    .dataframe tbody tr th {\n",
              "        vertical-align: top;\n",
              "    }\n",
              "\n",
              "    .dataframe thead th {\n",
              "        text-align: right;\n",
              "    }\n",
              "</style>\n",
              "<table border=\"1\" class=\"dataframe\">\n",
              "  <thead>\n",
              "    <tr style=\"text-align: right;\">\n",
              "      <th></th>\n",
              "      <th>0</th>\n",
              "    </tr>\n",
              "  </thead>\n",
              "  <tbody>\n",
              "    <tr>\n",
              "      <th>0</th>\n",
              "      <td>What best off road motorcycle trail hear mojav...</td>\n",
              "    </tr>\n",
              "    <tr>\n",
              "      <th>1</th>\n",
              "      <td>What Trans Fat How reduce that Trans fats occu...</td>\n",
              "    </tr>\n",
              "  </tbody>\n",
              "</table>\n",
              "</div>"
            ],
            "text/plain": [
              "                                                   0\n",
              "0  What best off road motorcycle trail hear mojav...\n",
              "1  What Trans Fat How reduce that Trans fats occu..."
            ]
          },
          "metadata": {
            "tags": []
          },
          "execution_count": 17
        }
      ]
    },
    {
      "cell_type": "code",
      "metadata": {
        "id": "lM_bN-QPRYMA",
        "colab_type": "code",
        "colab": {}
      },
      "source": [
        "# applying pre-processing to remove special symbols, numbers and converting into lower case\n",
        "sw = stopwords.words('english')\n",
        "twitterSentiment=[]\n",
        "for i in range(len(dat)):\n",
        "    review = re.sub('[^a-zA-Z]', ' ',dat[0][i])\n",
        "    review = re.sub('[/(){}\\[\\]\\|@!,;]', ' ',dat[0][i])\n",
        "    review = re.sub('[^0-9a-zA-Z #+_♥️]', ' ',dat[0][i])#Remove bad symbols\n",
        "    \n",
        "    review = re.sub(r'\\d+', '',review)\n",
        "    review = review.lower()\n",
        "    review = review.split()\n",
        "\n",
        "    review = [token for token in review if token not in sw]\n",
        "    review=' '.join(review)\n",
        "    review=' '.join(re.sub(\"(@[A-Za-z0-9]+)|([^0-9A-Za-z \\t])|(\\w+:\\/\\/\\S+)\",\" \",review).split())\n",
        "    twitterSentiment.append(review)"
      ],
      "execution_count": 0,
      "outputs": []
    },
    {
      "cell_type": "code",
      "metadata": {
        "id": "kUVy8XJuQBVp",
        "colab_type": "code",
        "outputId": "c222534d-2eca-4f97-f560-9f0c5eea3d8b",
        "colab": {
          "base_uri": "https://localhost:8080/",
          "height": 206
        }
      },
      "source": [
        "#converting twitterSentiment[] list into dataframe for serving it to keras tokenizer\n",
        "dataSetFinal = pd.DataFrame(np.array(twitterSentiment))\n",
        "dataSetFinal.head(5)"
      ],
      "execution_count": 19,
      "outputs": [
        {
          "output_type": "execute_result",
          "data": {
            "text/html": [
              "<div>\n",
              "<style scoped>\n",
              "    .dataframe tbody tr th:only-of-type {\n",
              "        vertical-align: middle;\n",
              "    }\n",
              "\n",
              "    .dataframe tbody tr th {\n",
              "        vertical-align: top;\n",
              "    }\n",
              "\n",
              "    .dataframe thead th {\n",
              "        text-align: right;\n",
              "    }\n",
              "</style>\n",
              "<table border=\"1\" class=\"dataframe\">\n",
              "  <thead>\n",
              "    <tr style=\"text-align: right;\">\n",
              "      <th></th>\n",
              "      <th>0</th>\n",
              "    </tr>\n",
              "  </thead>\n",
              "  <tbody>\n",
              "    <tr>\n",
              "      <th>0</th>\n",
              "      <td>best road motorcycle trail hear mojave road am...</td>\n",
              "    </tr>\n",
              "    <tr>\n",
              "      <th>1</th>\n",
              "      <td>trans fat reduce trans fats occur manufactured...</td>\n",
              "    </tr>\n",
              "    <tr>\n",
              "      <th>2</th>\n",
              "      <td>many planes fedex according www fedex com web ...</td>\n",
              "    </tr>\n",
              "    <tr>\n",
              "      <th>3</th>\n",
              "      <td>san francisco bay area make sense rent buy ren...</td>\n",
              "    </tr>\n",
              "    <tr>\n",
              "      <th>4</th>\n",
              "      <td>best way clean keyboard commercial kits availa...</td>\n",
              "    </tr>\n",
              "  </tbody>\n",
              "</table>\n",
              "</div>"
            ],
            "text/plain": [
              "                                                   0\n",
              "0  best road motorcycle trail hear mojave road am...\n",
              "1  trans fat reduce trans fats occur manufactured...\n",
              "2  many planes fedex according www fedex com web ...\n",
              "3  san francisco bay area make sense rent buy ren...\n",
              "4  best way clean keyboard commercial kits availa..."
            ]
          },
          "metadata": {
            "tags": []
          },
          "execution_count": 19
        }
      ]
    },
    {
      "cell_type": "code",
      "metadata": {
        "id": "PJAJhA6PSccq",
        "colab_type": "code",
        "colab": {}
      },
      "source": [
        "tokenizer = tensorflow.keras.preprocessing.text.Tokenizer(num_words=7500, lower=True,split=' ',filters='!\"#$%&()*+,-./:;<=>?@[\\\\]^_`{|}~\\t\\n')\n",
        "tokenizer.fit_on_texts(dataSetFinal[0].values)\n",
        "#print(tokenizer.word_index)  # To see the dicstionary\n",
        "X = tokenizer.texts_to_sequences(dataSetFinal[0].values)\n",
        "X = tensorflow.keras.preprocessing.sequence.pad_sequences(X)"
      ],
      "execution_count": 0,
      "outputs": []
    },
    {
      "cell_type": "code",
      "metadata": {
        "id": "GhSmODALTCLO",
        "colab_type": "code",
        "outputId": "addb3d74-280b-45f9-9cec-85fed0887611",
        "colab": {
          "base_uri": "https://localhost:8080/",
          "height": 900
        }
      },
      "source": [
        "from keras import optimizers\n",
        "from keras import regularizers\n",
        "from keras import optimizers\n",
        "from keras import backend as K\n",
        "print(\"training CNN ...\")\n",
        "#Deep Learning Network Structure\n",
        "model = Sequential()\n",
        "model.add(Embedding(7500,300, input_length=X.shape[1]))\n",
        "model.add(Conv1D(64, 7, activation='relu', padding='same'))\n",
        "model.add(MaxPooling1D(2))\n",
        "model.add(Conv1D(64, 7, activation='relu', padding='same'))\n",
        "model.add(GlobalMaxPooling1D())\n",
        "model.add(Dropout(0.5))\n",
        "model.add(Dense(32, activation='relu', kernel_regularizer=regularizers.l2(1e-4)))\n",
        "model.add(Dense(10, activation='softmax'))  #multi-label (k-hot encoding)\n",
        "\n",
        "adam = optimizers.Adam(lr=0.001, beta_1=0.9, beta_2=0.999, epsilon=1e-08, decay=0.0)\n",
        "model.compile(loss='binary_crossentropy', optimizer=adam, metrics=['accuracy','mae',keras_metrics.precision(), keras_metrics.recall()])\n",
        "model.summary()"
      ],
      "execution_count": 21,
      "outputs": [
        {
          "output_type": "stream",
          "text": [
            "training CNN ...\n",
            "WARNING:tensorflow:From /usr/local/lib/python3.6/dist-packages/keras/backend/tensorflow_backend.py:66: The name tf.get_default_graph is deprecated. Please use tf.compat.v1.get_default_graph instead.\n",
            "\n",
            "WARNING:tensorflow:From /usr/local/lib/python3.6/dist-packages/keras/backend/tensorflow_backend.py:541: The name tf.placeholder is deprecated. Please use tf.compat.v1.placeholder instead.\n",
            "\n",
            "WARNING:tensorflow:From /usr/local/lib/python3.6/dist-packages/keras/backend/tensorflow_backend.py:4432: The name tf.random_uniform is deprecated. Please use tf.random.uniform instead.\n",
            "\n",
            "WARNING:tensorflow:From /usr/local/lib/python3.6/dist-packages/keras/backend/tensorflow_backend.py:4267: The name tf.nn.max_pool is deprecated. Please use tf.nn.max_pool2d instead.\n",
            "\n",
            "WARNING:tensorflow:From /usr/local/lib/python3.6/dist-packages/keras/backend/tensorflow_backend.py:148: The name tf.placeholder_with_default is deprecated. Please use tf.compat.v1.placeholder_with_default instead.\n",
            "\n",
            "WARNING:tensorflow:From /usr/local/lib/python3.6/dist-packages/keras/backend/tensorflow_backend.py:3733: calling dropout (from tensorflow.python.ops.nn_ops) with keep_prob is deprecated and will be removed in a future version.\n",
            "Instructions for updating:\n",
            "Please use `rate` instead of `keep_prob`. Rate should be set to `rate = 1 - keep_prob`.\n",
            "WARNING:tensorflow:From /usr/local/lib/python3.6/dist-packages/keras/optimizers.py:793: The name tf.train.Optimizer is deprecated. Please use tf.compat.v1.train.Optimizer instead.\n",
            "\n",
            "WARNING:tensorflow:From /usr/local/lib/python3.6/dist-packages/keras/backend/tensorflow_backend.py:3657: The name tf.log is deprecated. Please use tf.math.log instead.\n",
            "\n",
            "WARNING:tensorflow:From /usr/local/lib/python3.6/dist-packages/tensorflow_core/python/ops/nn_impl.py:183: where (from tensorflow.python.ops.array_ops) is deprecated and will be removed in a future version.\n",
            "Instructions for updating:\n",
            "Use tf.where in 2.0, which has the same broadcast rule as np.where\n",
            "WARNING:tensorflow:From /usr/local/lib/python3.6/dist-packages/keras/backend/tensorflow_backend.py:1033: The name tf.assign_add is deprecated. Please use tf.compat.v1.assign_add instead.\n",
            "\n",
            "Model: \"sequential_1\"\n",
            "_________________________________________________________________\n",
            "Layer (type)                 Output Shape              Param #   \n",
            "=================================================================\n",
            "embedding_1 (Embedding)      (None, 752, 300)          2250000   \n",
            "_________________________________________________________________\n",
            "conv1d_1 (Conv1D)            (None, 752, 64)           134464    \n",
            "_________________________________________________________________\n",
            "max_pooling1d_1 (MaxPooling1 (None, 376, 64)           0         \n",
            "_________________________________________________________________\n",
            "conv1d_2 (Conv1D)            (None, 376, 64)           28736     \n",
            "_________________________________________________________________\n",
            "global_max_pooling1d_1 (Glob (None, 64)                0         \n",
            "_________________________________________________________________\n",
            "dropout_1 (Dropout)          (None, 64)                0         \n",
            "_________________________________________________________________\n",
            "dense_1 (Dense)              (None, 32)                2080      \n",
            "_________________________________________________________________\n",
            "dense_2 (Dense)              (None, 10)                330       \n",
            "=================================================================\n",
            "Total params: 2,415,610\n",
            "Trainable params: 2,415,610\n",
            "Non-trainable params: 0\n",
            "_________________________________________________________________\n"
          ],
          "name": "stdout"
        }
      ]
    },
    {
      "cell_type": "code",
      "metadata": {
        "id": "LNQ1cK7qTlO7",
        "colab_type": "code",
        "colab": {}
      },
      "source": [
        "#define callbacks\n",
        "early_stopping = EarlyStopping(monitor='val_loss', min_delta=0.01, patience=4, verbose=1)\n",
        "callbacks_list = [early_stopping]"
      ],
      "execution_count": 0,
      "outputs": []
    },
    {
      "cell_type": "code",
      "metadata": {
        "id": "bG0koaMGTXO-",
        "colab_type": "code",
        "outputId": "ea8e8efc-e4ef-418a-e67e-07fbac4c4a48",
        "colab": {
          "base_uri": "https://localhost:8080/",
          "height": 533
        }
      },
      "source": [
        "#batch_size=64\n",
        "Y = pd.get_dummies(data['Target']).values\n",
        "X_train, X_valid, Y_train, Y_valid = train_test_split(X,Y, test_size = 0.30)\n",
        "#Here we train the Network.\n",
        "\n",
        "#model training\n",
        "hist = model.fit(X_train, Y_train, batch_size=256, epochs=8, callbacks=callbacks_list, validation_split=0.1, shuffle=True, verbose=2)\n",
        "hist"
      ],
      "execution_count": 23,
      "outputs": [
        {
          "output_type": "stream",
          "text": [
            "WARNING:tensorflow:From /usr/local/lib/python3.6/dist-packages/keras/backend/tensorflow_backend.py:1020: The name tf.assign is deprecated. Please use tf.compat.v1.assign instead.\n",
            "\n",
            "WARNING:tensorflow:From /usr/local/lib/python3.6/dist-packages/keras/backend/tensorflow_backend.py:3005: The name tf.Session is deprecated. Please use tf.compat.v1.Session instead.\n",
            "\n",
            "Train on 474801 samples, validate on 52756 samples\n",
            "WARNING:tensorflow:From /usr/local/lib/python3.6/dist-packages/keras/backend/tensorflow_backend.py:190: The name tf.get_default_session is deprecated. Please use tf.compat.v1.get_default_session instead.\n",
            "\n",
            "WARNING:tensorflow:From /usr/local/lib/python3.6/dist-packages/keras/backend/tensorflow_backend.py:197: The name tf.ConfigProto is deprecated. Please use tf.compat.v1.ConfigProto instead.\n",
            "\n",
            "WARNING:tensorflow:From /usr/local/lib/python3.6/dist-packages/keras/backend/tensorflow_backend.py:207: The name tf.global_variables is deprecated. Please use tf.compat.v1.global_variables instead.\n",
            "\n",
            "WARNING:tensorflow:From /usr/local/lib/python3.6/dist-packages/keras/backend/tensorflow_backend.py:216: The name tf.is_variable_initialized is deprecated. Please use tf.compat.v1.is_variable_initialized instead.\n",
            "\n",
            "WARNING:tensorflow:From /usr/local/lib/python3.6/dist-packages/keras/backend/tensorflow_backend.py:223: The name tf.variables_initializer is deprecated. Please use tf.compat.v1.variables_initializer instead.\n",
            "\n",
            "Epoch 1/8\n",
            " - 116s - loss: 0.1752 - acc: 0.9400 - mean_absolute_error: 0.0966 - precision: 0.7791 - recall: 0.3707 - val_loss: 0.1417 - val_acc: 0.9504 - val_mean_absolute_error: 0.0776 - val_precision: 0.8082 - val_recall: 0.4661\n",
            "Epoch 2/8\n",
            " - 110s - loss: 0.1470 - acc: 0.9491 - mean_absolute_error: 0.0809 - precision: 0.7891 - recall: 0.4569 - val_loss: 0.1369 - val_acc: 0.9516 - val_mean_absolute_error: 0.0756 - val_precision: 0.7812 - val_recall: 0.4940\n",
            "Epoch 3/8\n",
            " - 113s - loss: 0.1396 - acc: 0.9514 - mean_absolute_error: 0.0770 - precision: 0.7940 - recall: 0.4846 - val_loss: 0.1361 - val_acc: 0.9519 - val_mean_absolute_error: 0.0755 - val_precision: 0.7990 - val_recall: 0.4860\n",
            "Epoch 4/8\n",
            " - 112s - loss: 0.1338 - acc: 0.9534 - mean_absolute_error: 0.0737 - precision: 0.7961 - recall: 0.5080 - val_loss: 0.1369 - val_acc: 0.9516 - val_mean_absolute_error: 0.0736 - val_precision: 0.7603 - val_recall: 0.5266\n",
            "Epoch 5/8\n",
            " - 110s - loss: 0.1279 - acc: 0.9554 - mean_absolute_error: 0.0705 - precision: 0.8011 - recall: 0.5289 - val_loss: 0.1376 - val_acc: 0.9514 - val_mean_absolute_error: 0.0739 - val_precision: 0.7614 - val_recall: 0.5203\n",
            "Epoch 00005: early stopping\n"
          ],
          "name": "stdout"
        },
        {
          "output_type": "execute_result",
          "data": {
            "text/plain": [
              "<keras.callbacks.History at 0x7ff2480d9898>"
            ]
          },
          "metadata": {
            "tags": []
          },
          "execution_count": 23
        }
      ]
    },
    {
      "cell_type": "code",
      "metadata": {
        "id": "H2LU8Ao1U0NK",
        "colab_type": "code",
        "colab": {
          "base_uri": "https://localhost:8080/",
          "height": 90
        },
        "outputId": "d4ed208a-2097-4104-c951-124363986a4f"
      },
      "source": [
        "score=[]\n",
        "score=model.evaluate(X_valid,Y_valid,verbose=2,batch_size=256)\n",
        "#keras.metrics.binary_accuracy(Y_valid,pred)\n",
        "print(\"score: %.2f\" %(score[0]))\n",
        "print(\"validation accuracy: %.2f\" % (score[1]))\n",
        "print(\"recall: %.2f\" %(score[4]))\n",
        "print(\"Precision: %.2f\" % (score[3]))"
      ],
      "execution_count": 24,
      "outputs": [
        {
          "output_type": "stream",
          "text": [
            "score: 0.14\n",
            "validation accuracy: 0.95\n",
            "recall: 0.52\n",
            "Precision: 0.76\n"
          ],
          "name": "stdout"
        }
      ]
    },
    {
      "cell_type": "code",
      "metadata": {
        "id": "YZcvDB4o7YZ3",
        "colab_type": "code",
        "colab": {
          "base_uri": "https://localhost:8080/",
          "height": 295
        },
        "outputId": "888787b3-61e0-4e6c-d254-34f90f818506"
      },
      "source": [
        "#generate plots\n",
        "from google.colab import files\n",
        "plt.figure()\n",
        "plt.plot(hist.history['loss'], lw=2.0, color='b', label='train')\n",
        "plt.plot(hist.history['val_loss'], lw=2.0, color='r', label='val')\n",
        "plt.title('CNN sentiment')\n",
        "plt.xlabel('Epochs')\n",
        "plt.ylabel('Cross-Entropy Loss')\n",
        "plt.legend(loc='upper right')\n",
        "plt.savefig('training & validation LossYAhooQAPT.pdf')\n",
        "files.download('training & validation LossYAhooQAPT.pdf') \n",
        "plt.show()"
      ],
      "execution_count": 25,
      "outputs": [
        {
          "output_type": "display_data",
          "data": {
            "image/png": "[encoded data removed]",
            "text/plain": [
              "<Figure size 432x288 with 1 Axes>"
            ]
          },
          "metadata": {
            "tags": []
          }
        }
      ]
    },
    {
      "cell_type": "code",
      "metadata": {
        "id": "S1XhLUvK7bkK",
        "colab_type": "code",
        "colab": {
          "base_uri": "https://localhost:8080/",
          "height": 295
        },
        "outputId": "9902ed1c-dfbe-437e-c0d8-74248bdfe89b"
      },
      "source": [
        "plt.figure()\n",
        "plt.plot(hist.history['acc'], lw=2.0, color='b', label='train')\n",
        "plt.plot(hist.history['val_acc'], lw=2.0, color='r', label='val')\n",
        "plt.title('CNN sentiment')\n",
        "plt.xlabel('Epochs')\n",
        "plt.ylabel('Accuracy')\n",
        "plt.legend(loc='upper left')\n",
        "plt.savefig('training & validation accuracyYAhooQAPT.pdf')\n",
        "files.download('training & validation accuracyYAhooQAPT.pdf')\n",
        "plt.show()"
      ],
      "execution_count": 27,
      "outputs": [
        {
          "output_type": "display_data",
          "data": {
            "image/png": "[encoded data removed]",
            "text/plain": [
              "<Figure size 432x288 with 1 Axes>"
            ]
          },
          "metadata": {
            "tags": []
          }
        }
      ]
    }
  ]
}