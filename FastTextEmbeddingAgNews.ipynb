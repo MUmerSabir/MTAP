{
 "cells": [
  {
   "cell_type": "code",
   "execution_count": 1,
   "metadata": {},
   "outputs": [
    {
     "name": "stderr",
     "output_type": "stream",
     "text": [
      "C:\\Users\\Mobeen Shahroz\\AppData\\Local\\Continuum\\anaconda3\\lib\\site-packages\\h5py\\__init__.py:36: FutureWarning: Conversion of the second argument of issubdtype from `float` to `np.floating` is deprecated. In future, it will be treated as `np.float64 == np.dtype(float).type`.\n",
      "  from ._conv import register_converters as _register_converters\n",
      "Using TensorFlow backend.\n"
     ]
    }
   ],
   "source": [
    "# importing all necessary libraries to run the code\n",
    "import re,string\n",
    "import numpy as np\n",
    "import pandas as pd\n",
    "import keras_metrics\n",
    "import tensorflow.keras\n",
    "import matplotlib.pyplot as plt\n",
    "from nltk.corpus import stopwords\n",
    "from keras.models import Sequential\n",
    "from sklearn.model_selection import train_test_split\n",
    "from keras.callbacks import EarlyStopping\n",
    "from keras.layers import Dense, Flatten, LSTM, Conv1D, MaxPooling1D, Dropout, Activation,Embedding,GlobalMaxPooling1D\n",
    "# using the variable sw to hold all stopwords that are in English\n",
    "sw = stopwords.words('english')"
   ]
  },
  {
   "cell_type": "code",
   "execution_count": 4,
   "metadata": {},
   "outputs": [],
   "source": [
    "#reading dataset\n",
    "data=pd.read_csv('train.csv')"
   ]
  },
  {
   "cell_type": "code",
   "execution_count": null,
   "metadata": {},
   "outputs": [],
   "source": []
  },
  {
   "cell_type": "code",
   "execution_count": 2,
   "metadata": {},
   "outputs": [
    {
     "name": "stdout",
     "output_type": "stream",
     "text": [
      "loading word embeddings...\n"
     ]
    },
    {
     "name": "stderr",
     "output_type": "stream",
     "text": [
      "1999996it [08:19, 4001.86it/s]\n"
     ]
    },
    {
     "name": "stdout",
     "output_type": "stream",
     "text": [
      "found 1999996 word vectors\n"
     ]
    }
   ],
   "source": [
    "from tqdm import tqdm\n",
    "import os, re, csv, math, codecs\n",
    "#load embeddings\n",
    "print('loading word embeddings...')\n",
    "embeddings_index = {}\n",
    "f = codecs.open('crawl-300d-2M.vec', encoding='utf-8')\n",
    "for line in tqdm(f):\n",
    "    values = line.rstrip().rsplit(' ')\n",
    "    word = values[0]\n",
    "    coefs = np.asarray(values[1:], dtype='float32')\n",
    "    embeddings_index[word] = coefs\n",
    "f.close()\n",
    "print('found %s word vectors' % len(embeddings_index))"
   ]
  },
  {
   "cell_type": "code",
   "execution_count": 24,
   "metadata": {},
   "outputs": [],
   "source": [
    "MAX_NB_WORDS = 100000\n",
    "embed_dim = 300 \n",
    "max_seq_len =94\n",
    "#training params\n",
    "batch_size = 256 \n",
    "num_epochs = 8 \n",
    "\n",
    "#model parameters\n",
    "num_filters = 64 \n",
    "embed_dim = 300 \n",
    "weight_decay = 1e-4"
   ]
  },
  {
   "cell_type": "code",
   "execution_count": 6,
   "metadata": {},
   "outputs": [
    {
     "data": {
      "text/html": [
       "<div>\n",
       "<style scoped>\n",
       "    .dataframe tbody tr th:only-of-type {\n",
       "        vertical-align: middle;\n",
       "    }\n",
       "\n",
       "    .dataframe tbody tr th {\n",
       "        vertical-align: top;\n",
       "    }\n",
       "\n",
       "    .dataframe thead th {\n",
       "        text-align: right;\n",
       "    }\n",
       "</style>\n",
       "<table border=\"1\" class=\"dataframe\">\n",
       "  <thead>\n",
       "    <tr style=\"text-align: right;\">\n",
       "      <th></th>\n",
       "      <th>3</th>\n",
       "      <th>Wall St. Bears Claw Back Into the Black (Reuters)</th>\n",
       "      <th>Reuters - Short-sellers, Wall Street's dwindling\\band of ultra-cynics, are seeing green again.</th>\n",
       "    </tr>\n",
       "  </thead>\n",
       "  <tbody>\n",
       "    <tr>\n",
       "      <th>0</th>\n",
       "      <td>3</td>\n",
       "      <td>Carlyle Looks Toward Commercial Aerospace (Reu...</td>\n",
       "      <td>Reuters - Private investment firm Carlyle Grou...</td>\n",
       "    </tr>\n",
       "    <tr>\n",
       "      <th>1</th>\n",
       "      <td>3</td>\n",
       "      <td>Oil and Economy Cloud Stocks' Outlook (Reuters)</td>\n",
       "      <td>Reuters - Soaring crude prices plus worries\\ab...</td>\n",
       "    </tr>\n",
       "  </tbody>\n",
       "</table>\n",
       "</div>"
      ],
      "text/plain": [
       "   3  Wall St. Bears Claw Back Into the Black (Reuters)  \\\n",
       "0  3  Carlyle Looks Toward Commercial Aerospace (Reu...   \n",
       "1  3    Oil and Economy Cloud Stocks' Outlook (Reuters)   \n",
       "\n",
       "  Reuters - Short-sellers, Wall Street's dwindling\\band of ultra-cynics, are seeing green again.  \n",
       "0  Reuters - Private investment firm Carlyle Grou...                                              \n",
       "1  Reuters - Soaring crude prices plus worries\\ab...                                              "
      ]
     },
     "execution_count": 6,
     "metadata": {},
     "output_type": "execute_result"
    }
   ],
   "source": [
    "#checking dataset values type\n",
    "data.head(2)"
   ]
  },
  {
   "cell_type": "code",
   "execution_count": 7,
   "metadata": {},
   "outputs": [
    {
     "data": {
      "text/html": [
       "<div>\n",
       "<style scoped>\n",
       "    .dataframe tbody tr th:only-of-type {\n",
       "        vertical-align: middle;\n",
       "    }\n",
       "\n",
       "    .dataframe tbody tr th {\n",
       "        vertical-align: top;\n",
       "    }\n",
       "\n",
       "    .dataframe thead th {\n",
       "        text-align: right;\n",
       "    }\n",
       "</style>\n",
       "<table border=\"1\" class=\"dataframe\">\n",
       "  <thead>\n",
       "    <tr style=\"text-align: right;\">\n",
       "      <th></th>\n",
       "      <th>Target</th>\n",
       "      <th>Headline</th>\n",
       "      <th>HeadlineBody</th>\n",
       "    </tr>\n",
       "  </thead>\n",
       "  <tbody>\n",
       "    <tr>\n",
       "      <th>0</th>\n",
       "      <td>3</td>\n",
       "      <td>Carlyle Looks Toward Commercial Aerospace (Reu...</td>\n",
       "      <td>Reuters - Private investment firm Carlyle Grou...</td>\n",
       "    </tr>\n",
       "    <tr>\n",
       "      <th>1</th>\n",
       "      <td>3</td>\n",
       "      <td>Oil and Economy Cloud Stocks' Outlook (Reuters)</td>\n",
       "      <td>Reuters - Soaring crude prices plus worries\\ab...</td>\n",
       "    </tr>\n",
       "  </tbody>\n",
       "</table>\n",
       "</div>"
      ],
      "text/plain": [
       "   Target                                           Headline  \\\n",
       "0       3  Carlyle Looks Toward Commercial Aerospace (Reu...   \n",
       "1       3    Oil and Economy Cloud Stocks' Outlook (Reuters)   \n",
       "\n",
       "                                        HeadlineBody  \n",
       "0  Reuters - Private investment firm Carlyle Grou...  \n",
       "1  Reuters - Soaring crude prices plus worries\\ab...  "
      ]
     },
     "execution_count": 7,
     "metadata": {},
     "output_type": "execute_result"
    }
   ],
   "source": [
    "data.columns=['Target','Headline','HeadlineBody']\n",
    "data.head(2)"
   ]
  },
  {
   "cell_type": "code",
   "execution_count": 8,
   "metadata": {},
   "outputs": [],
   "source": [
    "data['text']= data['Headline']+ ' '+data['HeadlineBody']\n",
    "#data['text']"
   ]
  },
  {
   "cell_type": "code",
   "execution_count": 9,
   "metadata": {},
   "outputs": [
    {
     "data": {
      "text/html": [
       "<div>\n",
       "<style scoped>\n",
       "    .dataframe tbody tr th:only-of-type {\n",
       "        vertical-align: middle;\n",
       "    }\n",
       "\n",
       "    .dataframe tbody tr th {\n",
       "        vertical-align: top;\n",
       "    }\n",
       "\n",
       "    .dataframe thead th {\n",
       "        text-align: right;\n",
       "    }\n",
       "</style>\n",
       "<table border=\"1\" class=\"dataframe\">\n",
       "  <thead>\n",
       "    <tr style=\"text-align: right;\">\n",
       "      <th></th>\n",
       "      <th>Target</th>\n",
       "      <th>Headline</th>\n",
       "      <th>HeadlineBody</th>\n",
       "      <th>text</th>\n",
       "    </tr>\n",
       "  </thead>\n",
       "  <tbody>\n",
       "    <tr>\n",
       "      <th>0</th>\n",
       "      <td>3</td>\n",
       "      <td>Carlyle Looks Toward Commercial Aerospace (Reu...</td>\n",
       "      <td>Reuters - Private investment firm Carlyle Grou...</td>\n",
       "      <td>Carlyle Looks Toward Commercial Aerospace (Reu...</td>\n",
       "    </tr>\n",
       "    <tr>\n",
       "      <th>1</th>\n",
       "      <td>3</td>\n",
       "      <td>Oil and Economy Cloud Stocks' Outlook (Reuters)</td>\n",
       "      <td>Reuters - Soaring crude prices plus worries\\ab...</td>\n",
       "      <td>Oil Economy Cloud Stocks' Outlook (Reuters) Re...</td>\n",
       "    </tr>\n",
       "  </tbody>\n",
       "</table>\n",
       "</div>"
      ],
      "text/plain": [
       "   Target                                           Headline  \\\n",
       "0       3  Carlyle Looks Toward Commercial Aerospace (Reu...   \n",
       "1       3    Oil and Economy Cloud Stocks' Outlook (Reuters)   \n",
       "\n",
       "                                        HeadlineBody  \\\n",
       "0  Reuters - Private investment firm Carlyle Grou...   \n",
       "1  Reuters - Soaring crude prices plus worries\\ab...   \n",
       "\n",
       "                                                text  \n",
       "0  Carlyle Looks Toward Commercial Aerospace (Reu...  \n",
       "1  Oil Economy Cloud Stocks' Outlook (Reuters) Re...  "
      ]
     },
     "execution_count": 9,
     "metadata": {},
     "output_type": "execute_result"
    }
   ],
   "source": [
    "#applying pre-processing steps to remove stopwords and words of size less than 2\n",
    "data['text'] = data['text'].apply(lambda x: x.split())\n",
    "wordsEng = stopwords.words('english')\n",
    "data['text'] = data['text'].apply(lambda x:[item for item in x if item not in wordsEng])\n",
    "data['text'] = data['text'].apply(lambda x: [w for w in x if len(w)>2])\n",
    "data['text'] = data['text'].apply(lambda x: \" \".join(x))\n",
    "data.head(2)"
   ]
  },
  {
   "cell_type": "code",
   "execution_count": 10,
   "metadata": {},
   "outputs": [],
   "source": [
    "#removing airline company names as pre-processing\n",
    "testList=[]\n",
    "def strip_links(text):\n",
    "    link_regex    = re.compile('((https?):((//)|(\\\\\\\\))+([\\w\\d:#@%/;$()~_?\\+-=\\\\\\.&](#!)?)*)', re.DOTALL)\n",
    "    links         = re.findall(link_regex, text)\n",
    "    for link in links:\n",
    "        text = text.replace(link[0], ', ')    \n",
    "    return text\n",
    "\n",
    "def strip_all_entities(text):\n",
    "    entity_prefixes = ['@','#']\n",
    "    for separator in  string.punctuation:\n",
    "        if separator not in entity_prefixes :\n",
    "            text = text.replace(separator,' ')\n",
    "    words = []\n",
    "    for word in text.split():\n",
    "        word = word.strip()\n",
    "        if word:\n",
    "            if word[0] not in entity_prefixes:\n",
    "                words.append(word)\n",
    "    return ' '.join(words)\n",
    "\n",
    "\n",
    "for t in range(len(data)):\n",
    "    testList.append(strip_all_entities(strip_links(data['text'][t])))"
   ]
  },
  {
   "cell_type": "code",
   "execution_count": 11,
   "metadata": {},
   "outputs": [
    {
     "data": {
      "text/html": [
       "<div>\n",
       "<style scoped>\n",
       "    .dataframe tbody tr th:only-of-type {\n",
       "        vertical-align: middle;\n",
       "    }\n",
       "\n",
       "    .dataframe tbody tr th {\n",
       "        vertical-align: top;\n",
       "    }\n",
       "\n",
       "    .dataframe thead th {\n",
       "        text-align: right;\n",
       "    }\n",
       "</style>\n",
       "<table border=\"1\" class=\"dataframe\">\n",
       "  <thead>\n",
       "    <tr style=\"text-align: right;\">\n",
       "      <th></th>\n",
       "      <th>0</th>\n",
       "    </tr>\n",
       "  </thead>\n",
       "  <tbody>\n",
       "    <tr>\n",
       "      <th>0</th>\n",
       "      <td>Carlyle Looks Toward Commercial Aerospace Reut...</td>\n",
       "    </tr>\n",
       "    <tr>\n",
       "      <th>1</th>\n",
       "      <td>Oil Economy Cloud Stocks Outlook Reuters Reute...</td>\n",
       "    </tr>\n",
       "  </tbody>\n",
       "</table>\n",
       "</div>"
      ],
      "text/plain": [
       "                                                   0\n",
       "0  Carlyle Looks Toward Commercial Aerospace Reut...\n",
       "1  Oil Economy Cloud Stocks Outlook Reuters Reute..."
      ]
     },
     "execution_count": 11,
     "metadata": {},
     "output_type": "execute_result"
    }
   ],
   "source": [
    "#converting testList[] list into dataframe for further processing\n",
    "dat = pd.DataFrame(np.array(testList))\n",
    "dat.head(2)"
   ]
  },
  {
   "cell_type": "code",
   "execution_count": 12,
   "metadata": {},
   "outputs": [],
   "source": [
    "# applying pre-processing to remove special symbols, numbers and converting into lower case\n",
    "sw = stopwords.words('english')\n",
    "twitterSentiment=[]\n",
    "for i in range(len(dat)):\n",
    "    review = re.sub('[^a-zA-Z]', ' ',dat[0][i])\n",
    "    review = re.sub('[/(){}\\[\\]\\|@!,;]', ' ',dat[0][i])\n",
    "    review = re.sub('[^0-9a-zA-Z #+_♥️]', ' ',dat[0][i])#Remove bad symbols\n",
    "    \n",
    "    review = re.sub(r'\\d+', '',review)\n",
    "    review = review.lower()\n",
    "    review = review.split()\n",
    "\n",
    "    review = [token for token in review if token not in sw]\n",
    "    review=' '.join(review)\n",
    "    review=' '.join(re.sub(\"(@[A-Za-z0-9]+)|([^0-9A-Za-z \\t])|(\\w+:\\/\\/\\S+)\",\" \",review).split())\n",
    "    twitterSentiment.append(review)"
   ]
  },
  {
   "cell_type": "code",
   "execution_count": 13,
   "metadata": {},
   "outputs": [
    {
     "data": {
      "text/html": [
       "<div>\n",
       "<style scoped>\n",
       "    .dataframe tbody tr th:only-of-type {\n",
       "        vertical-align: middle;\n",
       "    }\n",
       "\n",
       "    .dataframe tbody tr th {\n",
       "        vertical-align: top;\n",
       "    }\n",
       "\n",
       "    .dataframe thead th {\n",
       "        text-align: right;\n",
       "    }\n",
       "</style>\n",
       "<table border=\"1\" class=\"dataframe\">\n",
       "  <thead>\n",
       "    <tr style=\"text-align: right;\">\n",
       "      <th></th>\n",
       "      <th>0</th>\n",
       "    </tr>\n",
       "  </thead>\n",
       "  <tbody>\n",
       "    <tr>\n",
       "      <th>0</th>\n",
       "      <td>carlyle looks toward commercial aerospace reut...</td>\n",
       "    </tr>\n",
       "    <tr>\n",
       "      <th>1</th>\n",
       "      <td>oil economy cloud stocks outlook reuters reute...</td>\n",
       "    </tr>\n",
       "    <tr>\n",
       "      <th>2</th>\n",
       "      <td>iraq halts oil exports main southern pipeline ...</td>\n",
       "    </tr>\n",
       "    <tr>\n",
       "      <th>3</th>\n",
       "      <td>oil prices soar time record posing new menace ...</td>\n",
       "    </tr>\n",
       "    <tr>\n",
       "      <th>4</th>\n",
       "      <td>stocks end near year lows reuters reuters stoc...</td>\n",
       "    </tr>\n",
       "  </tbody>\n",
       "</table>\n",
       "</div>"
      ],
      "text/plain": [
       "                                                   0\n",
       "0  carlyle looks toward commercial aerospace reut...\n",
       "1  oil economy cloud stocks outlook reuters reute...\n",
       "2  iraq halts oil exports main southern pipeline ...\n",
       "3  oil prices soar time record posing new menace ...\n",
       "4  stocks end near year lows reuters reuters stoc..."
      ]
     },
     "execution_count": 13,
     "metadata": {},
     "output_type": "execute_result"
    }
   ],
   "source": [
    "#converting twitterSentiment[] list into dataframe for serving it to keras tokenizer\n",
    "dataSetFinal = pd.DataFrame(np.array(twitterSentiment))\n",
    "dataSetFinal.head(5)"
   ]
  },
  {
   "cell_type": "code",
   "execution_count": 15,
   "metadata": {},
   "outputs": [
    {
     "name": "stdout",
     "output_type": "stream",
     "text": [
      "dictionary size:  61605\n"
     ]
    }
   ],
   "source": [
    "tokenizer = tensorflow.keras.preprocessing.text.Tokenizer(num_words=7500, lower=True,split=' ',filters='!\"#$%&()*+,-./:;<=>?@[\\\\]^_`{|}~\\t\\n')\n",
    "tokenizer.fit_on_texts(dataSetFinal[0].values)\n",
    "#print(tokenizer.word_index)  # To see the dicstionary\n",
    "X = tokenizer.texts_to_sequences(dataSetFinal[0].values)\n",
    "X = tensorflow.keras.preprocessing.sequence.pad_sequences(X)\n",
    "word_index = tokenizer.word_index\n",
    "print(\"dictionary size: \", len(word_index))"
   ]
  },
  {
   "cell_type": "code",
   "execution_count": 25,
   "metadata": {},
   "outputs": [
    {
     "name": "stdout",
     "output_type": "stream",
     "text": [
      "preparing embedding matrix...\n",
      "number of null word embeddings: 11673\n"
     ]
    }
   ],
   "source": [
    "#embedding matrix\n",
    "print('preparing embedding matrix...')\n",
    "words_not_found = []\n",
    "nb_words = min(MAX_NB_WORDS, len(word_index))\n",
    "embedding_matrix = np.zeros((nb_words, embed_dim))\n",
    "for word, i in word_index.items():\n",
    "    if i >= nb_words:\n",
    "        continue\n",
    "    embedding_vector = embeddings_index.get(word)\n",
    "    if (embedding_vector is not None) and len(embedding_vector) > 0:\n",
    "        # words not found in embedding index will be all-zeros.\n",
    "        embedding_matrix[i] = embedding_vector\n",
    "    else:\n",
    "        words_not_found.append(word)\n",
    "print('number of null word embeddings: %d' % np.sum(np.sum(embedding_matrix, axis=1) == 0))"
   ]
  },
  {
   "cell_type": "code",
   "execution_count": 26,
   "metadata": {},
   "outputs": [
    {
     "name": "stdout",
     "output_type": "stream",
     "text": [
      "training CNN ...\n",
      "_________________________________________________________________\n",
      "Layer (type)                 Output Shape              Param #   \n",
      "=================================================================\n",
      "embedding_2 (Embedding)      (None, 94, 300)           18481500  \n",
      "_________________________________________________________________\n",
      "conv1d_3 (Conv1D)            (None, 94, 64)            134464    \n",
      "_________________________________________________________________\n",
      "max_pooling1d_2 (MaxPooling1 (None, 47, 64)            0         \n",
      "_________________________________________________________________\n",
      "conv1d_4 (Conv1D)            (None, 47, 64)            28736     \n",
      "_________________________________________________________________\n",
      "global_max_pooling1d_2 (Glob (None, 64)                0         \n",
      "_________________________________________________________________\n",
      "dropout_2 (Dropout)          (None, 64)                0         \n",
      "_________________________________________________________________\n",
      "dense_3 (Dense)              (None, 32)                2080      \n",
      "_________________________________________________________________\n",
      "dense_4 (Dense)              (None, 4)                 132       \n",
      "=================================================================\n",
      "Total params: 18,646,912\n",
      "Trainable params: 165,412\n",
      "Non-trainable params: 18,481,500\n",
      "_________________________________________________________________\n"
     ]
    }
   ],
   "source": [
    "from keras import regularizers\n",
    "from keras import optimizers\n",
    "from keras import backend as K\n",
    "print(\"training CNN ...\")\n",
    "model = Sequential()\n",
    "model.add(Embedding(nb_words, embed_dim,\n",
    "          weights=[embedding_matrix], input_length=max_seq_len, trainable=False))\n",
    "model.add(Conv1D(num_filters, 7, activation='relu', padding='same'))\n",
    "model.add(MaxPooling1D(2))\n",
    "model.add(Conv1D(num_filters, 7, activation='relu', padding='same'))\n",
    "model.add(GlobalMaxPooling1D())\n",
    "model.add(Dropout(0.5))\n",
    "model.add(Dense(32, activation='relu', kernel_regularizer=regularizers.l2(weight_decay)))\n",
    "model.add(Dense(4, activation='softmax'))  #multi-label (k-hot encoding)\n",
    "\n",
    "adam = optimizers.Adam(lr=0.001, beta_1=0.9, beta_2=0.999, epsilon=1e-08, decay=0.0)\n",
    "model.compile(loss='binary_crossentropy', optimizer=adam, metrics=['accuracy','mae',keras_metrics.precision(), keras_metrics.recall()])\n",
    "model.summary()"
   ]
  },
  {
   "cell_type": "code",
   "execution_count": 18,
   "metadata": {},
   "outputs": [],
   "source": [
    "#define callbacks\n",
    "early_stopping = EarlyStopping(monitor='val_loss', min_delta=0.01, patience=4, verbose=1)\n",
    "callbacks_list = [early_stopping]"
   ]
  },
  {
   "cell_type": "code",
   "execution_count": 27,
   "metadata": {},
   "outputs": [
    {
     "name": "stdout",
     "output_type": "stream",
     "text": [
      "WARNING:tensorflow:From C:\\Users\\Mobeen Shahroz\\AppData\\Local\\Continuum\\anaconda3\\lib\\site-packages\\tensorflow\\python\\ops\\math_ops.py:3066: to_int32 (from tensorflow.python.ops.math_ops) is deprecated and will be removed in a future version.\n",
      "Instructions for updating:\n",
      "Use tf.cast instead.\n",
      "WARNING:tensorflow:From C:\\Users\\Mobeen Shahroz\\AppData\\Local\\Continuum\\anaconda3\\lib\\site-packages\\tensorflow\\python\\ops\\math_grad.py:102: div (from tensorflow.python.ops.math_ops) is deprecated and will be removed in a future version.\n",
      "Instructions for updating:\n",
      "Deprecated in favor of operator or tf.math.divide.\n",
      "Train on 75599 samples, validate on 8400 samples\n",
      "Epoch 1/8\n",
      " - 84s - loss: 0.2023 - acc: 0.9269 - mean_absolute_error: 0.1168 - precision: 0.9175 - recall: 0.7906 - val_loss: 0.1461 - val_acc: 0.9496 - val_mean_absolute_error: 0.0761 - val_precision: 0.9408 - val_recall: 0.8634\n",
      "Epoch 2/8\n",
      " - 83s - loss: 0.1501 - acc: 0.9495 - mean_absolute_error: 0.0828 - precision: 0.9339 - recall: 0.8645 - val_loss: 0.1351 - val_acc: 0.9513 - val_mean_absolute_error: 0.0738 - val_precision: 0.9482 - val_recall: 0.8644\n",
      "Epoch 3/8\n",
      " - 84s - loss: 0.1329 - acc: 0.9548 - mean_absolute_error: 0.0736 - precision: 0.9426 - recall: 0.8744 - val_loss: 0.1295 - val_acc: 0.9552 - val_mean_absolute_error: 0.0688 - val_precision: 0.9609 - val_recall: 0.8587\n",
      "Epoch 4/8\n",
      " - 84s - loss: 0.1154 - acc: 0.9607 - mean_absolute_error: 0.0642 - precision: 0.9505 - recall: 0.8914 - val_loss: 0.1256 - val_acc: 0.9553 - val_mean_absolute_error: 0.0669 - val_precision: 0.9503 - val_recall: 0.8767\n",
      "Epoch 5/8\n",
      " - 84s - loss: 0.1024 - acc: 0.9652 - mean_absolute_error: 0.0569 - precision: 0.9556 - recall: 0.9021 - val_loss: 0.1301 - val_acc: 0.9548 - val_mean_absolute_error: 0.0657 - val_precision: 0.9150 - val_recall: 0.9055\n",
      "Epoch 6/8\n",
      " - 87s - loss: 0.0875 - acc: 0.9704 - mean_absolute_error: 0.0486 - precision: 0.9614 - recall: 0.9164 - val_loss: 0.1314 - val_acc: 0.9547 - val_mean_absolute_error: 0.0584 - val_precision: 0.9448 - val_recall: 0.8733\n",
      "Epoch 00006: early stopping\n"
     ]
    },
    {
     "data": {
      "text/plain": [
       "<keras.callbacks.History at 0x1e21a447ac8>"
      ]
     },
     "execution_count": 27,
     "metadata": {},
     "output_type": "execute_result"
    }
   ],
   "source": [
    "#batch_size=64\n",
    "Y = pd.get_dummies(data['Target']).values\n",
    "X_train, X_valid, Y_train, Y_valid = train_test_split(X,Y, test_size = 0.30)\n",
    "#Here we train the Network.\n",
    "#pred=model_conv.fit(X_train, Y_train, batch_size =batch_size, epochs =100, verbose =2,validation_data=(X_valid,Y_valid))\n",
    "#pred\n",
    "\n",
    "#model training\n",
    "hist = model.fit(X_train, Y_train, batch_size=batch_size, epochs=num_epochs, callbacks=callbacks_list, validation_split=0.1, shuffle=True, verbose=2)\n",
    "hist"
   ]
  },
  {
   "cell_type": "code",
   "execution_count": 28,
   "metadata": {},
   "outputs": [
    {
     "name": "stdout",
     "output_type": "stream",
     "text": [
      "score: 0.14\n",
      "validation accuracy: 0.95\n",
      "recall: 0.88\n",
      "Precision: 0.94\n"
     ]
    }
   ],
   "source": [
    "score=[]\n",
    "score=model.evaluate(X_valid,Y_valid,verbose=2,batch_size=batch_size)\n",
    "#keras.metrics.binary_accuracy(Y_valid,pred)\n",
    "print(\"score: %.2f\" %(score[0]))\n",
    "print(\"validation accuracy: %.2f\" % (score[1]))\n",
    "print(\"recall: %.2f\" %(score[4]))\n",
    "print(\"Precision: %.2f\" % (score[3]))"
   ]
  },
  {
   "cell_type": "code",
   "execution_count": 29,
   "metadata": {},
   "outputs": [
    {
     "data": {
      "image/png": "[encoded data removed]",
      "text/plain": [
       "<Figure size 432x288 with 1 Axes>"
      ]
     },
     "metadata": {},
     "output_type": "display_data"
    }
   ],
   "source": [
    "#generate plots\n",
    "plt.figure()\n",
    "plt.plot(hist.history['loss'], lw=2.0, color='b', label='train')\n",
    "plt.plot(hist.history['val_loss'], lw=2.0, color='r', label='val')\n",
    "plt.title('CNN sentiment')\n",
    "plt.xlabel('Epochs')\n",
    "plt.ylabel('Cross-Entropy Loss')\n",
    "plt.legend(loc='upper right')\n",
    "plt.savefig('training & validation LossAGNews.pdf')\n",
    "plt.show()"
   ]
  },
  {
   "cell_type": "code",
   "execution_count": 30,
   "metadata": {},
   "outputs": [
    {
     "data": {
      "image/png": "[encoded data removed]",
      "text/plain": [
       "<Figure size 432x288 with 1 Axes>"
      ]
     },
     "metadata": {},
     "output_type": "display_data"
    }
   ],
   "source": [
    "plt.figure()\n",
    "plt.plot(hist.history['acc'], lw=2.0, color='b', label='train')\n",
    "plt.plot(hist.history['val_acc'], lw=2.0, color='r', label='val')\n",
    "plt.title('CNN sentiment')\n",
    "plt.xlabel('Epochs')\n",
    "plt.ylabel('Accuracy')\n",
    "plt.legend(loc='upper left')\n",
    "plt.savefig('training & validation accuracyAGNews.pdf')\n",
    "plt.show()"
   ]
  },
  {
   "cell_type": "code",
   "execution_count": 66,
   "metadata": {},
   "outputs": [],
   "source": [
    "from keras import optimizers\n",
    "#Deep Learning Network Structure\n",
    "model_conv = Sequential()\n",
    "model_conv.add(Embedding(7500, 300, input_length=X.shape[1]))\n",
    "model_conv.add(Dropout(0.2))\n",
    "model_conv.add(Conv1D(64, 5, activation='relu'))\n",
    "model_conv.add(MaxPooling1D(pool_size=4))\n",
    "model_conv.add(LSTM(100))\n",
    "model_conv.add(Dense(3, activation='softmax'))\n",
    "sgd = optimizers.SGD(lr=0.01, decay=1e-6, momentum=0.9, nesterov=True)\n",
    "model_conv.compile(loss='binary_crossentropy', optimizer='sgd',metrics=['accuracy','mae',keras_metrics.precision(), keras_metrics.recall()])"
   ]
  },
  {
   "cell_type": "code",
   "execution_count": 41,
   "metadata": {},
   "outputs": [
    {
     "name": "stdout",
     "output_type": "stream",
     "text": [
      "Train on 10248 samples, validate on 4392 samples\n",
      "Epoch 1/100\n",
      " - 15s - loss: 0.5936 - acc: 0.6667 - mean_absolute_error: 0.4207 - precision: 0.0000e+00 - recall: 0.0000e+00 - val_loss: 0.5660 - val_acc: 0.6667 - val_mean_absolute_error: 0.4027 - val_precision: 0.0000e+00 - val_recall: 0.0000e+00\n",
      "Epoch 2/100\n",
      " - 13s - loss: 0.5527 - acc: 0.7374 - mean_absolute_error: 0.3867 - precision: 0.6235 - recall: 0.8567 - val_loss: 0.5449 - val_acc: 0.7532 - val_mean_absolute_error: 0.3797 - val_precision: 0.6298 - val_recall: 1.0000\n",
      "Epoch 3/100\n",
      " - 13s - loss: 0.5430 - acc: 0.7505 - mean_absolute_error: 0.3704 - precision: 0.6257 - recall: 1.0000 - val_loss: 0.5389 - val_acc: 0.7532 - val_mean_absolute_error: 0.3695 - val_precision: 0.6298 - val_recall: 1.0000\n",
      "Epoch 4/100\n",
      " - 13s - loss: 0.5405 - acc: 0.7505 - mean_absolute_error: 0.3628 - precision: 0.6257 - recall: 1.0000 - val_loss: 0.5369 - val_acc: 0.7532 - val_mean_absolute_error: 0.3665 - val_precision: 0.6298 - val_recall: 1.0000\n",
      "Epoch 5/100\n",
      " - 14s - loss: 0.5391 - acc: 0.7505 - mean_absolute_error: 0.3608 - precision: 0.6257 - recall: 1.0000 - val_loss: 0.5355 - val_acc: 0.7532 - val_mean_absolute_error: 0.3645 - val_precision: 0.6298 - val_recall: 1.0000\n",
      "Epoch 6/100\n",
      " - 13s - loss: 0.5380 - acc: 0.7505 - mean_absolute_error: 0.3587 - precision: 0.6257 - recall: 1.0000 - val_loss: 0.5345 - val_acc: 0.7532 - val_mean_absolute_error: 0.3638 - val_precision: 0.6298 - val_recall: 1.0000\n",
      "Epoch 7/100\n",
      " - 13s - loss: 0.5369 - acc: 0.7505 - mean_absolute_error: 0.3586 - precision: 0.6257 - recall: 1.0000 - val_loss: 0.5334 - val_acc: 0.7532 - val_mean_absolute_error: 0.3627 - val_precision: 0.6298 - val_recall: 1.0000\n",
      "Epoch 8/100\n",
      " - 13s - loss: 0.5360 - acc: 0.7505 - mean_absolute_error: 0.3579 - precision: 0.6257 - recall: 1.0000 - val_loss: 0.5323 - val_acc: 0.7532 - val_mean_absolute_error: 0.3609 - val_precision: 0.6298 - val_recall: 1.0000\n",
      "Epoch 9/100\n",
      " - 14s - loss: 0.5349 - acc: 0.7505 - mean_absolute_error: 0.3564 - precision: 0.6257 - recall: 1.0000 - val_loss: 0.5314 - val_acc: 0.7532 - val_mean_absolute_error: 0.3602 - val_precision: 0.6298 - val_recall: 1.0000\n",
      "Epoch 10/100\n",
      " - 13s - loss: 0.5339 - acc: 0.7505 - mean_absolute_error: 0.3550 - precision: 0.6257 - recall: 1.0000 - val_loss: 0.5308 - val_acc: 0.7532 - val_mean_absolute_error: 0.3605 - val_precision: 0.6298 - val_recall: 1.0000\n",
      "Epoch 11/100\n",
      " - 13s - loss: 0.5329 - acc: 0.7505 - mean_absolute_error: 0.3556 - precision: 0.6257 - recall: 1.0000 - val_loss: 0.5296 - val_acc: 0.7532 - val_mean_absolute_error: 0.3585 - val_precision: 0.6298 - val_recall: 1.0000\n",
      "Epoch 12/100\n",
      " - 13s - loss: 0.5319 - acc: 0.7505 - mean_absolute_error: 0.3543 - precision: 0.6257 - recall: 1.0000 - val_loss: 0.5288 - val_acc: 0.7532 - val_mean_absolute_error: 0.3579 - val_precision: 0.6298 - val_recall: 1.0000\n",
      "Epoch 13/100\n",
      " - 13s - loss: 0.5309 - acc: 0.7505 - mean_absolute_error: 0.3533 - precision: 0.6257 - recall: 1.0000 - val_loss: 0.5281 - val_acc: 0.7532 - val_mean_absolute_error: 0.3581 - val_precision: 0.6298 - val_recall: 1.0000\n",
      "Epoch 14/100\n",
      " - 14s - loss: 0.5298 - acc: 0.7505 - mean_absolute_error: 0.3536 - precision: 0.6257 - recall: 1.0000 - val_loss: 0.5269 - val_acc: 0.7532 - val_mean_absolute_error: 0.3561 - val_precision: 0.6298 - val_recall: 1.0000\n",
      "Epoch 15/100\n",
      " - 13s - loss: 0.5287 - acc: 0.7505 - mean_absolute_error: 0.3517 - precision: 0.6257 - recall: 1.0000 - val_loss: 0.5259 - val_acc: 0.7532 - val_mean_absolute_error: 0.3557 - val_precision: 0.6298 - val_recall: 1.0000\n",
      "Epoch 16/100\n",
      " - 13s - loss: 0.5276 - acc: 0.7505 - mean_absolute_error: 0.3515 - precision: 0.6257 - recall: 1.0000 - val_loss: 0.5248 - val_acc: 0.7532 - val_mean_absolute_error: 0.3546 - val_precision: 0.6298 - val_recall: 1.0000\n",
      "Epoch 17/100\n",
      " - 14s - loss: 0.5265 - acc: 0.7505 - mean_absolute_error: 0.3500 - precision: 0.6257 - recall: 1.0000 - val_loss: 0.5238 - val_acc: 0.7532 - val_mean_absolute_error: 0.3547 - val_precision: 0.6298 - val_recall: 1.0000\n",
      "Epoch 18/100\n",
      " - 13s - loss: 0.5252 - acc: 0.7505 - mean_absolute_error: 0.3500 - precision: 0.6257 - recall: 1.0000 - val_loss: 0.5226 - val_acc: 0.7532 - val_mean_absolute_error: 0.3538 - val_precision: 0.6298 - val_recall: 1.0000\n",
      "Epoch 19/100\n",
      " - 13s - loss: 0.5239 - acc: 0.7505 - mean_absolute_error: 0.3493 - precision: 0.6257 - recall: 1.0000 - val_loss: 0.5213 - val_acc: 0.7532 - val_mean_absolute_error: 0.3525 - val_precision: 0.6298 - val_recall: 1.0000\n",
      "Epoch 20/100\n",
      " - 13s - loss: 0.5226 - acc: 0.7505 - mean_absolute_error: 0.3485 - precision: 0.6257 - recall: 1.0000 - val_loss: 0.5199 - val_acc: 0.7532 - val_mean_absolute_error: 0.3513 - val_precision: 0.6298 - val_recall: 1.0000\n",
      "Epoch 21/100\n",
      " - 13s - loss: 0.5211 - acc: 0.7505 - mean_absolute_error: 0.3467 - precision: 0.6257 - recall: 1.0000 - val_loss: 0.5187 - val_acc: 0.7532 - val_mean_absolute_error: 0.3516 - val_precision: 0.6298 - val_recall: 1.0000\n",
      "Epoch 22/100\n",
      " - 13s - loss: 0.5197 - acc: 0.7505 - mean_absolute_error: 0.3472 - precision: 0.6257 - recall: 1.0000 - val_loss: 0.5171 - val_acc: 0.7532 - val_mean_absolute_error: 0.3501 - val_precision: 0.6298 - val_recall: 1.0000\n",
      "Epoch 23/100\n",
      " - 14s - loss: 0.5183 - acc: 0.7505 - mean_absolute_error: 0.3451 - precision: 0.6257 - recall: 1.0000 - val_loss: 0.5159 - val_acc: 0.7532 - val_mean_absolute_error: 0.3503 - val_precision: 0.6298 - val_recall: 1.0000\n",
      "Epoch 24/100\n",
      " - 13s - loss: 0.5168 - acc: 0.7517 - mean_absolute_error: 0.3455 - precision: 0.6281 - recall: 0.9991 - val_loss: 0.5142 - val_acc: 0.7599 - val_mean_absolute_error: 0.3487 - val_precision: 0.6458 - val_recall: 0.9841\n",
      "Epoch 25/100\n",
      " - 13s - loss: 0.5154 - acc: 0.7571 - mean_absolute_error: 0.3441 - precision: 0.6417 - recall: 0.9814 - val_loss: 0.5127 - val_acc: 0.7693 - val_mean_absolute_error: 0.3474 - val_precision: 0.6727 - val_recall: 0.9519\n",
      "Epoch 26/100\n",
      " - 13s - loss: 0.5139 - acc: 0.7653 - mean_absolute_error: 0.3430 - precision: 0.6641 - recall: 0.9566 - val_loss: 0.5111 - val_acc: 0.7709 - val_mean_absolute_error: 0.3459 - val_precision: 0.6810 - val_recall: 0.9346\n",
      "Epoch 27/100\n",
      " - 13s - loss: 0.5124 - acc: 0.7684 - mean_absolute_error: 0.3413 - precision: 0.6746 - recall: 0.9429 - val_loss: 0.5097 - val_acc: 0.7731 - val_mean_absolute_error: 0.3457 - val_precision: 0.6903 - val_recall: 0.9201\n",
      "Epoch 28/100\n",
      " - 13s - loss: 0.5112 - acc: 0.7703 - mean_absolute_error: 0.3403 - precision: 0.6830 - recall: 0.9270 - val_loss: 0.5084 - val_acc: 0.7736 - val_mean_absolute_error: 0.3446 - val_precision: 0.7005 - val_recall: 0.8897\n",
      "Epoch 29/100\n",
      " - 13s - loss: 0.5100 - acc: 0.7719 - mean_absolute_error: 0.3399 - precision: 0.6914 - recall: 0.9114 - val_loss: 0.5069 - val_acc: 0.7734 - val_mean_absolute_error: 0.3430 - val_precision: 0.7005 - val_recall: 0.8879\n",
      "Epoch 30/100\n",
      " - 14s - loss: 0.5088 - acc: 0.7728 - mean_absolute_error: 0.3383 - precision: 0.6975 - recall: 0.8985 - val_loss: 0.5057 - val_acc: 0.7734 - val_mean_absolute_error: 0.3420 - val_precision: 0.7005 - val_recall: 0.8879\n",
      "Epoch 31/100\n",
      " - 13s - loss: 0.5079 - acc: 0.7727 - mean_absolute_error: 0.3379 - precision: 0.7012 - recall: 0.8857 - val_loss: 0.5046 - val_acc: 0.7735 - val_mean_absolute_error: 0.3407 - val_precision: 0.7007 - val_recall: 0.8879\n",
      "Epoch 32/100\n",
      " - 14s - loss: 0.5071 - acc: 0.7733 - mean_absolute_error: 0.3363 - precision: 0.7037 - recall: 0.8832 - val_loss: 0.5037 - val_acc: 0.7738 - val_mean_absolute_error: 0.3399 - val_precision: 0.7021 - val_recall: 0.8861\n",
      "Epoch 33/100\n",
      " - 13s - loss: 0.5066 - acc: 0.7735 - mean_absolute_error: 0.3361 - precision: 0.7056 - recall: 0.8794 - val_loss: 0.5027 - val_acc: 0.7739 - val_mean_absolute_error: 0.3381 - val_precision: 0.7028 - val_recall: 0.8850\n",
      "Epoch 34/100\n",
      " - 13s - loss: 0.5058 - acc: 0.7733 - mean_absolute_error: 0.3347 - precision: 0.7058 - recall: 0.8765 - val_loss: 0.5021 - val_acc: 0.7748 - val_mean_absolute_error: 0.3377 - val_precision: 0.7086 - val_recall: 0.8749\n",
      "Epoch 35/100\n",
      " - 13s - loss: 0.5053 - acc: 0.7741 - mean_absolute_error: 0.3340 - precision: 0.7099 - recall: 0.8712 - val_loss: 0.5015 - val_acc: 0.7754 - val_mean_absolute_error: 0.3375 - val_precision: 0.7164 - val_recall: 0.8576\n",
      "Epoch 36/100\n",
      " - 13s - loss: 0.5048 - acc: 0.7739 - mean_absolute_error: 0.3330 - precision: 0.7101 - recall: 0.8693 - val_loss: 0.5011 - val_acc: 0.7744 - val_mean_absolute_error: 0.3378 - val_precision: 0.7184 - val_recall: 0.8438\n"
     ]
    },
    {
     "name": "stdout",
     "output_type": "stream",
     "text": [
      "Epoch 37/100\n",
      " - 13s - loss: 0.5043 - acc: 0.7744 - mean_absolute_error: 0.3328 - precision: 0.7138 - recall: 0.8621 - val_loss: 0.5006 - val_acc: 0.7741 - val_mean_absolute_error: 0.3368 - val_precision: 0.7184 - val_recall: 0.8420\n",
      "Epoch 38/100\n",
      " - 13s - loss: 0.5043 - acc: 0.7744 - mean_absolute_error: 0.3323 - precision: 0.7151 - recall: 0.8584 - val_loss: 0.4999 - val_acc: 0.7747 - val_mean_absolute_error: 0.3350 - val_precision: 0.7181 - val_recall: 0.8474\n",
      "Epoch 39/100\n",
      " - 13s - loss: 0.5039 - acc: 0.7740 - mean_absolute_error: 0.3317 - precision: 0.7163 - recall: 0.8520 - val_loss: 0.4995 - val_acc: 0.7751 - val_mean_absolute_error: 0.3337 - val_precision: 0.7179 - val_recall: 0.8510\n",
      "Epoch 40/100\n",
      " - 13s - loss: 0.5036 - acc: 0.7747 - mean_absolute_error: 0.3305 - precision: 0.7156 - recall: 0.8596 - val_loss: 0.4992 - val_acc: 0.7746 - val_mean_absolute_error: 0.3339 - val_precision: 0.7186 - val_recall: 0.8449\n",
      "Epoch 41/100\n",
      " - 14s - loss: 0.5035 - acc: 0.7737 - mean_absolute_error: 0.3303 - precision: 0.7160 - recall: 0.8506 - val_loss: 0.4990 - val_acc: 0.7740 - val_mean_absolute_error: 0.3342 - val_precision: 0.7183 - val_recall: 0.8409\n",
      "Epoch 42/100\n",
      " - 13s - loss: 0.5034 - acc: 0.7741 - mean_absolute_error: 0.3303 - precision: 0.7176 - recall: 0.8497 - val_loss: 0.4986 - val_acc: 0.7743 - val_mean_absolute_error: 0.3331 - val_precision: 0.7184 - val_recall: 0.8431\n",
      "Epoch 43/100\n",
      " - 13s - loss: 0.5027 - acc: 0.7742 - mean_absolute_error: 0.3296 - precision: 0.7185 - recall: 0.8481 - val_loss: 0.4984 - val_acc: 0.7743 - val_mean_absolute_error: 0.3327 - val_precision: 0.7186 - val_recall: 0.8427\n",
      "Epoch 44/100\n",
      " - 13s - loss: 0.5027 - acc: 0.7743 - mean_absolute_error: 0.3291 - precision: 0.7185 - recall: 0.8486 - val_loss: 0.4982 - val_acc: 0.7741 - val_mean_absolute_error: 0.3328 - val_precision: 0.7184 - val_recall: 0.8413\n",
      "Epoch 45/100\n",
      " - 13s - loss: 0.5025 - acc: 0.7737 - mean_absolute_error: 0.3298 - precision: 0.7195 - recall: 0.8409 - val_loss: 0.4978 - val_acc: 0.7747 - val_mean_absolute_error: 0.3313 - val_precision: 0.7183 - val_recall: 0.8463\n",
      "Epoch 46/100\n",
      " - 15s - loss: 0.5025 - acc: 0.7738 - mean_absolute_error: 0.3289 - precision: 0.7190 - recall: 0.8436 - val_loss: 0.4975 - val_acc: 0.7749 - val_mean_absolute_error: 0.3306 - val_precision: 0.7184 - val_recall: 0.8478\n",
      "Epoch 47/100\n",
      " - 17s - loss: 0.5023 - acc: 0.7741 - mean_absolute_error: 0.3284 - precision: 0.7181 - recall: 0.8484 - val_loss: 0.4974 - val_acc: 0.7747 - val_mean_absolute_error: 0.3309 - val_precision: 0.7183 - val_recall: 0.8463\n",
      "Epoch 48/100\n",
      " - 15s - loss: 0.5022 - acc: 0.7749 - mean_absolute_error: 0.3279 - precision: 0.7201 - recall: 0.8486 - val_loss: 0.4976 - val_acc: 0.7737 - val_mean_absolute_error: 0.3332 - val_precision: 0.7185 - val_recall: 0.8380\n",
      "Epoch 49/100\n",
      " - 15s - loss: 0.5020 - acc: 0.7736 - mean_absolute_error: 0.3292 - precision: 0.7208 - recall: 0.8373 - val_loss: 0.4970 - val_acc: 0.7747 - val_mean_absolute_error: 0.3303 - val_precision: 0.7183 - val_recall: 0.8463\n",
      "Epoch 50/100\n",
      " - 14s - loss: 0.5018 - acc: 0.7742 - mean_absolute_error: 0.3273 - precision: 0.7191 - recall: 0.8462 - val_loss: 0.4971 - val_acc: 0.7738 - val_mean_absolute_error: 0.3327 - val_precision: 0.7187 - val_recall: 0.8388\n",
      "Epoch 51/100\n",
      " - 16s - loss: 0.5013 - acc: 0.7737 - mean_absolute_error: 0.3289 - precision: 0.7210 - recall: 0.8373 - val_loss: 0.4966 - val_acc: 0.7747 - val_mean_absolute_error: 0.3305 - val_precision: 0.7187 - val_recall: 0.8453\n",
      "Epoch 52/100\n",
      " - 13s - loss: 0.5014 - acc: 0.7739 - mean_absolute_error: 0.3276 - precision: 0.7199 - recall: 0.8417 - val_loss: 0.4965 - val_acc: 0.7747 - val_mean_absolute_error: 0.3305 - val_precision: 0.7187 - val_recall: 0.8453\n",
      "Epoch 53/100\n",
      " - 14s - loss: 0.5012 - acc: 0.7747 - mean_absolute_error: 0.3270 - precision: 0.7195 - recall: 0.8487 - val_loss: 0.4968 - val_acc: 0.7741 - val_mean_absolute_error: 0.3332 - val_precision: 0.7200 - val_recall: 0.8377\n",
      "Epoch 54/100\n",
      " - 14s - loss: 0.5009 - acc: 0.7737 - mean_absolute_error: 0.3283 - precision: 0.7205 - recall: 0.8386 - val_loss: 0.4961 - val_acc: 0.7745 - val_mean_absolute_error: 0.3307 - val_precision: 0.7190 - val_recall: 0.8435\n",
      "Epoch 55/100\n",
      " - 14s - loss: 0.5005 - acc: 0.7745 - mean_absolute_error: 0.3272 - precision: 0.7209 - recall: 0.8433 - val_loss: 0.4959 - val_acc: 0.7747 - val_mean_absolute_error: 0.3302 - val_precision: 0.7191 - val_recall: 0.8449\n",
      "Epoch 56/100\n",
      " - 17s - loss: 0.5004 - acc: 0.7746 - mean_absolute_error: 0.3271 - precision: 0.7210 - recall: 0.8440 - val_loss: 0.4957 - val_acc: 0.7750 - val_mean_absolute_error: 0.3297 - val_precision: 0.7187 - val_recall: 0.8482\n",
      "Epoch 57/100\n",
      " - 25s - loss: 0.5003 - acc: 0.7747 - mean_absolute_error: 0.3268 - precision: 0.7206 - recall: 0.8462 - val_loss: 0.4956 - val_acc: 0.7747 - val_mean_absolute_error: 0.3303 - val_precision: 0.7191 - val_recall: 0.8449\n",
      "Epoch 58/100\n",
      " - 14s - loss: 0.5002 - acc: 0.7748 - mean_absolute_error: 0.3270 - precision: 0.7220 - recall: 0.8431 - val_loss: 0.4953 - val_acc: 0.7753 - val_mean_absolute_error: 0.3296 - val_precision: 0.7194 - val_recall: 0.8482\n",
      "Epoch 59/100\n",
      " - 14s - loss: 0.5001 - acc: 0.7743 - mean_absolute_error: 0.3264 - precision: 0.7198 - recall: 0.8450 - val_loss: 0.4953 - val_acc: 0.7748 - val_mean_absolute_error: 0.3310 - val_precision: 0.7200 - val_recall: 0.8431\n",
      "Epoch 60/100\n",
      " - 14s - loss: 0.4998 - acc: 0.7754 - mean_absolute_error: 0.3266 - precision: 0.7230 - recall: 0.8453 - val_loss: 0.4951 - val_acc: 0.7749 - val_mean_absolute_error: 0.3308 - val_precision: 0.7201 - val_recall: 0.8435\n",
      "Epoch 61/100\n",
      " - 13s - loss: 0.4994 - acc: 0.7747 - mean_absolute_error: 0.3270 - precision: 0.7221 - recall: 0.8417 - val_loss: 0.4947 - val_acc: 0.7754 - val_mean_absolute_error: 0.3290 - val_precision: 0.7193 - val_recall: 0.8496\n",
      "Epoch 62/100\n",
      " - 17s - loss: 0.4994 - acc: 0.7749 - mean_absolute_error: 0.3259 - precision: 0.7200 - recall: 0.8493 - val_loss: 0.4947 - val_acc: 0.7751 - val_mean_absolute_error: 0.3304 - val_precision: 0.7205 - val_recall: 0.8442\n",
      "Epoch 63/100\n",
      " - 14s - loss: 0.4991 - acc: 0.7745 - mean_absolute_error: 0.3261 - precision: 0.7207 - recall: 0.8445 - val_loss: 0.4946 - val_acc: 0.7754 - val_mean_absolute_error: 0.3308 - val_precision: 0.7219 - val_recall: 0.8427\n",
      "Epoch 64/100\n",
      " - 13s - loss: 0.4990 - acc: 0.7749 - mean_absolute_error: 0.3261 - precision: 0.7213 - recall: 0.8456 - val_loss: 0.4944 - val_acc: 0.7756 - val_mean_absolute_error: 0.3311 - val_precision: 0.7225 - val_recall: 0.8424\n",
      "Epoch 65/100\n",
      " - 13s - loss: 0.4986 - acc: 0.7753 - mean_absolute_error: 0.3262 - precision: 0.7223 - recall: 0.8459 - val_loss: 0.4942 - val_acc: 0.7757 - val_mean_absolute_error: 0.3309 - val_precision: 0.7227 - val_recall: 0.8431\n",
      "Epoch 66/100\n",
      " - 13s - loss: 0.4981 - acc: 0.7746 - mean_absolute_error: 0.3259 - precision: 0.7205 - recall: 0.8454 - val_loss: 0.4940 - val_acc: 0.7758 - val_mean_absolute_error: 0.3311 - val_precision: 0.7233 - val_recall: 0.8420\n",
      "Epoch 67/100\n",
      " - 13s - loss: 0.4980 - acc: 0.7753 - mean_absolute_error: 0.3256 - precision: 0.7215 - recall: 0.8484 - val_loss: 0.4939 - val_acc: 0.7762 - val_mean_absolute_error: 0.3314 - val_precision: 0.7246 - val_recall: 0.8416\n",
      "Epoch 68/100\n",
      " - 13s - loss: 0.4980 - acc: 0.7749 - mean_absolute_error: 0.3265 - precision: 0.7230 - recall: 0.8412 - val_loss: 0.4932 - val_acc: 0.7762 - val_mean_absolute_error: 0.3291 - val_precision: 0.7219 - val_recall: 0.8485\n",
      "Epoch 69/100\n",
      " - 13s - loss: 0.4974 - acc: 0.7755 - mean_absolute_error: 0.3251 - precision: 0.7216 - recall: 0.8495 - val_loss: 0.4930 - val_acc: 0.7764 - val_mean_absolute_error: 0.3295 - val_precision: 0.7230 - val_recall: 0.8474\n",
      "Epoch 70/100\n",
      " - 13s - loss: 0.4973 - acc: 0.7753 - mean_absolute_error: 0.3250 - precision: 0.7223 - recall: 0.8464 - val_loss: 0.4930 - val_acc: 0.7764 - val_mean_absolute_error: 0.3302 - val_precision: 0.7245 - val_recall: 0.8435\n",
      "Epoch 71/100\n",
      " - 13s - loss: 0.4968 - acc: 0.7750 - mean_absolute_error: 0.3257 - precision: 0.7231 - recall: 0.8422 - val_loss: 0.4923 - val_acc: 0.7766 - val_mean_absolute_error: 0.3279 - val_precision: 0.7224 - val_recall: 0.8507\n",
      "Epoch 72/100\n",
      " - 13s - loss: 0.4967 - acc: 0.7754 - mean_absolute_error: 0.3252 - precision: 0.7229 - recall: 0.8456 - val_loss: 0.4921 - val_acc: 0.7767 - val_mean_absolute_error: 0.3278 - val_precision: 0.7227 - val_recall: 0.8507\n"
     ]
    },
    {
     "name": "stdout",
     "output_type": "stream",
     "text": [
      "Epoch 73/100\n",
      " - 13s - loss: 0.4962 - acc: 0.7756 - mean_absolute_error: 0.3238 - precision: 0.7212 - recall: 0.8517 - val_loss: 0.4921 - val_acc: 0.7769 - val_mean_absolute_error: 0.3295 - val_precision: 0.7249 - val_recall: 0.8467\n",
      "Epoch 74/100\n",
      " - 15s - loss: 0.4960 - acc: 0.7761 - mean_absolute_error: 0.3243 - precision: 0.7233 - recall: 0.8500 - val_loss: 0.4918 - val_acc: 0.7772 - val_mean_absolute_error: 0.3292 - val_precision: 0.7255 - val_recall: 0.8474\n",
      "Epoch 75/100\n",
      " - 14s - loss: 0.4956 - acc: 0.7757 - mean_absolute_error: 0.3248 - precision: 0.7240 - recall: 0.8450 - val_loss: 0.4912 - val_acc: 0.7769 - val_mean_absolute_error: 0.3273 - val_precision: 0.7231 - val_recall: 0.8507\n",
      "Epoch 76/100\n",
      " - 14s - loss: 0.4954 - acc: 0.7762 - mean_absolute_error: 0.3238 - precision: 0.7236 - recall: 0.8495 - val_loss: 0.4910 - val_acc: 0.7772 - val_mean_absolute_error: 0.3277 - val_precision: 0.7242 - val_recall: 0.8507\n",
      "Epoch 77/100\n",
      " - 15s - loss: 0.4950 - acc: 0.7755 - mean_absolute_error: 0.3238 - precision: 0.7225 - recall: 0.8473 - val_loss: 0.4910 - val_acc: 0.7776 - val_mean_absolute_error: 0.3291 - val_precision: 0.7266 - val_recall: 0.8474\n",
      "Epoch 78/100\n",
      " - 15s - loss: 0.4947 - acc: 0.7761 - mean_absolute_error: 0.3238 - precision: 0.7244 - recall: 0.8470 - val_loss: 0.4906 - val_acc: 0.7778 - val_mean_absolute_error: 0.3284 - val_precision: 0.7262 - val_recall: 0.8496\n",
      "Epoch 79/100\n",
      " - 13s - loss: 0.4945 - acc: 0.7759 - mean_absolute_error: 0.3241 - precision: 0.7237 - recall: 0.8475 - val_loss: 0.4902 - val_acc: 0.7775 - val_mean_absolute_error: 0.3279 - val_precision: 0.7250 - val_recall: 0.8503\n",
      "Epoch 80/100\n",
      " - 13s - loss: 0.4941 - acc: 0.7767 - mean_absolute_error: 0.3233 - precision: 0.7244 - recall: 0.8517 - val_loss: 0.4904 - val_acc: 0.7787 - val_mean_absolute_error: 0.3298 - val_precision: 0.7312 - val_recall: 0.8438\n",
      "Epoch 81/100\n",
      " - 13s - loss: 0.4941 - acc: 0.7761 - mean_absolute_error: 0.3237 - precision: 0.7230 - recall: 0.8503 - val_loss: 0.4899 - val_acc: 0.7784 - val_mean_absolute_error: 0.3290 - val_precision: 0.7291 - val_recall: 0.8467\n",
      "Epoch 82/100\n",
      " - 13s - loss: 0.4933 - acc: 0.7765 - mean_absolute_error: 0.3234 - precision: 0.7237 - recall: 0.8522 - val_loss: 0.4895 - val_acc: 0.7785 - val_mean_absolute_error: 0.3286 - val_precision: 0.7292 - val_recall: 0.8471\n",
      "Epoch 83/100\n",
      " - 13s - loss: 0.4929 - acc: 0.7760 - mean_absolute_error: 0.3234 - precision: 0.7237 - recall: 0.8483 - val_loss: 0.4889 - val_acc: 0.7784 - val_mean_absolute_error: 0.3277 - val_precision: 0.7281 - val_recall: 0.8492\n",
      "Epoch 84/100\n",
      " - 14s - loss: 0.4923 - acc: 0.7768 - mean_absolute_error: 0.3231 - precision: 0.7257 - recall: 0.8487 - val_loss: 0.4884 - val_acc: 0.7782 - val_mean_absolute_error: 0.3267 - val_precision: 0.7269 - val_recall: 0.8507\n",
      "Epoch 85/100\n",
      " - 13s - loss: 0.4920 - acc: 0.7765 - mean_absolute_error: 0.3220 - precision: 0.7241 - recall: 0.8509 - val_loss: 0.4880 - val_acc: 0.7785 - val_mean_absolute_error: 0.3264 - val_precision: 0.7274 - val_recall: 0.8518\n",
      "Epoch 86/100\n",
      " - 14s - loss: 0.4915 - acc: 0.7766 - mean_absolute_error: 0.3221 - precision: 0.7243 - recall: 0.8514 - val_loss: 0.4875 - val_acc: 0.7788 - val_mean_absolute_error: 0.3256 - val_precision: 0.7272 - val_recall: 0.8547\n",
      "Epoch 87/100\n",
      " - 14s - loss: 0.4915 - acc: 0.7773 - mean_absolute_error: 0.3215 - precision: 0.7242 - recall: 0.8564 - val_loss: 0.4874 - val_acc: 0.7789 - val_mean_absolute_error: 0.3269 - val_precision: 0.7302 - val_recall: 0.8482\n",
      "Epoch 88/100\n",
      " - 14s - loss: 0.4909 - acc: 0.7767 - mean_absolute_error: 0.3217 - precision: 0.7246 - recall: 0.8514 - val_loss: 0.4873 - val_acc: 0.7801 - val_mean_absolute_error: 0.3280 - val_precision: 0.7348 - val_recall: 0.8456\n",
      "Epoch 89/100\n",
      " - 13s - loss: 0.4903 - acc: 0.7776 - mean_absolute_error: 0.3218 - precision: 0.7261 - recall: 0.8537 - val_loss: 0.4868 - val_acc: 0.7801 - val_mean_absolute_error: 0.3276 - val_precision: 0.7346 - val_recall: 0.8456\n",
      "Epoch 90/100\n",
      " - 13s - loss: 0.4897 - acc: 0.7775 - mean_absolute_error: 0.3220 - precision: 0.7274 - recall: 0.8501 - val_loss: 0.4859 - val_acc: 0.7796 - val_mean_absolute_error: 0.3254 - val_precision: 0.7302 - val_recall: 0.8532\n",
      "Epoch 91/100\n",
      " - 13s - loss: 0.4893 - acc: 0.7777 - mean_absolute_error: 0.3205 - precision: 0.7260 - recall: 0.8554 - val_loss: 0.4859 - val_acc: 0.7809 - val_mean_absolute_error: 0.3274 - val_precision: 0.7373 - val_recall: 0.8453\n",
      "Epoch 92/100\n",
      " - 13s - loss: 0.4890 - acc: 0.7777 - mean_absolute_error: 0.3213 - precision: 0.7273 - recall: 0.8520 - val_loss: 0.4850 - val_acc: 0.7799 - val_mean_absolute_error: 0.3254 - val_precision: 0.7323 - val_recall: 0.8503\n",
      "Epoch 93/100\n",
      " - 13s - loss: 0.4885 - acc: 0.7781 - mean_absolute_error: 0.3202 - precision: 0.7266 - recall: 0.8565 - val_loss: 0.4848 - val_acc: 0.7808 - val_mean_absolute_error: 0.3266 - val_precision: 0.7372 - val_recall: 0.8449\n",
      "Epoch 94/100\n",
      " - 13s - loss: 0.4879 - acc: 0.7777 - mean_absolute_error: 0.3207 - precision: 0.7276 - recall: 0.8509 - val_loss: 0.4839 - val_acc: 0.7801 - val_mean_absolute_error: 0.3246 - val_precision: 0.7323 - val_recall: 0.8514\n",
      "Epoch 95/100\n",
      " - 13s - loss: 0.4870 - acc: 0.7783 - mean_absolute_error: 0.3195 - precision: 0.7277 - recall: 0.8554 - val_loss: 0.4838 - val_acc: 0.7813 - val_mean_absolute_error: 0.3261 - val_precision: 0.7387 - val_recall: 0.8453\n",
      "Epoch 96/100\n",
      " - 13s - loss: 0.4869 - acc: 0.7781 - mean_absolute_error: 0.3202 - precision: 0.7285 - recall: 0.8520 - val_loss: 0.4829 - val_acc: 0.7807 - val_mean_absolute_error: 0.3244 - val_precision: 0.7343 - val_recall: 0.8514\n",
      "Epoch 97/100\n",
      " - 13s - loss: 0.4866 - acc: 0.7785 - mean_absolute_error: 0.3193 - precision: 0.7280 - recall: 0.8564 - val_loss: 0.4826 - val_acc: 0.7814 - val_mean_absolute_error: 0.3251 - val_precision: 0.7373 - val_recall: 0.8492\n",
      "Epoch 98/100\n",
      " - 13s - loss: 0.4856 - acc: 0.7789 - mean_absolute_error: 0.3193 - precision: 0.7290 - recall: 0.8565 - val_loss: 0.4819 - val_acc: 0.7816 - val_mean_absolute_error: 0.3247 - val_precision: 0.7378 - val_recall: 0.8492\n",
      "Epoch 99/100\n",
      " - 13s - loss: 0.4849 - acc: 0.7792 - mean_absolute_error: 0.3186 - precision: 0.7293 - recall: 0.8581 - val_loss: 0.4818 - val_acc: 0.7815 - val_mean_absolute_error: 0.3262 - val_precision: 0.7415 - val_recall: 0.8398\n",
      "Epoch 100/100\n",
      " - 13s - loss: 0.4841 - acc: 0.7796 - mean_absolute_error: 0.3187 - precision: 0.7304 - recall: 0.8579 - val_loss: 0.4807 - val_acc: 0.7822 - val_mean_absolute_error: 0.3244 - val_precision: 0.7401 - val_recall: 0.8482\n"
     ]
    },
    {
     "data": {
      "text/plain": [
       "<keras.callbacks.History at 0x16801427908>"
      ]
     },
     "execution_count": 41,
     "metadata": {},
     "output_type": "execute_result"
    }
   ],
   "source": [
    "batch_size=64\n",
    "Y = pd.get_dummies(data['airline_sentiment']).values\n",
    "X_train, X_valid, Y_train, Y_valid = train_test_split(X,Y, test_size = 0.30)\n",
    "#Here we train the Network.\n",
    "pred=model_conv.fit(X_train, Y_train, batch_size =batch_size, epochs =100, verbose =2,validation_data=(X_valid,Y_valid))\n",
    "pred"
   ]
  },
  {
   "cell_type": "code",
   "execution_count": 46,
   "metadata": {},
   "outputs": [
    {
     "name": "stdout",
     "output_type": "stream",
     "text": [
      "score: 0.48\n",
      "validation accuracy: 0.78\n",
      "recall: 0.85\n",
      "Precision: 0.74\n"
     ]
    }
   ],
   "source": [
    "score=[]\n",
    "score=model_conv.evaluate(X_valid,Y_valid,verbose=2,batch_size=batch_size)\n",
    "#keras.metrics.binary_accuracy(Y_valid,pred)\n",
    "print(\"score: %.2f\" %(score[0]))\n",
    "print(\"validation accuracy: %.2f\" % (score[1]))\n",
    "print(\"recall: %.2f\" %(score[4]))\n",
    "print(\"Precision: %.2f\" % (score[3]))"
   ]
  },
  {
   "cell_type": "code",
   "execution_count": 48,
   "metadata": {},
   "outputs": [
    {
     "name": "stdout",
     "output_type": "stream",
     "text": [
      "Train on 10980 samples, validate on 3660 samples\n",
      "Epoch 1/100\n",
      " - 17s - loss: 0.5839 - acc: 0.6737 - mean_absolute_error: 0.4139 - precision: 0.5881 - recall: 0.1117 - val_loss: 0.5633 - val_acc: 0.6852 - val_mean_absolute_error: 0.3976 - val_precision: 0.7525 - val_recall: 0.1351\n",
      "Epoch 2/100\n",
      " - 15s - loss: 0.5453 - acc: 0.7540 - mean_absolute_error: 0.3777 - precision: 0.6310 - recall: 1.0000 - val_loss: 0.5492 - val_acc: 0.7432 - val_mean_absolute_error: 0.3772 - val_precision: 0.6148 - val_recall: 1.0000\n",
      "Epoch 3/100\n",
      " - 15s - loss: 0.5387 - acc: 0.7540 - mean_absolute_error: 0.3635 - precision: 0.6310 - recall: 1.0000 - val_loss: 0.5461 - val_acc: 0.7432 - val_mean_absolute_error: 0.3701 - val_precision: 0.6148 - val_recall: 1.0000\n",
      "Epoch 4/100\n",
      " - 15s - loss: 0.5367 - acc: 0.7540 - mean_absolute_error: 0.3582 - precision: 0.6310 - recall: 1.0000 - val_loss: 0.5446 - val_acc: 0.7432 - val_mean_absolute_error: 0.3679 - val_precision: 0.6148 - val_recall: 1.0000\n",
      "Epoch 5/100\n",
      " - 15s - loss: 0.5352 - acc: 0.7540 - mean_absolute_error: 0.3570 - precision: 0.6310 - recall: 1.0000 - val_loss: 0.5432 - val_acc: 0.7432 - val_mean_absolute_error: 0.3659 - val_precision: 0.6148 - val_recall: 1.0000\n",
      "Epoch 6/100\n",
      " - 15s - loss: 0.5339 - acc: 0.7540 - mean_absolute_error: 0.3548 - precision: 0.6310 - recall: 1.0000 - val_loss: 0.5421 - val_acc: 0.7432 - val_mean_absolute_error: 0.3653 - val_precision: 0.6148 - val_recall: 1.0000\n",
      "Epoch 7/100\n",
      " - 15s - loss: 0.5325 - acc: 0.7540 - mean_absolute_error: 0.3539 - precision: 0.6310 - recall: 1.0000 - val_loss: 0.5411 - val_acc: 0.7432 - val_mean_absolute_error: 0.3647 - val_precision: 0.6148 - val_recall: 1.0000\n",
      "Epoch 8/100\n",
      " - 15s - loss: 0.5313 - acc: 0.7540 - mean_absolute_error: 0.3536 - precision: 0.6310 - recall: 1.0000 - val_loss: 0.5400 - val_acc: 0.7432 - val_mean_absolute_error: 0.3636 - val_precision: 0.6148 - val_recall: 1.0000\n",
      "Epoch 9/100\n",
      " - 15s - loss: 0.5300 - acc: 0.7540 - mean_absolute_error: 0.3524 - precision: 0.6310 - recall: 1.0000 - val_loss: 0.5390 - val_acc: 0.7432 - val_mean_absolute_error: 0.3627 - val_precision: 0.6148 - val_recall: 1.0000\n",
      "Epoch 10/100\n",
      " - 15s - loss: 0.5287 - acc: 0.7540 - mean_absolute_error: 0.3517 - precision: 0.6310 - recall: 1.0000 - val_loss: 0.5380 - val_acc: 0.7432 - val_mean_absolute_error: 0.3616 - val_precision: 0.6148 - val_recall: 1.0000\n",
      "Epoch 11/100\n",
      " - 15s - loss: 0.5276 - acc: 0.7540 - mean_absolute_error: 0.3504 - precision: 0.6310 - recall: 1.0000 - val_loss: 0.5371 - val_acc: 0.7432 - val_mean_absolute_error: 0.3612 - val_precision: 0.6148 - val_recall: 1.0000\n",
      "Epoch 12/100\n",
      " - 15s - loss: 0.5263 - acc: 0.7540 - mean_absolute_error: 0.3502 - precision: 0.6310 - recall: 1.0000 - val_loss: 0.5361 - val_acc: 0.7432 - val_mean_absolute_error: 0.3598 - val_precision: 0.6148 - val_recall: 1.0000\n",
      "Epoch 13/100\n",
      " - 15s - loss: 0.5250 - acc: 0.7540 - mean_absolute_error: 0.3489 - precision: 0.6310 - recall: 1.0000 - val_loss: 0.5350 - val_acc: 0.7432 - val_mean_absolute_error: 0.3591 - val_precision: 0.6148 - val_recall: 1.0000\n",
      "Epoch 14/100\n",
      " - 15s - loss: 0.5238 - acc: 0.7540 - mean_absolute_error: 0.3487 - precision: 0.6310 - recall: 1.0000 - val_loss: 0.5339 - val_acc: 0.7432 - val_mean_absolute_error: 0.3578 - val_precision: 0.6148 - val_recall: 1.0000\n",
      "Epoch 15/100\n",
      " - 15s - loss: 0.5225 - acc: 0.7540 - mean_absolute_error: 0.3468 - precision: 0.6310 - recall: 1.0000 - val_loss: 0.5327 - val_acc: 0.7432 - val_mean_absolute_error: 0.3577 - val_precision: 0.6148 - val_recall: 1.0000\n",
      "Epoch 16/100\n",
      " - 15s - loss: 0.5212 - acc: 0.7540 - mean_absolute_error: 0.3466 - precision: 0.6310 - recall: 1.0000 - val_loss: 0.5315 - val_acc: 0.7432 - val_mean_absolute_error: 0.3569 - val_precision: 0.6148 - val_recall: 1.0000\n",
      "Epoch 17/100\n",
      " - 15s - loss: 0.5197 - acc: 0.7540 - mean_absolute_error: 0.3458 - precision: 0.6310 - recall: 1.0000 - val_loss: 0.5301 - val_acc: 0.7432 - val_mean_absolute_error: 0.3558 - val_precision: 0.6148 - val_recall: 1.0000\n",
      "Epoch 18/100\n",
      " - 15s - loss: 0.5182 - acc: 0.7540 - mean_absolute_error: 0.3444 - precision: 0.6310 - recall: 1.0000 - val_loss: 0.5287 - val_acc: 0.7432 - val_mean_absolute_error: 0.3554 - val_precision: 0.6148 - val_recall: 1.0000\n",
      "Epoch 19/100\n",
      " - 15s - loss: 0.5167 - acc: 0.7540 - mean_absolute_error: 0.3442 - precision: 0.6310 - recall: 1.0000 - val_loss: 0.5272 - val_acc: 0.7432 - val_mean_absolute_error: 0.3540 - val_precision: 0.6148 - val_recall: 1.0000\n",
      "Epoch 20/100\n",
      " - 15s - loss: 0.5150 - acc: 0.7540 - mean_absolute_error: 0.3429 - precision: 0.6310 - recall: 1.0000 - val_loss: 0.5257 - val_acc: 0.7432 - val_mean_absolute_error: 0.3531 - val_precision: 0.6148 - val_recall: 1.0000\n",
      "Epoch 21/100\n",
      " - 15s - loss: 0.5134 - acc: 0.7540 - mean_absolute_error: 0.3416 - precision: 0.6310 - recall: 1.0000 - val_loss: 0.5242 - val_acc: 0.7432 - val_mean_absolute_error: 0.3522 - val_precision: 0.6148 - val_recall: 1.0000\n",
      "Epoch 22/100\n",
      " - 16s - loss: 0.5118 - acc: 0.7553 - mean_absolute_error: 0.3410 - precision: 0.6340 - recall: 0.9965 - val_loss: 0.5226 - val_acc: 0.7579 - val_mean_absolute_error: 0.3511 - val_precision: 0.6501 - val_recall: 0.9644\n",
      "Epoch 23/100\n",
      " - 15s - loss: 0.5100 - acc: 0.7618 - mean_absolute_error: 0.3394 - precision: 0.6503 - recall: 0.9788 - val_loss: 0.5210 - val_acc: 0.7627 - val_mean_absolute_error: 0.3502 - val_precision: 0.6676 - val_recall: 0.9329\n",
      "Epoch 24/100\n",
      " - 15s - loss: 0.5086 - acc: 0.7714 - mean_absolute_error: 0.3397 - precision: 0.6793 - recall: 0.9430 - val_loss: 0.5194 - val_acc: 0.7628 - val_mean_absolute_error: 0.3472 - val_precision: 0.6680 - val_recall: 0.9329\n",
      "Epoch 25/100\n",
      " - 15s - loss: 0.5071 - acc: 0.7710 - mean_absolute_error: 0.3364 - precision: 0.6805 - recall: 0.9353 - val_loss: 0.5180 - val_acc: 0.7657 - val_mean_absolute_error: 0.3477 - val_precision: 0.6838 - val_recall: 0.8987\n",
      "Epoch 26/100\n",
      " - 15s - loss: 0.5058 - acc: 0.7749 - mean_absolute_error: 0.3369 - precision: 0.6953 - recall: 0.9158 - val_loss: 0.5167 - val_acc: 0.7666 - val_mean_absolute_error: 0.3456 - val_precision: 0.6896 - val_recall: 0.8867\n",
      "Epoch 27/100\n",
      " - 15s - loss: 0.5045 - acc: 0.7748 - mean_absolute_error: 0.3352 - precision: 0.6990 - recall: 0.9027 - val_loss: 0.5154 - val_acc: 0.7662 - val_mean_absolute_error: 0.3442 - val_precision: 0.6896 - val_recall: 0.8836\n",
      "Epoch 28/100\n",
      " - 15s - loss: 0.5036 - acc: 0.7751 - mean_absolute_error: 0.3339 - precision: 0.7031 - recall: 0.8928 - val_loss: 0.5144 - val_acc: 0.7660 - val_mean_absolute_error: 0.3435 - val_precision: 0.6893 - val_recall: 0.8827\n",
      "Epoch 29/100\n",
      " - 15s - loss: 0.5026 - acc: 0.7758 - mean_absolute_error: 0.3327 - precision: 0.7068 - recall: 0.8871 - val_loss: 0.5134 - val_acc: 0.7662 - val_mean_absolute_error: 0.3428 - val_precision: 0.6898 - val_recall: 0.8827\n",
      "Epoch 30/100\n",
      " - 15s - loss: 0.5017 - acc: 0.7759 - mean_absolute_error: 0.3321 - precision: 0.7086 - recall: 0.8818 - val_loss: 0.5126 - val_acc: 0.7665 - val_mean_absolute_error: 0.3415 - val_precision: 0.6905 - val_recall: 0.8827\n",
      "Epoch 31/100\n",
      " - 15s - loss: 0.5011 - acc: 0.7764 - mean_absolute_error: 0.3310 - precision: 0.7102 - recall: 0.8814 - val_loss: 0.5119 - val_acc: 0.7676 - val_mean_absolute_error: 0.3406 - val_precision: 0.6938 - val_recall: 0.8813\n",
      "Epoch 32/100\n",
      " - 15s - loss: 0.5005 - acc: 0.7762 - mean_absolute_error: 0.3304 - precision: 0.7115 - recall: 0.8763 - val_loss: 0.5113 - val_acc: 0.7677 - val_mean_absolute_error: 0.3392 - val_precision: 0.6949 - val_recall: 0.8787\n",
      "Epoch 33/100\n",
      " - 15s - loss: 0.5003 - acc: 0.7759 - mean_absolute_error: 0.3294 - precision: 0.7119 - recall: 0.8727 - val_loss: 0.5108 - val_acc: 0.7677 - val_mean_absolute_error: 0.3387 - val_precision: 0.6980 - val_recall: 0.8689\n",
      "Epoch 34/100\n",
      " - 15s - loss: 0.4996 - acc: 0.7768 - mean_absolute_error: 0.3283 - precision: 0.7152 - recall: 0.8705 - val_loss: 0.5104 - val_acc: 0.7681 - val_mean_absolute_error: 0.3389 - val_precision: 0.7048 - val_recall: 0.8520\n",
      "Epoch 35/100\n",
      " - 15s - loss: 0.4994 - acc: 0.7770 - mean_absolute_error: 0.3285 - precision: 0.7185 - recall: 0.8623 - val_loss: 0.5100 - val_acc: 0.7683 - val_mean_absolute_error: 0.3375 - val_precision: 0.7042 - val_recall: 0.8551\n",
      "Epoch 36/100\n",
      " - 15s - loss: 0.4994 - acc: 0.7760 - mean_absolute_error: 0.3277 - precision: 0.7170 - recall: 0.8585 - val_loss: 0.5097 - val_acc: 0.7685 - val_mean_absolute_error: 0.3367 - val_precision: 0.7049 - val_recall: 0.8547\n"
     ]
    },
    {
     "name": "stdout",
     "output_type": "stream",
     "text": [
      "Epoch 37/100\n",
      " - 15s - loss: 0.4989 - acc: 0.7769 - mean_absolute_error: 0.3273 - precision: 0.7193 - recall: 0.8594 - val_loss: 0.5094 - val_acc: 0.7683 - val_mean_absolute_error: 0.3361 - val_precision: 0.7053 - val_recall: 0.8520\n",
      "Epoch 38/100\n",
      " - 15s - loss: 0.4988 - acc: 0.7767 - mean_absolute_error: 0.3265 - precision: 0.7195 - recall: 0.8570 - val_loss: 0.5091 - val_acc: 0.7679 - val_mean_absolute_error: 0.3360 - val_precision: 0.7056 - val_recall: 0.8480\n",
      "Epoch 39/100\n",
      " - 15s - loss: 0.4984 - acc: 0.7768 - mean_absolute_error: 0.3262 - precision: 0.7205 - recall: 0.8558 - val_loss: 0.5088 - val_acc: 0.7679 - val_mean_absolute_error: 0.3360 - val_precision: 0.7060 - val_recall: 0.8462\n",
      "Epoch 40/100\n",
      " - 15s - loss: 0.4983 - acc: 0.7767 - mean_absolute_error: 0.3262 - precision: 0.7217 - recall: 0.8519 - val_loss: 0.5086 - val_acc: 0.7680 - val_mean_absolute_error: 0.3351 - val_precision: 0.7060 - val_recall: 0.8476\n",
      "Epoch 41/100\n",
      " - 15s - loss: 0.4981 - acc: 0.7767 - mean_absolute_error: 0.3256 - precision: 0.7204 - recall: 0.8546 - val_loss: 0.5084 - val_acc: 0.7679 - val_mean_absolute_error: 0.3351 - val_precision: 0.7060 - val_recall: 0.8462\n",
      "Epoch 42/100\n",
      " - 15s - loss: 0.4978 - acc: 0.7770 - mean_absolute_error: 0.3258 - precision: 0.7236 - recall: 0.8490 - val_loss: 0.5082 - val_acc: 0.7681 - val_mean_absolute_error: 0.3339 - val_precision: 0.7054 - val_recall: 0.8502\n",
      "Epoch 43/100\n",
      " - 15s - loss: 0.4973 - acc: 0.7771 - mean_absolute_error: 0.3247 - precision: 0.7215 - recall: 0.8551 - val_loss: 0.5079 - val_acc: 0.7679 - val_mean_absolute_error: 0.3350 - val_precision: 0.7066 - val_recall: 0.8444\n",
      "Epoch 44/100\n",
      " - 15s - loss: 0.4973 - acc: 0.7766 - mean_absolute_error: 0.3245 - precision: 0.7212 - recall: 0.8520 - val_loss: 0.5077 - val_acc: 0.7670 - val_mean_absolute_error: 0.3360 - val_precision: 0.7061 - val_recall: 0.8391\n",
      "Epoch 45/100\n",
      " - 15s - loss: 0.4970 - acc: 0.7766 - mean_absolute_error: 0.3255 - precision: 0.7239 - recall: 0.8450 - val_loss: 0.5075 - val_acc: 0.7678 - val_mean_absolute_error: 0.3339 - val_precision: 0.7059 - val_recall: 0.8458\n",
      "Epoch 46/100\n",
      " - 15s - loss: 0.4969 - acc: 0.7768 - mean_absolute_error: 0.3247 - precision: 0.7229 - recall: 0.8490 - val_loss: 0.5073 - val_acc: 0.7682 - val_mean_absolute_error: 0.3335 - val_precision: 0.7064 - val_recall: 0.8480\n",
      "Epoch 47/100\n",
      " - 15s - loss: 0.4969 - acc: 0.7770 - mean_absolute_error: 0.3241 - precision: 0.7223 - recall: 0.8525 - val_loss: 0.5070 - val_acc: 0.7677 - val_mean_absolute_error: 0.3340 - val_precision: 0.7059 - val_recall: 0.8449\n",
      "Epoch 48/100\n",
      " - 15s - loss: 0.4966 - acc: 0.7776 - mean_absolute_error: 0.3240 - precision: 0.7245 - recall: 0.8508 - val_loss: 0.5068 - val_acc: 0.7679 - val_mean_absolute_error: 0.3342 - val_precision: 0.7067 - val_recall: 0.8440\n",
      "Epoch 49/100\n",
      " - 15s - loss: 0.4962 - acc: 0.7771 - mean_absolute_error: 0.3239 - precision: 0.7237 - recall: 0.8493 - val_loss: 0.5066 - val_acc: 0.7679 - val_mean_absolute_error: 0.3342 - val_precision: 0.7072 - val_recall: 0.8436\n",
      "Epoch 50/100\n",
      " - 15s - loss: 0.4963 - acc: 0.7774 - mean_absolute_error: 0.3240 - precision: 0.7241 - recall: 0.8509 - val_loss: 0.5063 - val_acc: 0.7680 - val_mean_absolute_error: 0.3340 - val_precision: 0.7071 - val_recall: 0.8444\n",
      "Epoch 51/100\n",
      " - 15s - loss: 0.4957 - acc: 0.7769 - mean_absolute_error: 0.3232 - precision: 0.7226 - recall: 0.8509 - val_loss: 0.5061 - val_acc: 0.7678 - val_mean_absolute_error: 0.3349 - val_precision: 0.7074 - val_recall: 0.8413\n",
      "Epoch 52/100\n",
      " - 15s - loss: 0.4958 - acc: 0.7771 - mean_absolute_error: 0.3245 - precision: 0.7257 - recall: 0.8440 - val_loss: 0.5059 - val_acc: 0.7685 - val_mean_absolute_error: 0.3325 - val_precision: 0.7066 - val_recall: 0.8498\n",
      "Epoch 53/100\n",
      " - 15s - loss: 0.4956 - acc: 0.7768 - mean_absolute_error: 0.3231 - precision: 0.7224 - recall: 0.8506 - val_loss: 0.5057 - val_acc: 0.7683 - val_mean_absolute_error: 0.3330 - val_precision: 0.7070 - val_recall: 0.8471\n",
      "Epoch 54/100\n",
      " - 15s - loss: 0.4951 - acc: 0.7774 - mean_absolute_error: 0.3235 - precision: 0.7246 - recall: 0.8492 - val_loss: 0.5055 - val_acc: 0.7685 - val_mean_absolute_error: 0.3320 - val_precision: 0.7064 - val_recall: 0.8502\n",
      "Epoch 55/100\n",
      " - 15s - loss: 0.4946 - acc: 0.7782 - mean_absolute_error: 0.3225 - precision: 0.7247 - recall: 0.8549 - val_loss: 0.5052 - val_acc: 0.7685 - val_mean_absolute_error: 0.3332 - val_precision: 0.7078 - val_recall: 0.8462\n",
      "Epoch 56/100\n",
      " - 15s - loss: 0.4947 - acc: 0.7772 - mean_absolute_error: 0.3233 - precision: 0.7245 - recall: 0.8483 - val_loss: 0.5049 - val_acc: 0.7688 - val_mean_absolute_error: 0.3323 - val_precision: 0.7075 - val_recall: 0.8493\n",
      "Epoch 57/100\n",
      " - 15s - loss: 0.4944 - acc: 0.7782 - mean_absolute_error: 0.3220 - precision: 0.7244 - recall: 0.8561 - val_loss: 0.5047 - val_acc: 0.7685 - val_mean_absolute_error: 0.3343 - val_precision: 0.7095 - val_recall: 0.8413\n",
      "Epoch 58/100\n",
      " - 15s - loss: 0.4942 - acc: 0.7777 - mean_absolute_error: 0.3232 - precision: 0.7260 - recall: 0.8476 - val_loss: 0.5044 - val_acc: 0.7688 - val_mean_absolute_error: 0.3328 - val_precision: 0.7084 - val_recall: 0.8467\n",
      "Epoch 59/100\n",
      " - 15s - loss: 0.4939 - acc: 0.7781 - mean_absolute_error: 0.3227 - precision: 0.7261 - recall: 0.8506 - val_loss: 0.5041 - val_acc: 0.7688 - val_mean_absolute_error: 0.3319 - val_precision: 0.7075 - val_recall: 0.8493\n",
      "Epoch 60/100\n",
      " - 15s - loss: 0.4935 - acc: 0.7786 - mean_absolute_error: 0.3220 - precision: 0.7260 - recall: 0.8549 - val_loss: 0.5038 - val_acc: 0.7691 - val_mean_absolute_error: 0.3329 - val_precision: 0.7095 - val_recall: 0.8467\n",
      "Epoch 61/100\n",
      " - 15s - loss: 0.4936 - acc: 0.7780 - mean_absolute_error: 0.3224 - precision: 0.7257 - recall: 0.8512 - val_loss: 0.5035 - val_acc: 0.7693 - val_mean_absolute_error: 0.3323 - val_precision: 0.7094 - val_recall: 0.8484\n",
      "Epoch 62/100\n",
      " - 15s - loss: 0.4930 - acc: 0.7775 - mean_absolute_error: 0.3221 - precision: 0.7245 - recall: 0.8506 - val_loss: 0.5032 - val_acc: 0.7694 - val_mean_absolute_error: 0.3318 - val_precision: 0.7094 - val_recall: 0.8493\n",
      "Epoch 63/100\n",
      " - 15s - loss: 0.4927 - acc: 0.7784 - mean_absolute_error: 0.3210 - precision: 0.7248 - recall: 0.8567 - val_loss: 0.5030 - val_acc: 0.7695 - val_mean_absolute_error: 0.3337 - val_precision: 0.7123 - val_recall: 0.8418\n",
      "Epoch 64/100\n",
      " - 15s - loss: 0.4924 - acc: 0.7778 - mean_absolute_error: 0.3228 - precision: 0.7271 - recall: 0.8463 - val_loss: 0.5027 - val_acc: 0.7695 - val_mean_absolute_error: 0.3304 - val_precision: 0.7082 - val_recall: 0.8533\n",
      "Epoch 65/100\n",
      " - 15s - loss: 0.4920 - acc: 0.7785 - mean_absolute_error: 0.3208 - precision: 0.7249 - recall: 0.8568 - val_loss: 0.5023 - val_acc: 0.7696 - val_mean_absolute_error: 0.3318 - val_precision: 0.7103 - val_recall: 0.8480\n",
      "Epoch 66/100\n",
      " - 15s - loss: 0.4919 - acc: 0.7783 - mean_absolute_error: 0.3213 - precision: 0.7259 - recall: 0.8531 - val_loss: 0.5020 - val_acc: 0.7696 - val_mean_absolute_error: 0.3319 - val_precision: 0.7107 - val_recall: 0.8471\n",
      "Epoch 67/100\n",
      " - 15s - loss: 0.4916 - acc: 0.7782 - mean_absolute_error: 0.3213 - precision: 0.7255 - recall: 0.8533 - val_loss: 0.5016 - val_acc: 0.7695 - val_mean_absolute_error: 0.3316 - val_precision: 0.7104 - val_recall: 0.8471\n",
      "Epoch 68/100\n",
      " - 15s - loss: 0.4914 - acc: 0.7779 - mean_absolute_error: 0.3209 - precision: 0.7244 - recall: 0.8536 - val_loss: 0.5013 - val_acc: 0.7708 - val_mean_absolute_error: 0.3323 - val_precision: 0.7144 - val_recall: 0.8462\n",
      "Epoch 69/100\n",
      " - 15s - loss: 0.4905 - acc: 0.7785 - mean_absolute_error: 0.3206 - precision: 0.7264 - recall: 0.8528 - val_loss: 0.5010 - val_acc: 0.7709 - val_mean_absolute_error: 0.3324 - val_precision: 0.7152 - val_recall: 0.8449\n",
      "Epoch 70/100\n",
      " - 15s - loss: 0.4904 - acc: 0.7783 - mean_absolute_error: 0.3208 - precision: 0.7263 - recall: 0.8516 - val_loss: 0.5006 - val_acc: 0.7709 - val_mean_absolute_error: 0.3320 - val_precision: 0.7149 - val_recall: 0.8458\n",
      "Epoch 71/100\n",
      " - 15s - loss: 0.4900 - acc: 0.7788 - mean_absolute_error: 0.3203 - precision: 0.7265 - recall: 0.8548 - val_loss: 0.5002 - val_acc: 0.7713 - val_mean_absolute_error: 0.3321 - val_precision: 0.7164 - val_recall: 0.8453\n",
      "Epoch 72/100\n",
      " - 15s - loss: 0.4898 - acc: 0.7791 - mean_absolute_error: 0.3202 - precision: 0.7278 - recall: 0.8535 - val_loss: 0.4998 - val_acc: 0.7715 - val_mean_absolute_error: 0.3320 - val_precision: 0.7169 - val_recall: 0.8453\n"
     ]
    },
    {
     "name": "stdout",
     "output_type": "stream",
     "text": [
      "Epoch 73/100\n",
      " - 15s - loss: 0.4893 - acc: 0.7793 - mean_absolute_error: 0.3203 - precision: 0.7279 - recall: 0.8549 - val_loss: 0.4994 - val_acc: 0.7714 - val_mean_absolute_error: 0.3309 - val_precision: 0.7157 - val_recall: 0.8480\n",
      "Epoch 74/100\n",
      " - 15s - loss: 0.4891 - acc: 0.7793 - mean_absolute_error: 0.3198 - precision: 0.7275 - recall: 0.8565 - val_loss: 0.4990 - val_acc: 0.7719 - val_mean_absolute_error: 0.3314 - val_precision: 0.7178 - val_recall: 0.8458\n",
      "Epoch 75/100\n",
      " - 15s - loss: 0.4886 - acc: 0.7800 - mean_absolute_error: 0.3200 - precision: 0.7296 - recall: 0.8562 - val_loss: 0.4985 - val_acc: 0.7717 - val_mean_absolute_error: 0.3300 - val_precision: 0.7158 - val_recall: 0.8498\n",
      "Epoch 76/100\n",
      " - 15s - loss: 0.4878 - acc: 0.7800 - mean_absolute_error: 0.3188 - precision: 0.7278 - recall: 0.8606 - val_loss: 0.4981 - val_acc: 0.7723 - val_mean_absolute_error: 0.3312 - val_precision: 0.7194 - val_recall: 0.8453\n",
      "Epoch 77/100\n",
      " - 15s - loss: 0.4872 - acc: 0.7796 - mean_absolute_error: 0.3189 - precision: 0.7287 - recall: 0.8552 - val_loss: 0.4976 - val_acc: 0.7725 - val_mean_absolute_error: 0.3313 - val_precision: 0.7202 - val_recall: 0.8444\n",
      "Epoch 78/100\n",
      " - 15s - loss: 0.4873 - acc: 0.7795 - mean_absolute_error: 0.3195 - precision: 0.7291 - recall: 0.8538 - val_loss: 0.4971 - val_acc: 0.7725 - val_mean_absolute_error: 0.3297 - val_precision: 0.7183 - val_recall: 0.8498\n",
      "Epoch 79/100\n",
      " - 15s - loss: 0.4863 - acc: 0.7804 - mean_absolute_error: 0.3184 - precision: 0.7294 - recall: 0.8594 - val_loss: 0.4966 - val_acc: 0.7731 - val_mean_absolute_error: 0.3299 - val_precision: 0.7206 - val_recall: 0.8484\n",
      "Epoch 80/100\n",
      " - 15s - loss: 0.4857 - acc: 0.7800 - mean_absolute_error: 0.3182 - precision: 0.7292 - recall: 0.8572 - val_loss: 0.4961 - val_acc: 0.7734 - val_mean_absolute_error: 0.3298 - val_precision: 0.7213 - val_recall: 0.8489\n",
      "Epoch 81/100\n",
      " - 15s - loss: 0.4854 - acc: 0.7796 - mean_absolute_error: 0.3184 - precision: 0.7285 - recall: 0.8561 - val_loss: 0.4955 - val_acc: 0.7735 - val_mean_absolute_error: 0.3292 - val_precision: 0.7214 - val_recall: 0.8493\n",
      "Epoch 82/100\n",
      " - 15s - loss: 0.4850 - acc: 0.7803 - mean_absolute_error: 0.3177 - precision: 0.7298 - recall: 0.8578 - val_loss: 0.4950 - val_acc: 0.7737 - val_mean_absolute_error: 0.3294 - val_precision: 0.7230 - val_recall: 0.8467\n",
      "Epoch 83/100\n",
      " - 15s - loss: 0.4844 - acc: 0.7809 - mean_absolute_error: 0.3186 - precision: 0.7334 - recall: 0.8536 - val_loss: 0.4944 - val_acc: 0.7724 - val_mean_absolute_error: 0.3259 - val_precision: 0.7148 - val_recall: 0.8587\n",
      "Epoch 84/100\n",
      " - 15s - loss: 0.4837 - acc: 0.7808 - mean_absolute_error: 0.3165 - precision: 0.7299 - recall: 0.8614 - val_loss: 0.4937 - val_acc: 0.7735 - val_mean_absolute_error: 0.3280 - val_precision: 0.7219 - val_recall: 0.8480\n",
      "Epoch 85/100\n",
      " - 15s - loss: 0.4832 - acc: 0.7813 - mean_absolute_error: 0.3169 - precision: 0.7317 - recall: 0.8603 - val_loss: 0.4931 - val_acc: 0.7740 - val_mean_absolute_error: 0.3280 - val_precision: 0.7236 - val_recall: 0.8471\n",
      "Epoch 86/100\n",
      " - 15s - loss: 0.4825 - acc: 0.7812 - mean_absolute_error: 0.3169 - precision: 0.7324 - recall: 0.8581 - val_loss: 0.4924 - val_acc: 0.7740 - val_mean_absolute_error: 0.3268 - val_precision: 0.7224 - val_recall: 0.8502\n",
      "Epoch 87/100\n",
      " - 15s - loss: 0.4822 - acc: 0.7813 - mean_absolute_error: 0.3158 - precision: 0.7305 - recall: 0.8633 - val_loss: 0.4919 - val_acc: 0.7750 - val_mean_absolute_error: 0.3291 - val_precision: 0.7291 - val_recall: 0.8409\n",
      "Epoch 88/100\n",
      " - 20s - loss: 0.4811 - acc: 0.7812 - mean_absolute_error: 0.3168 - precision: 0.7332 - recall: 0.8562 - val_loss: 0.4909 - val_acc: 0.7746 - val_mean_absolute_error: 0.3262 - val_precision: 0.7243 - val_recall: 0.8502\n",
      "Epoch 89/100\n",
      " - 15s - loss: 0.4807 - acc: 0.7815 - mean_absolute_error: 0.3155 - precision: 0.7314 - recall: 0.8624 - val_loss: 0.4903 - val_acc: 0.7760 - val_mean_absolute_error: 0.3276 - val_precision: 0.7302 - val_recall: 0.8458\n",
      "Epoch 90/100\n",
      " - 16s - loss: 0.4799 - acc: 0.7812 - mean_absolute_error: 0.3150 - precision: 0.7313 - recall: 0.8610 - val_loss: 0.4898 - val_acc: 0.7758 - val_mean_absolute_error: 0.3290 - val_precision: 0.7334 - val_recall: 0.8364\n",
      "Epoch 91/100\n",
      " - 16s - loss: 0.4790 - acc: 0.7823 - mean_absolute_error: 0.3155 - precision: 0.7357 - recall: 0.8584 - val_loss: 0.4888 - val_acc: 0.7761 - val_mean_absolute_error: 0.3271 - val_precision: 0.7317 - val_recall: 0.8436\n",
      "Epoch 92/100\n",
      " - 17s - loss: 0.4781 - acc: 0.7826 - mean_absolute_error: 0.3146 - precision: 0.7355 - recall: 0.8611 - val_loss: 0.4879 - val_acc: 0.7764 - val_mean_absolute_error: 0.3264 - val_precision: 0.7322 - val_recall: 0.8444\n",
      "Epoch 93/100\n",
      " - 17s - loss: 0.4776 - acc: 0.7826 - mean_absolute_error: 0.3142 - precision: 0.7346 - recall: 0.8630 - val_loss: 0.4872 - val_acc: 0.7769 - val_mean_absolute_error: 0.3270 - val_precision: 0.7350 - val_recall: 0.8409\n",
      "Epoch 94/100\n",
      " - 15s - loss: 0.4763 - acc: 0.7831 - mean_absolute_error: 0.3141 - precision: 0.7367 - recall: 0.8616 - val_loss: 0.4861 - val_acc: 0.7773 - val_mean_absolute_error: 0.3253 - val_precision: 0.7341 - val_recall: 0.8467\n",
      "Epoch 95/100\n",
      " - 15s - loss: 0.4757 - acc: 0.7832 - mean_absolute_error: 0.3131 - precision: 0.7364 - recall: 0.8632 - val_loss: 0.4853 - val_acc: 0.7774 - val_mean_absolute_error: 0.3263 - val_precision: 0.7368 - val_recall: 0.8409\n",
      "Epoch 96/100\n",
      " - 15s - loss: 0.4746 - acc: 0.7841 - mean_absolute_error: 0.3131 - precision: 0.7389 - recall: 0.8632 - val_loss: 0.4842 - val_acc: 0.7782 - val_mean_absolute_error: 0.3251 - val_precision: 0.7377 - val_recall: 0.8449\n",
      "Epoch 97/100\n",
      " - 15s - loss: 0.4735 - acc: 0.7844 - mean_absolute_error: 0.3120 - precision: 0.7389 - recall: 0.8655 - val_loss: 0.4837 - val_acc: 0.7773 - val_mean_absolute_error: 0.3268 - val_precision: 0.7404 - val_recall: 0.8316\n",
      "Epoch 98/100\n",
      " - 15s - loss: 0.4724 - acc: 0.7846 - mean_absolute_error: 0.3123 - precision: 0.7404 - recall: 0.8636 - val_loss: 0.4826 - val_acc: 0.7776 - val_mean_absolute_error: 0.3260 - val_precision: 0.7409 - val_recall: 0.8324\n",
      "Epoch 99/100\n",
      " - 15s - loss: 0.4715 - acc: 0.7844 - mean_absolute_error: 0.3116 - precision: 0.7399 - recall: 0.8632 - val_loss: 0.4816 - val_acc: 0.7775 - val_mean_absolute_error: 0.3258 - val_precision: 0.7416 - val_recall: 0.8302\n",
      "Epoch 100/100\n",
      " - 15s - loss: 0.4700 - acc: 0.7846 - mean_absolute_error: 0.3109 - precision: 0.7409 - recall: 0.8626 - val_loss: 0.4806 - val_acc: 0.7775 - val_mean_absolute_error: 0.3258 - val_precision: 0.7435 - val_recall: 0.8258\n"
     ]
    },
    {
     "data": {
      "text/plain": [
       "<keras.callbacks.History at 0x168033a2198>"
      ]
     },
     "execution_count": 48,
     "metadata": {},
     "output_type": "execute_result"
    }
   ],
   "source": [
    "batch_size=64\n",
    "Y = pd.get_dummies(data['airline_sentiment']).values\n",
    "X_train, X_valid, Y_train, Y_valid = train_test_split(X,Y, test_size = 0.25)\n",
    "#Here we train the Network.\n",
    "pred=model_conv.fit(X_train, Y_train, batch_size =batch_size, epochs =100, verbose =2,validation_data=(X_valid,Y_valid))\n",
    "pred"
   ]
  },
  {
   "cell_type": "code",
   "execution_count": 52,
   "metadata": {},
   "outputs": [
    {
     "name": "stdout",
     "output_type": "stream",
     "text": [
      "Train on 10980 samples, validate on 3660 samples\n",
      "Epoch 1/100\n",
      " - 12s - loss: 0.5707 - acc: 0.7067 - mean_absolute_error: 0.4013 - precision: 0.6254 - recall: 0.4795 - val_loss: 0.5411 - val_acc: 0.7552 - val_mean_absolute_error: 0.3727 - val_precision: 0.6328 - val_recall: 1.0000\n",
      "Epoch 2/100\n",
      " - 10s - loss: 0.5425 - acc: 0.7500 - mean_absolute_error: 0.3659 - precision: 0.6250 - recall: 1.0000 - val_loss: 0.5350 - val_acc: 0.7552 - val_mean_absolute_error: 0.3622 - val_precision: 0.6328 - val_recall: 1.0000\n",
      "Epoch 3/100\n",
      " - 10s - loss: 0.5390 - acc: 0.7500 - mean_absolute_error: 0.3607 - precision: 0.6250 - recall: 1.0000 - val_loss: 0.5319 - val_acc: 0.7552 - val_mean_absolute_error: 0.3581 - val_precision: 0.6328 - val_recall: 1.0000\n",
      "Epoch 4/100\n",
      " - 10s - loss: 0.5365 - acc: 0.7500 - mean_absolute_error: 0.3583 - precision: 0.6250 - recall: 1.0000 - val_loss: 0.5294 - val_acc: 0.7552 - val_mean_absolute_error: 0.3551 - val_precision: 0.6328 - val_recall: 1.0000\n",
      "Epoch 5/100\n",
      " - 10s - loss: 0.5343 - acc: 0.7500 - mean_absolute_error: 0.3561 - precision: 0.6250 - recall: 1.0000 - val_loss: 0.5274 - val_acc: 0.7552 - val_mean_absolute_error: 0.3537 - val_precision: 0.6328 - val_recall: 1.0000\n",
      "Epoch 6/100\n",
      " - 10s - loss: 0.5322 - acc: 0.7500 - mean_absolute_error: 0.3542 - precision: 0.6250 - recall: 1.0000 - val_loss: 0.5253 - val_acc: 0.7552 - val_mean_absolute_error: 0.3524 - val_precision: 0.6328 - val_recall: 1.0000\n",
      "Epoch 7/100\n",
      " - 10s - loss: 0.5300 - acc: 0.7500 - mean_absolute_error: 0.3531 - precision: 0.6250 - recall: 1.0000 - val_loss: 0.5228 - val_acc: 0.7552 - val_mean_absolute_error: 0.3498 - val_precision: 0.6328 - val_recall: 1.0000\n",
      "Epoch 8/100\n",
      " - 10s - loss: 0.5275 - acc: 0.7500 - mean_absolute_error: 0.3513 - precision: 0.6250 - recall: 1.0000 - val_loss: 0.5200 - val_acc: 0.7552 - val_mean_absolute_error: 0.3486 - val_precision: 0.6328 - val_recall: 1.0000\n",
      "Epoch 9/100\n",
      " - 10s - loss: 0.5247 - acc: 0.7500 - mean_absolute_error: 0.3501 - precision: 0.6250 - recall: 1.0000 - val_loss: 0.5167 - val_acc: 0.7552 - val_mean_absolute_error: 0.3455 - val_precision: 0.6328 - val_recall: 1.0000\n",
      "Epoch 10/100\n",
      " - 10s - loss: 0.5214 - acc: 0.7500 - mean_absolute_error: 0.3469 - precision: 0.6250 - recall: 1.0000 - val_loss: 0.5136 - val_acc: 0.7552 - val_mean_absolute_error: 0.3474 - val_precision: 0.6328 - val_recall: 1.0000\n",
      "Epoch 11/100\n",
      " - 10s - loss: 0.5182 - acc: 0.7519 - mean_absolute_error: 0.3469 - precision: 0.6292 - recall: 0.9956 - val_loss: 0.5096 - val_acc: 0.7627 - val_mean_absolute_error: 0.3425 - val_precision: 0.6502 - val_recall: 0.9849\n",
      "Epoch 12/100\n",
      " - 10s - loss: 0.5149 - acc: 0.7650 - mean_absolute_error: 0.3436 - precision: 0.6644 - recall: 0.9537 - val_loss: 0.5061 - val_acc: 0.7737 - val_mean_absolute_error: 0.3398 - val_precision: 0.6837 - val_recall: 0.9443\n",
      "Epoch 13/100\n",
      " - 11s - loss: 0.5121 - acc: 0.7695 - mean_absolute_error: 0.3416 - precision: 0.6850 - recall: 0.9136 - val_loss: 0.5029 - val_acc: 0.7754 - val_mean_absolute_error: 0.3349 - val_precision: 0.6904 - val_recall: 0.9348\n",
      "Epoch 14/100\n",
      " - 10s - loss: 0.5097 - acc: 0.7715 - mean_absolute_error: 0.3382 - precision: 0.6957 - recall: 0.8942 - val_loss: 0.5005 - val_acc: 0.7780 - val_mean_absolute_error: 0.3351 - val_precision: 0.7114 - val_recall: 0.8877\n",
      "Epoch 15/100\n",
      " - 10s - loss: 0.5081 - acc: 0.7721 - mean_absolute_error: 0.3367 - precision: 0.7013 - recall: 0.8812 - val_loss: 0.4987 - val_acc: 0.7780 - val_mean_absolute_error: 0.3324 - val_precision: 0.7114 - val_recall: 0.8877\n",
      "Epoch 16/100\n",
      " - 10s - loss: 0.5069 - acc: 0.7724 - mean_absolute_error: 0.3349 - precision: 0.7042 - recall: 0.8755 - val_loss: 0.4975 - val_acc: 0.7794 - val_mean_absolute_error: 0.3325 - val_precision: 0.7197 - val_recall: 0.8756\n",
      "Epoch 17/100\n",
      " - 10s - loss: 0.5061 - acc: 0.7728 - mean_absolute_error: 0.3340 - precision: 0.7110 - recall: 0.8584 - val_loss: 0.4964 - val_acc: 0.7781 - val_mean_absolute_error: 0.3279 - val_precision: 0.7117 - val_recall: 0.8877\n",
      "Epoch 18/100\n",
      " - 10s - loss: 0.5055 - acc: 0.7725 - mean_absolute_error: 0.3321 - precision: 0.7087 - recall: 0.8627 - val_loss: 0.4958 - val_acc: 0.7791 - val_mean_absolute_error: 0.3297 - val_precision: 0.7258 - val_recall: 0.8562\n",
      "Epoch 19/100\n",
      " - 10s - loss: 0.5051 - acc: 0.7719 - mean_absolute_error: 0.3322 - precision: 0.7136 - recall: 0.8435 - val_loss: 0.4950 - val_acc: 0.7797 - val_mean_absolute_error: 0.3260 - val_precision: 0.7183 - val_recall: 0.8817\n",
      "Epoch 20/100\n",
      " - 10s - loss: 0.5046 - acc: 0.7724 - mean_absolute_error: 0.3308 - precision: 0.7143 - recall: 0.8461 - val_loss: 0.4945 - val_acc: 0.7797 - val_mean_absolute_error: 0.3258 - val_precision: 0.7225 - val_recall: 0.8700\n",
      "Epoch 21/100\n",
      " - 10s - loss: 0.5043 - acc: 0.7723 - mean_absolute_error: 0.3303 - precision: 0.7159 - recall: 0.8403 - val_loss: 0.4941 - val_acc: 0.7793 - val_mean_absolute_error: 0.3258 - val_precision: 0.7242 - val_recall: 0.8627\n",
      "Epoch 22/100\n",
      " - 10s - loss: 0.5038 - acc: 0.7725 - mean_absolute_error: 0.3295 - precision: 0.7153 - recall: 0.8442 - val_loss: 0.4937 - val_acc: 0.7791 - val_mean_absolute_error: 0.3265 - val_precision: 0.7283 - val_recall: 0.8497\n",
      "Epoch 23/100\n",
      " - 10s - loss: 0.5036 - acc: 0.7724 - mean_absolute_error: 0.3296 - precision: 0.7172 - recall: 0.8377 - val_loss: 0.4933 - val_acc: 0.7796 - val_mean_absolute_error: 0.3251 - val_precision: 0.7263 - val_recall: 0.8592\n",
      "Epoch 24/100\n",
      " - 10s - loss: 0.5032 - acc: 0.7728 - mean_absolute_error: 0.3291 - precision: 0.7172 - recall: 0.8414 - val_loss: 0.4929 - val_acc: 0.7801 - val_mean_absolute_error: 0.3240 - val_precision: 0.7246 - val_recall: 0.8670\n",
      "Epoch 25/100\n",
      " - 10s - loss: 0.5028 - acc: 0.7730 - mean_absolute_error: 0.3286 - precision: 0.7161 - recall: 0.8460 - val_loss: 0.4926 - val_acc: 0.7791 - val_mean_absolute_error: 0.3261 - val_precision: 0.7295 - val_recall: 0.8467\n",
      "Epoch 26/100\n",
      " - 10s - loss: 0.5025 - acc: 0.7725 - mean_absolute_error: 0.3294 - precision: 0.7174 - recall: 0.8381 - val_loss: 0.4922 - val_acc: 0.7793 - val_mean_absolute_error: 0.3206 - val_precision: 0.7157 - val_recall: 0.8860\n",
      "Epoch 27/100\n",
      " - 10s - loss: 0.5020 - acc: 0.7732 - mean_absolute_error: 0.3277 - precision: 0.7160 - recall: 0.8474 - val_loss: 0.4916 - val_acc: 0.7807 - val_mean_absolute_error: 0.3228 - val_precision: 0.7250 - val_recall: 0.8709\n",
      "Epoch 28/100\n",
      " - 10s - loss: 0.5018 - acc: 0.7734 - mean_absolute_error: 0.3280 - precision: 0.7178 - recall: 0.8442 - val_loss: 0.4912 - val_acc: 0.7801 - val_mean_absolute_error: 0.3238 - val_precision: 0.7279 - val_recall: 0.8584\n",
      "Epoch 29/100\n",
      " - 10s - loss: 0.5012 - acc: 0.7733 - mean_absolute_error: 0.3275 - precision: 0.7169 - recall: 0.8455 - val_loss: 0.4908 - val_acc: 0.7799 - val_mean_absolute_error: 0.3243 - val_precision: 0.7291 - val_recall: 0.8541\n",
      "Epoch 30/100\n",
      " - 10s - loss: 0.5007 - acc: 0.7735 - mean_absolute_error: 0.3277 - precision: 0.7190 - recall: 0.8419 - val_loss: 0.4903 - val_acc: 0.7799 - val_mean_absolute_error: 0.3231 - val_precision: 0.7269 - val_recall: 0.8597\n",
      "Epoch 31/100\n",
      " - 10s - loss: 0.5003 - acc: 0.7735 - mean_absolute_error: 0.3272 - precision: 0.7183 - recall: 0.8441 - val_loss: 0.4899 - val_acc: 0.7807 - val_mean_absolute_error: 0.3219 - val_precision: 0.7253 - val_recall: 0.8700\n",
      "Epoch 32/100\n",
      " - 10s - loss: 0.4998 - acc: 0.7743 - mean_absolute_error: 0.3268 - precision: 0.7192 - recall: 0.8477 - val_loss: 0.4894 - val_acc: 0.7802 - val_mean_absolute_error: 0.3228 - val_precision: 0.7275 - val_recall: 0.8610\n",
      "Epoch 33/100\n",
      " - 10s - loss: 0.4992 - acc: 0.7740 - mean_absolute_error: 0.3267 - precision: 0.7183 - recall: 0.8474 - val_loss: 0.4888 - val_acc: 0.7807 - val_mean_absolute_error: 0.3218 - val_precision: 0.7268 - val_recall: 0.8661\n",
      "Epoch 34/100\n",
      " - 10s - loss: 0.4987 - acc: 0.7738 - mean_absolute_error: 0.3264 - precision: 0.7184 - recall: 0.8461 - val_loss: 0.4883 - val_acc: 0.7808 - val_mean_absolute_error: 0.3216 - val_precision: 0.7271 - val_recall: 0.8661\n",
      "Epoch 35/100\n",
      " - 11s - loss: 0.4980 - acc: 0.7743 - mean_absolute_error: 0.3261 - precision: 0.7183 - recall: 0.8498 - val_loss: 0.4876 - val_acc: 0.7809 - val_mean_absolute_error: 0.3219 - val_precision: 0.7298 - val_recall: 0.8597\n",
      "Epoch 36/100\n",
      " - 10s - loss: 0.4976 - acc: 0.7742 - mean_absolute_error: 0.3258 - precision: 0.7193 - recall: 0.8464 - val_loss: 0.4870 - val_acc: 0.7808 - val_mean_absolute_error: 0.3209 - val_precision: 0.7277 - val_recall: 0.8644\n"
     ]
    },
    {
     "name": "stdout",
     "output_type": "stream",
     "text": [
      "Epoch 37/100\n",
      " - 12s - loss: 0.4968 - acc: 0.7754 - mean_absolute_error: 0.3251 - precision: 0.7206 - recall: 0.8525 - val_loss: 0.4863 - val_acc: 0.7810 - val_mean_absolute_error: 0.3214 - val_precision: 0.7306 - val_recall: 0.8584\n",
      "Epoch 38/100\n",
      " - 11s - loss: 0.4961 - acc: 0.7744 - mean_absolute_error: 0.3254 - precision: 0.7213 - recall: 0.8429 - val_loss: 0.4859 - val_acc: 0.7812 - val_mean_absolute_error: 0.3166 - val_precision: 0.7209 - val_recall: 0.8864\n",
      "Epoch 39/100\n",
      " - 10s - loss: 0.4954 - acc: 0.7754 - mean_absolute_error: 0.3243 - precision: 0.7212 - recall: 0.8509 - val_loss: 0.4851 - val_acc: 0.7820 - val_mean_absolute_error: 0.3163 - val_precision: 0.7227 - val_recall: 0.8869\n",
      "Epoch 40/100\n",
      " - 10s - loss: 0.4945 - acc: 0.7750 - mean_absolute_error: 0.3236 - precision: 0.7186 - recall: 0.8550 - val_loss: 0.4840 - val_acc: 0.7818 - val_mean_absolute_error: 0.3193 - val_precision: 0.7298 - val_recall: 0.8666\n",
      "Epoch 41/100\n",
      " - 11s - loss: 0.4935 - acc: 0.7763 - mean_absolute_error: 0.3240 - precision: 0.7250 - recall: 0.8477 - val_loss: 0.4835 - val_acc: 0.7820 - val_mean_absolute_error: 0.3153 - val_precision: 0.7227 - val_recall: 0.8869\n",
      "Epoch 42/100\n",
      " - 13s - loss: 0.4927 - acc: 0.7760 - mean_absolute_error: 0.3228 - precision: 0.7203 - recall: 0.8581 - val_loss: 0.4822 - val_acc: 0.7830 - val_mean_absolute_error: 0.3183 - val_precision: 0.7324 - val_recall: 0.8687\n",
      "Epoch 43/100\n",
      " - 13s - loss: 0.4918 - acc: 0.7763 - mean_absolute_error: 0.3232 - precision: 0.7239 - recall: 0.8503 - val_loss: 0.4812 - val_acc: 0.7836 - val_mean_absolute_error: 0.3164 - val_precision: 0.7309 - val_recall: 0.8774\n",
      "Epoch 44/100\n",
      " - 13s - loss: 0.4904 - acc: 0.7777 - mean_absolute_error: 0.3218 - precision: 0.7256 - recall: 0.8572 - val_loss: 0.4802 - val_acc: 0.7826 - val_mean_absolute_error: 0.3193 - val_precision: 0.7367 - val_recall: 0.8554\n",
      "Epoch 45/100\n",
      " - 11s - loss: 0.4894 - acc: 0.7774 - mean_absolute_error: 0.3219 - precision: 0.7268 - recall: 0.8519 - val_loss: 0.4790 - val_acc: 0.7829 - val_mean_absolute_error: 0.3189 - val_precision: 0.7374 - val_recall: 0.8558\n",
      "Epoch 46/100\n",
      " - 10s - loss: 0.4881 - acc: 0.7777 - mean_absolute_error: 0.3213 - precision: 0.7274 - recall: 0.8528 - val_loss: 0.4776 - val_acc: 0.7842 - val_mean_absolute_error: 0.3159 - val_precision: 0.7352 - val_recall: 0.8713\n",
      "Epoch 47/100\n",
      " - 10s - loss: 0.4865 - acc: 0.7782 - mean_absolute_error: 0.3202 - precision: 0.7275 - recall: 0.8562 - val_loss: 0.4762 - val_acc: 0.7839 - val_mean_absolute_error: 0.3159 - val_precision: 0.7363 - val_recall: 0.8657\n",
      "Epoch 48/100\n",
      " - 10s - loss: 0.4851 - acc: 0.7789 - mean_absolute_error: 0.3194 - precision: 0.7290 - recall: 0.8573 - val_loss: 0.4753 - val_acc: 0.7860 - val_mean_absolute_error: 0.3195 - val_precision: 0.7496 - val_recall: 0.8493\n",
      "Epoch 49/100\n",
      " - 10s - loss: 0.4833 - acc: 0.7789 - mean_absolute_error: 0.3197 - precision: 0.7307 - recall: 0.8531 - val_loss: 0.4729 - val_acc: 0.7848 - val_mean_absolute_error: 0.3136 - val_precision: 0.7371 - val_recall: 0.8705\n",
      "Epoch 50/100\n",
      " - 10s - loss: 0.4814 - acc: 0.7798 - mean_absolute_error: 0.3178 - precision: 0.7314 - recall: 0.8584 - val_loss: 0.4714 - val_acc: 0.7853 - val_mean_absolute_error: 0.3096 - val_precision: 0.7329 - val_recall: 0.8851\n",
      "Epoch 51/100\n",
      " - 10s - loss: 0.4795 - acc: 0.7801 - mean_absolute_error: 0.3168 - precision: 0.7319 - recall: 0.8595 - val_loss: 0.4692 - val_acc: 0.7862 - val_mean_absolute_error: 0.3115 - val_precision: 0.7402 - val_recall: 0.8735\n",
      "Epoch 52/100\n",
      " - 10s - loss: 0.4773 - acc: 0.7810 - mean_absolute_error: 0.3160 - precision: 0.7333 - recall: 0.8623 - val_loss: 0.4671 - val_acc: 0.7869 - val_mean_absolute_error: 0.3109 - val_precision: 0.7430 - val_recall: 0.8713\n",
      "Epoch 53/100\n",
      " - 11s - loss: 0.4748 - acc: 0.7817 - mean_absolute_error: 0.3146 - precision: 0.7366 - recall: 0.8597 - val_loss: 0.4651 - val_acc: 0.7878 - val_mean_absolute_error: 0.3124 - val_precision: 0.7513 - val_recall: 0.8584\n",
      "Epoch 54/100\n",
      " - 10s - loss: 0.4725 - acc: 0.7821 - mean_absolute_error: 0.3143 - precision: 0.7374 - recall: 0.8604 - val_loss: 0.4625 - val_acc: 0.7887 - val_mean_absolute_error: 0.3067 - val_precision: 0.7443 - val_recall: 0.8813\n",
      "Epoch 55/100\n",
      " - 13s - loss: 0.4700 - acc: 0.7826 - mean_absolute_error: 0.3124 - precision: 0.7378 - recall: 0.8633 - val_loss: 0.4599 - val_acc: 0.7897 - val_mean_absolute_error: 0.3071 - val_precision: 0.7516 - val_recall: 0.8713\n",
      "Epoch 56/100\n",
      " - 13s - loss: 0.4671 - acc: 0.7841 - mean_absolute_error: 0.3110 - precision: 0.7407 - recall: 0.8672 - val_loss: 0.4574 - val_acc: 0.7912 - val_mean_absolute_error: 0.3075 - val_precision: 0.7594 - val_recall: 0.8640\n",
      "Epoch 57/100\n",
      " - 13s - loss: 0.4647 - acc: 0.7854 - mean_absolute_error: 0.3096 - precision: 0.7444 - recall: 0.8681 - val_loss: 0.4548 - val_acc: 0.7921 - val_mean_absolute_error: 0.3073 - val_precision: 0.7666 - val_recall: 0.8549\n",
      "Epoch 58/100\n",
      " - 13s - loss: 0.4613 - acc: 0.7866 - mean_absolute_error: 0.3076 - precision: 0.7475 - recall: 0.8696 - val_loss: 0.4534 - val_acc: 0.7947 - val_mean_absolute_error: 0.3105 - val_precision: 0.7851 - val_recall: 0.8359\n",
      "Epoch 59/100\n",
      " - 11s - loss: 0.4577 - acc: 0.7879 - mean_absolute_error: 0.3067 - precision: 0.7532 - recall: 0.8655 - val_loss: 0.4488 - val_acc: 0.7954 - val_mean_absolute_error: 0.3019 - val_precision: 0.7701 - val_recall: 0.8705\n",
      "Epoch 60/100\n",
      " - 10s - loss: 0.4543 - acc: 0.7885 - mean_absolute_error: 0.3043 - precision: 0.7543 - recall: 0.8675 - val_loss: 0.4480 - val_acc: 0.7971 - val_mean_absolute_error: 0.3078 - val_precision: 0.7966 - val_recall: 0.8303\n",
      "Epoch 61/100\n",
      " - 10s - loss: 0.4513 - acc: 0.7904 - mean_absolute_error: 0.3029 - precision: 0.7606 - recall: 0.8668 - val_loss: 0.4428 - val_acc: 0.7985 - val_mean_absolute_error: 0.2973 - val_precision: 0.7754 - val_recall: 0.8795\n",
      "Epoch 62/100\n",
      " - 15s - loss: 0.4479 - acc: 0.7922 - mean_absolute_error: 0.3007 - precision: 0.7633 - recall: 0.8732 - val_loss: 0.4400 - val_acc: 0.8001 - val_mean_absolute_error: 0.2964 - val_precision: 0.7834 - val_recall: 0.8744\n",
      "Epoch 63/100\n",
      " - 14s - loss: 0.4445 - acc: 0.7938 - mean_absolute_error: 0.2988 - precision: 0.7691 - recall: 0.8719 - val_loss: 0.4372 - val_acc: 0.8020 - val_mean_absolute_error: 0.2950 - val_precision: 0.7921 - val_recall: 0.8700\n",
      "Epoch 64/100\n",
      " - 13s - loss: 0.4413 - acc: 0.7949 - mean_absolute_error: 0.2964 - precision: 0.7716 - recall: 0.8744 - val_loss: 0.4347 - val_acc: 0.8028 - val_mean_absolute_error: 0.2947 - val_precision: 0.8003 - val_recall: 0.8601\n",
      "Epoch 65/100\n",
      " - 13s - loss: 0.4385 - acc: 0.7965 - mean_absolute_error: 0.2946 - precision: 0.7789 - recall: 0.8706 - val_loss: 0.4318 - val_acc: 0.8041 - val_mean_absolute_error: 0.2904 - val_precision: 0.7958 - val_recall: 0.8765\n",
      "Epoch 66/100\n",
      " - 11s - loss: 0.4348 - acc: 0.7982 - mean_absolute_error: 0.2925 - precision: 0.7851 - recall: 0.8694 - val_loss: 0.4314 - val_acc: 0.8049 - val_mean_absolute_error: 0.2957 - val_precision: 0.8252 - val_recall: 0.8316\n",
      "Epoch 67/100\n",
      " - 16s - loss: 0.4317 - acc: 0.7997 - mean_absolute_error: 0.2905 - precision: 0.7908 - recall: 0.8681 - val_loss: 0.4278 - val_acc: 0.8036 - val_mean_absolute_error: 0.2815 - val_precision: 0.7816 - val_recall: 0.9011\n",
      "Epoch 68/100\n",
      " - 13s - loss: 0.4290 - acc: 0.8012 - mean_absolute_error: 0.2883 - precision: 0.7946 - recall: 0.8709 - val_loss: 0.4274 - val_acc: 0.8058 - val_mean_absolute_error: 0.2931 - val_precision: 0.8345 - val_recall: 0.8230\n",
      "Epoch 69/100\n",
      " - 12s - loss: 0.4258 - acc: 0.8031 - mean_absolute_error: 0.2868 - precision: 0.8031 - recall: 0.8674 - val_loss: 0.4234 - val_acc: 0.8061 - val_mean_absolute_error: 0.2777 - val_precision: 0.7903 - val_recall: 0.8998\n",
      "Epoch 70/100\n",
      " - 10s - loss: 0.4229 - acc: 0.8033 - mean_absolute_error: 0.2841 - precision: 0.8038 - recall: 0.8677 - val_loss: 0.4206 - val_acc: 0.8084 - val_mean_absolute_error: 0.2822 - val_precision: 0.8173 - val_recall: 0.8653\n",
      "Epoch 71/100\n",
      " - 10s - loss: 0.4201 - acc: 0.8047 - mean_absolute_error: 0.2822 - precision: 0.8099 - recall: 0.8659 - val_loss: 0.4196 - val_acc: 0.8080 - val_mean_absolute_error: 0.2762 - val_precision: 0.7994 - val_recall: 0.8946\n",
      "Epoch 72/100\n",
      " - 13s - loss: 0.4175 - acc: 0.8057 - mean_absolute_error: 0.2804 - precision: 0.8140 - recall: 0.8649 - val_loss: 0.4222 - val_acc: 0.8049 - val_mean_absolute_error: 0.2908 - val_precision: 0.8530 - val_recall: 0.7919\n"
     ]
    },
    {
     "name": "stdout",
     "output_type": "stream",
     "text": [
      "Epoch 73/100\n",
      " - 13s - loss: 0.4149 - acc: 0.8076 - mean_absolute_error: 0.2791 - precision: 0.8230 - recall: 0.8620 - val_loss: 0.4158 - val_acc: 0.8095 - val_mean_absolute_error: 0.2738 - val_precision: 0.8101 - val_recall: 0.8843\n",
      "Epoch 74/100\n",
      " - 12s - loss: 0.4123 - acc: 0.8086 - mean_absolute_error: 0.2767 - precision: 0.8239 - recall: 0.8664 - val_loss: 0.4149 - val_acc: 0.8088 - val_mean_absolute_error: 0.2715 - val_precision: 0.8062 - val_recall: 0.8873\n",
      "Epoch 75/100\n",
      " - 11s - loss: 0.4096 - acc: 0.8092 - mean_absolute_error: 0.2752 - precision: 0.8277 - recall: 0.8643 - val_loss: 0.4129 - val_acc: 0.8094 - val_mean_absolute_error: 0.2710 - val_precision: 0.8133 - val_recall: 0.8782\n",
      "Epoch 76/100\n",
      " - 10s - loss: 0.4078 - acc: 0.8098 - mean_absolute_error: 0.2735 - precision: 0.8293 - recall: 0.8651 - val_loss: 0.4116 - val_acc: 0.8099 - val_mean_absolute_error: 0.2757 - val_precision: 0.8363 - val_recall: 0.8446\n",
      "Epoch 77/100\n",
      " - 10s - loss: 0.4044 - acc: 0.8111 - mean_absolute_error: 0.2714 - precision: 0.8353 - recall: 0.8639 - val_loss: 0.4100 - val_acc: 0.8106 - val_mean_absolute_error: 0.2717 - val_precision: 0.8294 - val_recall: 0.8588\n",
      "Epoch 78/100\n",
      " - 14s - loss: 0.4024 - acc: 0.8122 - mean_absolute_error: 0.2698 - precision: 0.8389 - recall: 0.8645 - val_loss: 0.4089 - val_acc: 0.8109 - val_mean_absolute_error: 0.2709 - val_precision: 0.8319 - val_recall: 0.8571\n",
      "Epoch 79/100\n",
      " - 14s - loss: 0.4004 - acc: 0.8117 - mean_absolute_error: 0.2682 - precision: 0.8382 - recall: 0.8629 - val_loss: 0.4091 - val_acc: 0.8104 - val_mean_absolute_error: 0.2646 - val_precision: 0.8138 - val_recall: 0.8834\n",
      "Epoch 80/100\n",
      " - 11s - loss: 0.3977 - acc: 0.8135 - mean_absolute_error: 0.2662 - precision: 0.8427 - recall: 0.8665 - val_loss: 0.4074 - val_acc: 0.8117 - val_mean_absolute_error: 0.2724 - val_precision: 0.8464 - val_recall: 0.8398\n",
      "Epoch 81/100\n",
      " - 12s - loss: 0.3956 - acc: 0.8134 - mean_absolute_error: 0.2654 - precision: 0.8429 - recall: 0.8656 - val_loss: 0.4124 - val_acc: 0.8082 - val_mean_absolute_error: 0.2578 - val_precision: 0.7908 - val_recall: 0.9123\n",
      "Epoch 82/100\n",
      " - 11s - loss: 0.3937 - acc: 0.8148 - mean_absolute_error: 0.2634 - precision: 0.8476 - recall: 0.8669 - val_loss: 0.4153 - val_acc: 0.8061 - val_mean_absolute_error: 0.2552 - val_precision: 0.7793 - val_recall: 0.9223\n",
      "Epoch 83/100\n",
      " - 10s - loss: 0.3917 - acc: 0.8148 - mean_absolute_error: 0.2620 - precision: 0.8464 - recall: 0.8680 - val_loss: 0.4042 - val_acc: 0.8117 - val_mean_absolute_error: 0.2677 - val_precision: 0.8395 - val_recall: 0.8472\n",
      "Epoch 84/100\n",
      " - 10s - loss: 0.3895 - acc: 0.8161 - mean_absolute_error: 0.2611 - precision: 0.8522 - recall: 0.8665 - val_loss: 0.4045 - val_acc: 0.8112 - val_mean_absolute_error: 0.2601 - val_precision: 0.8180 - val_recall: 0.8769\n",
      "Epoch 85/100\n",
      " - 10s - loss: 0.3870 - acc: 0.8163 - mean_absolute_error: 0.2592 - precision: 0.8519 - recall: 0.8675 - val_loss: 0.4035 - val_acc: 0.8115 - val_mean_absolute_error: 0.2591 - val_precision: 0.8200 - val_recall: 0.8752\n",
      "Epoch 86/100\n",
      " - 10s - loss: 0.3853 - acc: 0.8169 - mean_absolute_error: 0.2579 - precision: 0.8531 - recall: 0.8668 - val_loss: 0.4018 - val_acc: 0.8135 - val_mean_absolute_error: 0.2603 - val_precision: 0.8313 - val_recall: 0.8661\n",
      "Epoch 87/100\n",
      " - 10s - loss: 0.3825 - acc: 0.8185 - mean_absolute_error: 0.2564 - precision: 0.8573 - recall: 0.8686 - val_loss: 0.4019 - val_acc: 0.8135 - val_mean_absolute_error: 0.2579 - val_precision: 0.8262 - val_recall: 0.8744\n",
      "Epoch 88/100\n",
      " - 10s - loss: 0.3817 - acc: 0.8185 - mean_absolute_error: 0.2555 - precision: 0.8555 - recall: 0.8690 - val_loss: 0.4045 - val_acc: 0.8112 - val_mean_absolute_error: 0.2534 - val_precision: 0.8053 - val_recall: 0.8964\n",
      "Epoch 89/100\n",
      " - 10s - loss: 0.3794 - acc: 0.8206 - mean_absolute_error: 0.2541 - precision: 0.8597 - recall: 0.8725 - val_loss: 0.3994 - val_acc: 0.8148 - val_mean_absolute_error: 0.2608 - val_precision: 0.8436 - val_recall: 0.8476\n",
      "Epoch 90/100\n",
      " - 10s - loss: 0.3772 - acc: 0.8222 - mean_absolute_error: 0.2527 - precision: 0.8635 - recall: 0.8734 - val_loss: 0.3986 - val_acc: 0.8158 - val_mean_absolute_error: 0.2589 - val_precision: 0.8415 - val_recall: 0.8554\n",
      "Epoch 91/100\n",
      " - 10s - loss: 0.3743 - acc: 0.8226 - mean_absolute_error: 0.2512 - precision: 0.8633 - recall: 0.8739 - val_loss: 0.4077 - val_acc: 0.8107 - val_mean_absolute_error: 0.2476 - val_precision: 0.7928 - val_recall: 0.9119\n",
      "Epoch 92/100\n",
      " - 10s - loss: 0.3725 - acc: 0.8243 - mean_absolute_error: 0.2493 - precision: 0.8641 - recall: 0.8773 - val_loss: 0.4024 - val_acc: 0.8130 - val_mean_absolute_error: 0.2686 - val_precision: 0.8652 - val_recall: 0.7927\n",
      "Epoch 93/100\n",
      " - 11s - loss: 0.3708 - acc: 0.8245 - mean_absolute_error: 0.2487 - precision: 0.8673 - recall: 0.8725 - val_loss: 0.4088 - val_acc: 0.8103 - val_mean_absolute_error: 0.2458 - val_precision: 0.7878 - val_recall: 0.9154\n",
      "Epoch 94/100\n",
      " - 10s - loss: 0.3695 - acc: 0.8253 - mean_absolute_error: 0.2474 - precision: 0.8655 - recall: 0.8770 - val_loss: 0.3995 - val_acc: 0.8154 - val_mean_absolute_error: 0.2494 - val_precision: 0.8172 - val_recall: 0.8843\n",
      "Epoch 95/100\n",
      " - 10s - loss: 0.3665 - acc: 0.8257 - mean_absolute_error: 0.2454 - precision: 0.8673 - recall: 0.8744 - val_loss: 0.3970 - val_acc: 0.8161 - val_mean_absolute_error: 0.2608 - val_precision: 0.8531 - val_recall: 0.8251\n",
      "Epoch 96/100\n",
      " - 10s - loss: 0.3651 - acc: 0.8277 - mean_absolute_error: 0.2448 - precision: 0.8710 - recall: 0.8779 - val_loss: 0.3972 - val_acc: 0.8178 - val_mean_absolute_error: 0.2494 - val_precision: 0.8261 - val_recall: 0.8800\n",
      "Epoch 97/100\n",
      " - 10s - loss: 0.3622 - acc: 0.8284 - mean_absolute_error: 0.2432 - precision: 0.8715 - recall: 0.8788 - val_loss: 0.3950 - val_acc: 0.8193 - val_mean_absolute_error: 0.2516 - val_precision: 0.8364 - val_recall: 0.8696\n",
      "Epoch 98/100\n",
      " - 10s - loss: 0.3606 - acc: 0.8290 - mean_absolute_error: 0.2422 - precision: 0.8720 - recall: 0.8795 - val_loss: 0.3943 - val_acc: 0.8203 - val_mean_absolute_error: 0.2520 - val_precision: 0.8395 - val_recall: 0.8653\n",
      "Epoch 99/100\n",
      " - 10s - loss: 0.3588 - acc: 0.8306 - mean_absolute_error: 0.2412 - precision: 0.8770 - recall: 0.8804 - val_loss: 0.3948 - val_acc: 0.8202 - val_mean_absolute_error: 0.2488 - val_precision: 0.8328 - val_recall: 0.8731\n",
      "Epoch 100/100\n",
      " - 10s - loss: 0.3565 - acc: 0.8315 - mean_absolute_error: 0.2394 - precision: 0.8746 - recall: 0.8830 - val_loss: 0.3987 - val_acc: 0.8171 - val_mean_absolute_error: 0.2448 - val_precision: 0.8143 - val_recall: 0.8916\n"
     ]
    },
    {
     "data": {
      "text/plain": [
       "<keras.callbacks.History at 0x16809ac47b8>"
      ]
     },
     "execution_count": 52,
     "metadata": {},
     "output_type": "execute_result"
    }
   ],
   "source": [
    "batch_size=32\n",
    "Y = pd.get_dummies(data['airline_sentiment']).values\n",
    "X_train, X_valid, Y_train, Y_valid = train_test_split(X,Y, test_size = 0.25)\n",
    "#Here we train the Network.\n",
    "pred=model_conv.fit(X_train, Y_train, batch_size =batch_size, epochs =100, verbose =2,validation_data=(X_valid,Y_valid))\n",
    "pred"
   ]
  },
  {
   "cell_type": "code",
   "execution_count": 56,
   "metadata": {},
   "outputs": [
    {
     "name": "stdout",
     "output_type": "stream",
     "text": [
      "validation accuracy: 0.82\n",
      "validation Recall: 0.89\n",
      "validation Precision: 0.81\n",
      "validation Mean Absolute Eror: 0.24\n"
     ]
    }
   ],
   "source": [
    "Results=[]\n",
    "Results=model_conv.evaluate(X_valid,Y_valid,verbose=2,batch_size=batch_size)\n",
    "#keras.metrics.binary_accuracy(Y_valid,pred)\n",
    "print(\"validation accuracy: %.2f\" % (Results[1]))\n",
    "print(\"validation Recall: %.2f\" %(Results[4]))\n",
    "print(\"validation Precision: %.2f\" % (Results[3]))\n",
    "print(\"validation Mean Absolute Eror: %.2f\" % (Results[2]))"
   ]
  },
  {
   "cell_type": "code",
   "execution_count": 67,
   "metadata": {},
   "outputs": [
    {
     "name": "stdout",
     "output_type": "stream",
     "text": [
      "Train on 10980 samples, validate on 3660 samples\n",
      "Epoch 1/100\n",
      " - 15s - loss: 0.5743 - acc: 0.6987 - mean_absolute_error: 0.4050 - precision: 0.6185 - recall: 0.4006 - val_loss: 0.5462 - val_acc: 0.7519 - val_mean_absolute_error: 0.3796 - val_precision: 0.6279 - val_recall: 1.0000\n",
      "Epoch 2/100\n",
      " - 13s - loss: 0.5420 - acc: 0.7511 - mean_absolute_error: 0.3683 - precision: 0.6266 - recall: 1.0000 - val_loss: 0.5388 - val_acc: 0.7519 - val_mean_absolute_error: 0.3641 - val_precision: 0.6279 - val_recall: 1.0000\n",
      "Epoch 3/100\n",
      " - 13s - loss: 0.5386 - acc: 0.7511 - mean_absolute_error: 0.3603 - precision: 0.6266 - recall: 1.0000 - val_loss: 0.5365 - val_acc: 0.7519 - val_mean_absolute_error: 0.3600 - val_precision: 0.6279 - val_recall: 1.0000\n",
      "Epoch 4/100\n",
      " - 14s - loss: 0.5365 - acc: 0.7511 - mean_absolute_error: 0.3578 - precision: 0.6266 - recall: 1.0000 - val_loss: 0.5346 - val_acc: 0.7519 - val_mean_absolute_error: 0.3581 - val_precision: 0.6279 - val_recall: 1.0000\n",
      "Epoch 5/100\n",
      " - 21s - loss: 0.5345 - acc: 0.7511 - mean_absolute_error: 0.3559 - precision: 0.6266 - recall: 1.0000 - val_loss: 0.5328 - val_acc: 0.7519 - val_mean_absolute_error: 0.3575 - val_precision: 0.6279 - val_recall: 1.0000\n",
      "Epoch 6/100\n",
      " - 17s - loss: 0.5324 - acc: 0.7511 - mean_absolute_error: 0.3554 - precision: 0.6266 - recall: 1.0000 - val_loss: 0.5307 - val_acc: 0.7519 - val_mean_absolute_error: 0.3549 - val_precision: 0.6279 - val_recall: 1.0000\n",
      "Epoch 7/100\n",
      " - 13s - loss: 0.5301 - acc: 0.7511 - mean_absolute_error: 0.3533 - precision: 0.6266 - recall: 1.0000 - val_loss: 0.5288 - val_acc: 0.7519 - val_mean_absolute_error: 0.3535 - val_precision: 0.6279 - val_recall: 1.0000\n",
      "Epoch 8/100\n",
      " - 14s - loss: 0.5278 - acc: 0.7511 - mean_absolute_error: 0.3524 - precision: 0.6266 - recall: 1.0000 - val_loss: 0.5265 - val_acc: 0.7519 - val_mean_absolute_error: 0.3504 - val_precision: 0.6279 - val_recall: 1.0000\n",
      "Epoch 9/100\n",
      " - 18s - loss: 0.5253 - acc: 0.7511 - mean_absolute_error: 0.3493 - precision: 0.6266 - recall: 1.0000 - val_loss: 0.5242 - val_acc: 0.7519 - val_mean_absolute_error: 0.3505 - val_precision: 0.6279 - val_recall: 1.0000\n",
      "Epoch 10/100\n",
      " - 14s - loss: 0.5225 - acc: 0.7511 - mean_absolute_error: 0.3491 - precision: 0.6266 - recall: 1.0000 - val_loss: 0.5214 - val_acc: 0.7519 - val_mean_absolute_error: 0.3478 - val_precision: 0.6279 - val_recall: 1.0000\n",
      "Epoch 11/100\n",
      " - 12s - loss: 0.5196 - acc: 0.7511 - mean_absolute_error: 0.3467 - precision: 0.6266 - recall: 1.0000 - val_loss: 0.5185 - val_acc: 0.7519 - val_mean_absolute_error: 0.3466 - val_precision: 0.6279 - val_recall: 1.0000\n",
      "Epoch 12/100\n",
      " - 12s - loss: 0.5167 - acc: 0.7511 - mean_absolute_error: 0.3449 - precision: 0.6266 - recall: 0.9999 - val_loss: 0.5157 - val_acc: 0.7519 - val_mean_absolute_error: 0.3451 - val_precision: 0.6279 - val_recall: 1.0000\n",
      "Epoch 13/100\n",
      " - 12s - loss: 0.5137 - acc: 0.7654 - mean_absolute_error: 0.3431 - precision: 0.6650 - recall: 0.9529 - val_loss: 0.5129 - val_acc: 0.7699 - val_mean_absolute_error: 0.3423 - val_precision: 0.6789 - val_recall: 0.9365\n",
      "Epoch 14/100\n",
      " - 12s - loss: 0.5111 - acc: 0.7710 - mean_absolute_error: 0.3406 - precision: 0.6859 - recall: 0.9218 - val_loss: 0.5106 - val_acc: 0.7700 - val_mean_absolute_error: 0.3390 - val_precision: 0.6795 - val_recall: 0.9347\n",
      "Epoch 15/100\n",
      " - 13s - loss: 0.5092 - acc: 0.7722 - mean_absolute_error: 0.3382 - precision: 0.6957 - recall: 0.8978 - val_loss: 0.5089 - val_acc: 0.7746 - val_mean_absolute_error: 0.3390 - val_precision: 0.7028 - val_recall: 0.8934\n",
      "Epoch 16/100\n",
      " - 13s - loss: 0.5076 - acc: 0.7730 - mean_absolute_error: 0.3361 - precision: 0.7034 - recall: 0.8807 - val_loss: 0.5077 - val_acc: 0.7745 - val_mean_absolute_error: 0.3388 - val_precision: 0.7188 - val_recall: 0.8464\n",
      "Epoch 17/100\n",
      " - 18s - loss: 0.5064 - acc: 0.7733 - mean_absolute_error: 0.3353 - precision: 0.7129 - recall: 0.8547 - val_loss: 0.5066 - val_acc: 0.7773 - val_mean_absolute_error: 0.3334 - val_precision: 0.7150 - val_recall: 0.8790\n",
      "Epoch 18/100\n",
      " - 13s - loss: 0.5057 - acc: 0.7728 - mean_absolute_error: 0.3334 - precision: 0.7139 - recall: 0.8483 - val_loss: 0.5059 - val_acc: 0.7750 - val_mean_absolute_error: 0.3321 - val_precision: 0.7181 - val_recall: 0.8525\n",
      "Epoch 19/100\n",
      " - 13s - loss: 0.5050 - acc: 0.7723 - mean_absolute_error: 0.3318 - precision: 0.7153 - recall: 0.8398 - val_loss: 0.5054 - val_acc: 0.7738 - val_mean_absolute_error: 0.3329 - val_precision: 0.7179 - val_recall: 0.8429\n",
      "Epoch 20/100\n",
      " - 13s - loss: 0.5047 - acc: 0.7724 - mean_absolute_error: 0.3312 - precision: 0.7165 - recall: 0.8376 - val_loss: 0.5051 - val_acc: 0.7738 - val_mean_absolute_error: 0.3331 - val_precision: 0.7179 - val_recall: 0.8429\n",
      "Epoch 21/100\n",
      " - 13s - loss: 0.5044 - acc: 0.7726 - mean_absolute_error: 0.3307 - precision: 0.7173 - recall: 0.8369 - val_loss: 0.5047 - val_acc: 0.7738 - val_mean_absolute_error: 0.3311 - val_precision: 0.7179 - val_recall: 0.8429\n",
      "Epoch 22/100\n",
      " - 12s - loss: 0.5040 - acc: 0.7725 - mean_absolute_error: 0.3301 - precision: 0.7178 - recall: 0.8352 - val_loss: 0.5044 - val_acc: 0.7743 - val_mean_absolute_error: 0.3291 - val_precision: 0.7186 - val_recall: 0.8455\n",
      "Epoch 23/100\n",
      " - 12s - loss: 0.5037 - acc: 0.7725 - mean_absolute_error: 0.3295 - precision: 0.7174 - recall: 0.8358 - val_loss: 0.5041 - val_acc: 0.7738 - val_mean_absolute_error: 0.3301 - val_precision: 0.7179 - val_recall: 0.8429\n",
      "Epoch 24/100\n",
      " - 13s - loss: 0.5034 - acc: 0.7727 - mean_absolute_error: 0.3289 - precision: 0.7173 - recall: 0.8382 - val_loss: 0.5038 - val_acc: 0.7738 - val_mean_absolute_error: 0.3302 - val_precision: 0.7179 - val_recall: 0.8429\n",
      "Epoch 25/100\n",
      " - 17s - loss: 0.5032 - acc: 0.7725 - mean_absolute_error: 0.3286 - precision: 0.7178 - recall: 0.8352 - val_loss: 0.5038 - val_acc: 0.7748 - val_mean_absolute_error: 0.3327 - val_precision: 0.7212 - val_recall: 0.8420\n",
      "Epoch 26/100\n",
      " - 12s - loss: 0.5028 - acc: 0.7724 - mean_absolute_error: 0.3295 - precision: 0.7179 - recall: 0.8343 - val_loss: 0.5033 - val_acc: 0.7744 - val_mean_absolute_error: 0.3277 - val_precision: 0.7187 - val_recall: 0.8460\n",
      "Epoch 27/100\n",
      " - 13s - loss: 0.5025 - acc: 0.7727 - mean_absolute_error: 0.3285 - precision: 0.7179 - recall: 0.8362 - val_loss: 0.5030 - val_acc: 0.7744 - val_mean_absolute_error: 0.3276 - val_precision: 0.7187 - val_recall: 0.8460\n",
      "Epoch 28/100\n",
      " - 14s - loss: 0.5022 - acc: 0.7730 - mean_absolute_error: 0.3281 - precision: 0.7183 - recall: 0.8376 - val_loss: 0.5027 - val_acc: 0.7744 - val_mean_absolute_error: 0.3278 - val_precision: 0.7187 - val_recall: 0.8460\n",
      "Epoch 29/100\n",
      " - 17s - loss: 0.5019 - acc: 0.7732 - mean_absolute_error: 0.3274 - precision: 0.7187 - recall: 0.8384 - val_loss: 0.5026 - val_acc: 0.7747 - val_mean_absolute_error: 0.3313 - val_precision: 0.7209 - val_recall: 0.8420\n",
      "Epoch 30/100\n",
      " - 13s - loss: 0.5016 - acc: 0.7732 - mean_absolute_error: 0.3279 - precision: 0.7181 - recall: 0.8395 - val_loss: 0.5024 - val_acc: 0.7749 - val_mean_absolute_error: 0.3320 - val_precision: 0.7216 - val_recall: 0.8416\n",
      "Epoch 31/100\n",
      " - 13s - loss: 0.5012 - acc: 0.7734 - mean_absolute_error: 0.3289 - precision: 0.7201 - recall: 0.8359 - val_loss: 0.5020 - val_acc: 0.7758 - val_mean_absolute_error: 0.3253 - val_precision: 0.7196 - val_recall: 0.8542\n",
      "Epoch 32/100\n",
      " - 13s - loss: 0.5009 - acc: 0.7733 - mean_absolute_error: 0.3266 - precision: 0.7180 - recall: 0.8408 - val_loss: 0.5015 - val_acc: 0.7748 - val_mean_absolute_error: 0.3284 - val_precision: 0.7197 - val_recall: 0.8460\n",
      "Epoch 33/100\n",
      " - 13s - loss: 0.5006 - acc: 0.7733 - mean_absolute_error: 0.3272 - precision: 0.7188 - recall: 0.8384 - val_loss: 0.5012 - val_acc: 0.7749 - val_mean_absolute_error: 0.3286 - val_precision: 0.7202 - val_recall: 0.8455\n",
      "Epoch 34/100\n",
      " - 12s - loss: 0.5002 - acc: 0.7731 - mean_absolute_error: 0.3270 - precision: 0.7181 - recall: 0.8388 - val_loss: 0.5008 - val_acc: 0.7750 - val_mean_absolute_error: 0.3287 - val_precision: 0.7206 - val_recall: 0.8451\n",
      "Epoch 35/100\n",
      " - 12s - loss: 0.4998 - acc: 0.7733 - mean_absolute_error: 0.3268 - precision: 0.7192 - recall: 0.8379 - val_loss: 0.5004 - val_acc: 0.7752 - val_mean_absolute_error: 0.3270 - val_precision: 0.7203 - val_recall: 0.8481\n",
      "Epoch 36/100\n",
      " - 12s - loss: 0.4994 - acc: 0.7733 - mean_absolute_error: 0.3262 - precision: 0.7188 - recall: 0.8384 - val_loss: 0.5001 - val_acc: 0.7757 - val_mean_absolute_error: 0.3268 - val_precision: 0.7209 - val_recall: 0.8499\n"
     ]
    },
    {
     "name": "stdout",
     "output_type": "stream",
     "text": [
      "Epoch 37/100\n",
      " - 12s - loss: 0.4988 - acc: 0.7735 - mean_absolute_error: 0.3255 - precision: 0.7186 - recall: 0.8410 - val_loss: 0.4998 - val_acc: 0.7755 - val_mean_absolute_error: 0.3298 - val_precision: 0.7224 - val_recall: 0.8446\n",
      "Epoch 38/100\n",
      " - 12s - loss: 0.4985 - acc: 0.7741 - mean_absolute_error: 0.3261 - precision: 0.7195 - recall: 0.8427 - val_loss: 0.4994 - val_acc: 0.7755 - val_mean_absolute_error: 0.3295 - val_precision: 0.7224 - val_recall: 0.8446\n",
      "Epoch 39/100\n",
      " - 12s - loss: 0.4982 - acc: 0.7735 - mean_absolute_error: 0.3264 - precision: 0.7191 - recall: 0.8392 - val_loss: 0.4988 - val_acc: 0.7761 - val_mean_absolute_error: 0.3264 - val_precision: 0.7219 - val_recall: 0.8507\n",
      "Epoch 40/100\n",
      " - 12s - loss: 0.4977 - acc: 0.7741 - mean_absolute_error: 0.3256 - precision: 0.7199 - recall: 0.8417 - val_loss: 0.4984 - val_acc: 0.7766 - val_mean_absolute_error: 0.3252 - val_precision: 0.7216 - val_recall: 0.8551\n",
      "Epoch 41/100\n",
      " - 12s - loss: 0.4971 - acc: 0.7742 - mean_absolute_error: 0.3249 - precision: 0.7198 - recall: 0.8433 - val_loss: 0.4979 - val_acc: 0.7765 - val_mean_absolute_error: 0.3263 - val_precision: 0.7230 - val_recall: 0.8507\n",
      "Epoch 42/100\n",
      " - 12s - loss: 0.4964 - acc: 0.7740 - mean_absolute_error: 0.3254 - precision: 0.7202 - recall: 0.8404 - val_loss: 0.4976 - val_acc: 0.7789 - val_mean_absolute_error: 0.3225 - val_precision: 0.7219 - val_recall: 0.8721\n",
      "Epoch 43/100\n",
      " - 14s - loss: 0.4958 - acc: 0.7748 - mean_absolute_error: 0.3241 - precision: 0.7195 - recall: 0.8483 - val_loss: 0.4969 - val_acc: 0.7776 - val_mean_absolute_error: 0.3241 - val_precision: 0.7226 - val_recall: 0.8603\n",
      "Epoch 44/100\n",
      " - 13s - loss: 0.4953 - acc: 0.7753 - mean_absolute_error: 0.3243 - precision: 0.7221 - recall: 0.8456 - val_loss: 0.4965 - val_acc: 0.7790 - val_mean_absolute_error: 0.3219 - val_precision: 0.7220 - val_recall: 0.8725\n",
      "Epoch 45/100\n",
      " - 14s - loss: 0.4947 - acc: 0.7756 - mean_absolute_error: 0.3234 - precision: 0.7218 - recall: 0.8488 - val_loss: 0.4958 - val_acc: 0.7780 - val_mean_absolute_error: 0.3231 - val_precision: 0.7225 - val_recall: 0.8634\n",
      "Epoch 46/100\n",
      " - 14s - loss: 0.4939 - acc: 0.7758 - mean_absolute_error: 0.3230 - precision: 0.7214 - recall: 0.8515 - val_loss: 0.4951 - val_acc: 0.7771 - val_mean_absolute_error: 0.3263 - val_precision: 0.7247 - val_recall: 0.8512\n",
      "Epoch 47/100\n",
      " - 13s - loss: 0.4934 - acc: 0.7763 - mean_absolute_error: 0.3235 - precision: 0.7237 - recall: 0.8493 - val_loss: 0.4944 - val_acc: 0.7781 - val_mean_absolute_error: 0.3245 - val_precision: 0.7242 - val_recall: 0.8594\n",
      "Epoch 48/100\n",
      " - 13s - loss: 0.4925 - acc: 0.7764 - mean_absolute_error: 0.3231 - precision: 0.7237 - recall: 0.8500 - val_loss: 0.4938 - val_acc: 0.7793 - val_mean_absolute_error: 0.3217 - val_precision: 0.7237 - val_recall: 0.8708\n",
      "Epoch 49/100\n",
      " - 13s - loss: 0.4918 - acc: 0.7765 - mean_absolute_error: 0.3226 - precision: 0.7232 - recall: 0.8519 - val_loss: 0.4929 - val_acc: 0.7785 - val_mean_absolute_error: 0.3230 - val_precision: 0.7244 - val_recall: 0.8625\n",
      "Epoch 50/100\n",
      " - 12s - loss: 0.4907 - acc: 0.7765 - mean_absolute_error: 0.3218 - precision: 0.7238 - recall: 0.8504 - val_loss: 0.4921 - val_acc: 0.7789 - val_mean_absolute_error: 0.3226 - val_precision: 0.7251 - val_recall: 0.8634\n",
      "Epoch 51/100\n",
      " - 13s - loss: 0.4900 - acc: 0.7767 - mean_absolute_error: 0.3221 - precision: 0.7239 - recall: 0.8519 - val_loss: 0.4914 - val_acc: 0.7798 - val_mean_absolute_error: 0.3198 - val_precision: 0.7235 - val_recall: 0.8747\n",
      "Epoch 52/100\n",
      " - 13s - loss: 0.4887 - acc: 0.7777 - mean_absolute_error: 0.3206 - precision: 0.7251 - recall: 0.8565 - val_loss: 0.4903 - val_acc: 0.7791 - val_mean_absolute_error: 0.3235 - val_precision: 0.7276 - val_recall: 0.8590\n",
      "Epoch 53/100\n",
      " - 13s - loss: 0.4878 - acc: 0.7774 - mean_absolute_error: 0.3209 - precision: 0.7246 - recall: 0.8548 - val_loss: 0.4893 - val_acc: 0.7802 - val_mean_absolute_error: 0.3201 - val_precision: 0.7262 - val_recall: 0.8712\n",
      "Epoch 54/100\n",
      " - 13s - loss: 0.4866 - acc: 0.7784 - mean_absolute_error: 0.3196 - precision: 0.7264 - recall: 0.8583 - val_loss: 0.4884 - val_acc: 0.7798 - val_mean_absolute_error: 0.3242 - val_precision: 0.7312 - val_recall: 0.8547\n",
      "Epoch 55/100\n",
      " - 13s - loss: 0.4854 - acc: 0.7784 - mean_absolute_error: 0.3200 - precision: 0.7279 - recall: 0.8545 - val_loss: 0.4872 - val_acc: 0.7809 - val_mean_absolute_error: 0.3181 - val_precision: 0.7260 - val_recall: 0.8764\n",
      "Epoch 56/100\n",
      " - 13s - loss: 0.4839 - acc: 0.7791 - mean_absolute_error: 0.3188 - precision: 0.7277 - recall: 0.8599 - val_loss: 0.4861 - val_acc: 0.7807 - val_mean_absolute_error: 0.3162 - val_precision: 0.7234 - val_recall: 0.8821\n",
      "Epoch 57/100\n",
      " - 13s - loss: 0.4825 - acc: 0.7790 - mean_absolute_error: 0.3177 - precision: 0.7273 - recall: 0.8605 - val_loss: 0.4845 - val_acc: 0.7806 - val_mean_absolute_error: 0.3178 - val_precision: 0.7269 - val_recall: 0.8721\n",
      "Epoch 58/100\n",
      " - 13s - loss: 0.4809 - acc: 0.7790 - mean_absolute_error: 0.3173 - precision: 0.7281 - recall: 0.8584 - val_loss: 0.4830 - val_acc: 0.7813 - val_mean_absolute_error: 0.3177 - val_precision: 0.7295 - val_recall: 0.8708\n",
      "Epoch 59/100\n",
      " - 13s - loss: 0.4792 - acc: 0.7794 - mean_absolute_error: 0.3163 - precision: 0.7290 - recall: 0.8594 - val_loss: 0.4814 - val_acc: 0.7822 - val_mean_absolute_error: 0.3188 - val_precision: 0.7340 - val_recall: 0.8660\n",
      "Epoch 60/100\n",
      " - 13s - loss: 0.4773 - acc: 0.7805 - mean_absolute_error: 0.3161 - precision: 0.7317 - recall: 0.8603 - val_loss: 0.4798 - val_acc: 0.7820 - val_mean_absolute_error: 0.3149 - val_precision: 0.7289 - val_recall: 0.8773\n",
      "Epoch 61/100\n",
      " - 13s - loss: 0.4754 - acc: 0.7804 - mean_absolute_error: 0.3147 - precision: 0.7309 - recall: 0.8622 - val_loss: 0.4781 - val_acc: 0.7827 - val_mean_absolute_error: 0.3136 - val_precision: 0.7290 - val_recall: 0.8825\n",
      "Epoch 62/100\n",
      " - 13s - loss: 0.4733 - acc: 0.7816 - mean_absolute_error: 0.3138 - precision: 0.7329 - recall: 0.8657 - val_loss: 0.4766 - val_acc: 0.7833 - val_mean_absolute_error: 0.3202 - val_precision: 0.7459 - val_recall: 0.8455\n",
      "Epoch 63/100\n",
      " - 13s - loss: 0.4712 - acc: 0.7821 - mean_absolute_error: 0.3129 - precision: 0.7364 - recall: 0.8606 - val_loss: 0.4749 - val_acc: 0.7840 - val_mean_absolute_error: 0.3207 - val_precision: 0.7504 - val_recall: 0.8399\n",
      "Epoch 64/100\n",
      " - 13s - loss: 0.4688 - acc: 0.7831 - mean_absolute_error: 0.3124 - precision: 0.7388 - recall: 0.8625 - val_loss: 0.4722 - val_acc: 0.7859 - val_mean_absolute_error: 0.3167 - val_precision: 0.7495 - val_recall: 0.8555\n",
      "Epoch 65/100\n",
      " - 13s - loss: 0.4660 - acc: 0.7844 - mean_absolute_error: 0.3102 - precision: 0.7403 - recall: 0.8680 - val_loss: 0.4697 - val_acc: 0.7862 - val_mean_absolute_error: 0.3118 - val_precision: 0.7426 - val_recall: 0.8738\n",
      "Epoch 66/100\n",
      " - 13s - loss: 0.4637 - acc: 0.7851 - mean_absolute_error: 0.3089 - precision: 0.7417 - recall: 0.8702 - val_loss: 0.4685 - val_acc: 0.7861 - val_mean_absolute_error: 0.3174 - val_precision: 0.7586 - val_recall: 0.8368\n",
      "Epoch 67/100\n",
      " - 13s - loss: 0.4609 - acc: 0.7863 - mean_absolute_error: 0.3084 - precision: 0.7469 - recall: 0.8661 - val_loss: 0.4651 - val_acc: 0.7878 - val_mean_absolute_error: 0.3095 - val_precision: 0.7489 - val_recall: 0.8708\n",
      "Epoch 68/100\n",
      " - 14s - loss: 0.4582 - acc: 0.7872 - mean_absolute_error: 0.3062 - precision: 0.7488 - recall: 0.8682 - val_loss: 0.4632 - val_acc: 0.7877 - val_mean_absolute_error: 0.3043 - val_precision: 0.7400 - val_recall: 0.8916\n",
      "Epoch 69/100\n",
      " - 16s - loss: 0.4551 - acc: 0.7875 - mean_absolute_error: 0.3044 - precision: 0.7496 - recall: 0.8689 - val_loss: 0.4627 - val_acc: 0.7897 - val_mean_absolute_error: 0.3155 - val_precision: 0.7763 - val_recall: 0.8259\n",
      "Epoch 70/100\n",
      " - 13s - loss: 0.4528 - acc: 0.7893 - mean_absolute_error: 0.3038 - precision: 0.7557 - recall: 0.8674 - val_loss: 0.4588 - val_acc: 0.7881 - val_mean_absolute_error: 0.3007 - val_precision: 0.7412 - val_recall: 0.8912\n",
      "Epoch 71/100\n",
      " - 15s - loss: 0.4498 - acc: 0.7909 - mean_absolute_error: 0.3014 - precision: 0.7595 - recall: 0.8705 - val_loss: 0.4566 - val_acc: 0.7890 - val_mean_absolute_error: 0.2988 - val_precision: 0.7434 - val_recall: 0.8925\n",
      "Epoch 72/100\n",
      " - 15s - loss: 0.4468 - acc: 0.7910 - mean_absolute_error: 0.2995 - precision: 0.7598 - recall: 0.8702 - val_loss: 0.4540 - val_acc: 0.7908 - val_mean_absolute_error: 0.2993 - val_precision: 0.7533 - val_recall: 0.8821\n"
     ]
    },
    {
     "name": "stdout",
     "output_type": "stream",
     "text": [
      "Epoch 73/100\n",
      " - 16s - loss: 0.4444 - acc: 0.7922 - mean_absolute_error: 0.2980 - precision: 0.7641 - recall: 0.8695 - val_loss: 0.4533 - val_acc: 0.7934 - val_mean_absolute_error: 0.3086 - val_precision: 0.7888 - val_recall: 0.8272\n",
      "Epoch 74/100\n",
      " - 19s - loss: 0.4419 - acc: 0.7933 - mean_absolute_error: 0.2970 - precision: 0.7696 - recall: 0.8654 - val_loss: 0.4497 - val_acc: 0.7937 - val_mean_absolute_error: 0.3008 - val_precision: 0.7751 - val_recall: 0.8551\n",
      "Epoch 75/100\n",
      " - 14s - loss: 0.4392 - acc: 0.7944 - mean_absolute_error: 0.2948 - precision: 0.7730 - recall: 0.8660 - val_loss: 0.4477 - val_acc: 0.7931 - val_mean_absolute_error: 0.2958 - val_precision: 0.7653 - val_recall: 0.8712\n",
      "Epoch 76/100\n",
      " - 18s - loss: 0.4361 - acc: 0.7952 - mean_absolute_error: 0.2928 - precision: 0.7772 - recall: 0.8625 - val_loss: 0.4458 - val_acc: 0.7956 - val_mean_absolute_error: 0.2980 - val_precision: 0.7830 - val_recall: 0.8525\n",
      "Epoch 77/100\n",
      " - 17s - loss: 0.4338 - acc: 0.7970 - mean_absolute_error: 0.2912 - precision: 0.7834 - recall: 0.8625 - val_loss: 0.4445 - val_acc: 0.7936 - val_mean_absolute_error: 0.2914 - val_precision: 0.7636 - val_recall: 0.8786\n",
      "Epoch 78/100\n",
      " - 16s - loss: 0.4308 - acc: 0.7981 - mean_absolute_error: 0.2894 - precision: 0.7860 - recall: 0.8650 - val_loss: 0.4431 - val_acc: 0.7940 - val_mean_absolute_error: 0.2894 - val_precision: 0.7646 - val_recall: 0.8790\n",
      "Epoch 79/100\n",
      " - 13s - loss: 0.4283 - acc: 0.8000 - mean_absolute_error: 0.2877 - precision: 0.7940 - recall: 0.8621 - val_loss: 0.4413 - val_acc: 0.7961 - val_mean_absolute_error: 0.2885 - val_precision: 0.7723 - val_recall: 0.8768\n",
      "Epoch 80/100\n",
      " - 13s - loss: 0.4264 - acc: 0.8012 - mean_absolute_error: 0.2862 - precision: 0.7988 - recall: 0.8613 - val_loss: 0.4406 - val_acc: 0.7958 - val_mean_absolute_error: 0.2858 - val_precision: 0.7684 - val_recall: 0.8834\n",
      "Epoch 81/100\n",
      " - 13s - loss: 0.4239 - acc: 0.8021 - mean_absolute_error: 0.2845 - precision: 0.8013 - recall: 0.8624 - val_loss: 0.4382 - val_acc: 0.8004 - val_mean_absolute_error: 0.2924 - val_precision: 0.8105 - val_recall: 0.8338\n",
      "Epoch 82/100\n",
      " - 13s - loss: 0.4216 - acc: 0.8029 - mean_absolute_error: 0.2831 - precision: 0.8067 - recall: 0.8581 - val_loss: 0.4373 - val_acc: 0.7984 - val_mean_absolute_error: 0.2842 - val_precision: 0.7835 - val_recall: 0.8695\n",
      "Epoch 83/100\n",
      " - 13s - loss: 0.4193 - acc: 0.8038 - mean_absolute_error: 0.2812 - precision: 0.8102 - recall: 0.8576 - val_loss: 0.4355 - val_acc: 0.8002 - val_mean_absolute_error: 0.2863 - val_precision: 0.7997 - val_recall: 0.8512\n",
      "Epoch 84/100\n",
      " - 12s - loss: 0.4176 - acc: 0.8040 - mean_absolute_error: 0.2800 - precision: 0.8117 - recall: 0.8562 - val_loss: 0.4478 - val_acc: 0.7945 - val_mean_absolute_error: 0.3071 - val_precision: 0.8652 - val_recall: 0.7237\n",
      "Epoch 85/100\n",
      " - 13s - loss: 0.4151 - acc: 0.8067 - mean_absolute_error: 0.2787 - precision: 0.8226 - recall: 0.8551 - val_loss: 0.4360 - val_acc: 0.7993 - val_mean_absolute_error: 0.2936 - val_precision: 0.8370 - val_recall: 0.7868\n",
      "Epoch 86/100\n",
      " - 13s - loss: 0.4131 - acc: 0.8066 - mean_absolute_error: 0.2771 - precision: 0.8222 - recall: 0.8548 - val_loss: 0.4324 - val_acc: 0.8013 - val_mean_absolute_error: 0.2856 - val_precision: 0.8174 - val_recall: 0.8281\n",
      "Epoch 87/100\n",
      " - 14s - loss: 0.4106 - acc: 0.8074 - mean_absolute_error: 0.2751 - precision: 0.8258 - recall: 0.8542 - val_loss: 0.4391 - val_acc: 0.7974 - val_mean_absolute_error: 0.2980 - val_precision: 0.8558 - val_recall: 0.7515\n",
      "Epoch 88/100\n",
      " - 13s - loss: 0.4088 - acc: 0.8077 - mean_absolute_error: 0.2743 - precision: 0.8287 - recall: 0.8513 - val_loss: 0.4305 - val_acc: 0.8021 - val_mean_absolute_error: 0.2834 - val_precision: 0.8192 - val_recall: 0.8303\n",
      "Epoch 89/100\n",
      " - 13s - loss: 0.4064 - acc: 0.8093 - mean_absolute_error: 0.2728 - precision: 0.8326 - recall: 0.8544 - val_loss: 0.4298 - val_acc: 0.8013 - val_mean_absolute_error: 0.2830 - val_precision: 0.8216 - val_recall: 0.8216\n",
      "Epoch 90/100\n",
      " - 13s - loss: 0.4045 - acc: 0.8100 - mean_absolute_error: 0.2714 - precision: 0.8351 - recall: 0.8541 - val_loss: 0.4290 - val_acc: 0.8014 - val_mean_absolute_error: 0.2810 - val_precision: 0.8210 - val_recall: 0.8225\n",
      "Epoch 91/100\n",
      " - 13s - loss: 0.4020 - acc: 0.8110 - mean_absolute_error: 0.2696 - precision: 0.8382 - recall: 0.8554 - val_loss: 0.4294 - val_acc: 0.8019 - val_mean_absolute_error: 0.2839 - val_precision: 0.8368 - val_recall: 0.8011\n",
      "Epoch 92/100\n",
      " - 14s - loss: 0.4006 - acc: 0.8101 - mean_absolute_error: 0.2686 - precision: 0.8375 - recall: 0.8503 - val_loss: 0.4276 - val_acc: 0.8024 - val_mean_absolute_error: 0.2783 - val_precision: 0.8211 - val_recall: 0.8268\n",
      "Epoch 93/100\n",
      " - 13s - loss: 0.3982 - acc: 0.8120 - mean_absolute_error: 0.2671 - precision: 0.8413 - recall: 0.8548 - val_loss: 0.4271 - val_acc: 0.8024 - val_mean_absolute_error: 0.2780 - val_precision: 0.8252 - val_recall: 0.8194\n",
      "Epoch 94/100\n",
      " - 13s - loss: 0.3962 - acc: 0.8141 - mean_absolute_error: 0.2656 - precision: 0.8477 - recall: 0.8568 - val_loss: 0.4279 - val_acc: 0.8031 - val_mean_absolute_error: 0.2814 - val_precision: 0.8410 - val_recall: 0.7985\n",
      "Epoch 95/100\n",
      " - 13s - loss: 0.3946 - acc: 0.8137 - mean_absolute_error: 0.2647 - precision: 0.8471 - recall: 0.8544 - val_loss: 0.4383 - val_acc: 0.7983 - val_mean_absolute_error: 0.2940 - val_precision: 0.8699 - val_recall: 0.7272\n",
      "Epoch 96/100\n",
      " - 13s - loss: 0.3940 - acc: 0.8141 - mean_absolute_error: 0.2638 - precision: 0.8491 - recall: 0.8538 - val_loss: 0.4253 - val_acc: 0.8032 - val_mean_absolute_error: 0.2742 - val_precision: 0.8175 - val_recall: 0.8342\n",
      "Epoch 97/100\n",
      " - 13s - loss: 0.3907 - acc: 0.8154 - mean_absolute_error: 0.2623 - precision: 0.8513 - recall: 0.8555 - val_loss: 0.4250 - val_acc: 0.8039 - val_mean_absolute_error: 0.2761 - val_precision: 0.8313 - val_recall: 0.8129\n",
      "Epoch 98/100\n",
      " - 13s - loss: 0.3887 - acc: 0.8166 - mean_absolute_error: 0.2610 - precision: 0.8547 - recall: 0.8578 - val_loss: 0.4267 - val_acc: 0.8046 - val_mean_absolute_error: 0.2801 - val_precision: 0.8462 - val_recall: 0.7898\n",
      "Epoch 99/100\n",
      " - 13s - loss: 0.3866 - acc: 0.8168 - mean_absolute_error: 0.2598 - precision: 0.8548 - recall: 0.8554 - val_loss: 0.4275 - val_acc: 0.8054 - val_mean_absolute_error: 0.2643 - val_precision: 0.8031 - val_recall: 0.8695\n",
      "Epoch 100/100\n",
      " - 13s - loss: 0.3853 - acc: 0.8178 - mean_absolute_error: 0.2578 - precision: 0.8534 - recall: 0.8621 - val_loss: 0.4431 - val_acc: 0.7985 - val_mean_absolute_error: 0.2964 - val_precision: 0.8829 - val_recall: 0.7023\n"
     ]
    },
    {
     "data": {
      "text/plain": [
       "<keras.callbacks.History at 0x1681995d9e8>"
      ]
     },
     "execution_count": 67,
     "metadata": {},
     "output_type": "execute_result"
    }
   ],
   "source": [
    "batch_size=32\n",
    "Y = pd.get_dummies(data['airline_sentiment']).values\n",
    "X_train, X_valid, Y_train, Y_valid = train_test_split(X,Y, test_size = 0.25)\n",
    "#Here we train the Network.\n",
    "pred=model_conv.fit(X_train, Y_train, batch_size =batch_size, epochs =100, verbose =2,validation_data=(X_valid,Y_valid))\n",
    "pred"
   ]
  },
  {
   "cell_type": "code",
   "execution_count": 68,
   "metadata": {},
   "outputs": [
    {
     "name": "stdout",
     "output_type": "stream",
     "text": [
      "validation accuracy: 0.80\n",
      "validation Recall: 0.70\n",
      "validation Precision: 0.88\n",
      "validation Mean Absolute Eror: 0.30\n"
     ]
    }
   ],
   "source": [
    "ResultFinal=[]\n",
    "ResultFinal=model_conv.evaluate(X_valid,Y_valid,verbose=2,batch_size=batch_size)\n",
    "#keras.metrics.binary_accuracy(Y_valid,pred)\n",
    "print(\"validation accuracy: %.2f\" % (ResultFinal[1]))\n",
    "print(\"validation Recall: %.2f\" %(ResultFinal[4]))\n",
    "print(\"validation Precision: %.2f\" % (ResultFinal[3]))\n",
    "print(\"validation Mean Absolute Eror: %.2f\" % (ResultFinal[2]))"
   ]
  },
  {
   "cell_type": "code",
   "execution_count": 57,
   "metadata": {},
   "outputs": [],
   "source": [
    "import pickle\n",
    "pickle.dump(model_conv,open('LSTMModel.csv','wb'))\n",
    "pickle.dump(model_conv,open('LSTMModel.sav','wb'))\n",
    "pickle.dump(model_conv,open('CNNModel.csv','wb'))\n",
    "pickle.dump(model_conv,open('CNNModel.sav','wb'))"
   ]
  },
  {
   "cell_type": "code",
   "execution_count": 58,
   "metadata": {},
   "outputs": [],
   "source": [
    "import pickle\n",
    "pickle.dump(X_train,open('X_train.csv','wb'))\n",
    "pickle.dump(X_train,open('X_train.sav','wb'))\n",
    "pickle.dump(X_valid,open('X_valid.sav','wb'))\n",
    "pickle.dump(X_valid,open('X_valid.csv','wb'))\n",
    "pickle.dump(Y_train,open('Y_train.csv','wb'))\n",
    "pickle.dump(Y_train,open('Y_train.sav','wb'))\n",
    "pickle.dump(Y_valid,open('Y_valid.sav','wb'))\n",
    "pickle.dump(Y_valid,open('Y_valid.csv','wb'))\n",
    "pickle.dump(tokenizer,open('tokenizer.sav','wb'))\n",
    "pickle.dump(tokenizer,open('tokenizer.csv','wb'))"
   ]
  },
  {
   "cell_type": "code",
   "execution_count": 42,
   "metadata": {},
   "outputs": [
    {
     "data": {
      "image/png": "[encoded data removed]",
      "text/plain": [
       "<Figure size 432x288 with 1 Axes>"
      ]
     },
     "metadata": {},
     "output_type": "display_data"
    },
    {
     "data": {
      "image/png": "[encoded data removed]",
      "text/plain": [
       "<Figure size 432x288 with 1 Axes>"
      ]
     },
     "metadata": {},
     "output_type": "display_data"
    }
   ],
   "source": [
    "import matplotlib.pyplot as plt\n",
    "# Plot training & validation accuracy values\n",
    "plt.plot(pred.history['acc'])\n",
    "plt.plot(pred.history['val_acc'])\n",
    "plt.title('Model accuracy')\n",
    "plt.ylabel('Accuracy')\n",
    "plt.xlabel('Epoch')\n",
    "plt.legend(['Train', 'Test'], loc='upper left')\n",
    "plt.savefig('training & validation accuracy2.pdf')\n",
    "plt.show()\n",
    "\n",
    "\n",
    "# Plot training & validation loss values\n",
    "plt.plot(pred.history['loss'])\n",
    "plt.plot(pred.history['val_loss'])\n",
    "plt.title('Model loss')\n",
    "plt.ylabel('Loss')\n",
    "plt.xlabel('Epoch')\n",
    "plt.legend(['Train', 'Test'], loc='upper left')\n",
    "plt.savefig('training & validation loss2.pdf')\n",
    "plt.show()\n"
   ]
  },
  {
   "cell_type": "code",
   "execution_count": null,
   "metadata": {
    "collapsed": true
   },
   "outputs": [],
   "source": []
  },
  {
   "cell_type": "code",
   "execution_count": 49,
   "metadata": {},
   "outputs": [
    {
     "data": {
      "image/png": "[encoded data removed]",
      "text/plain": [
       "<Figure size 432x288 with 1 Axes>"
      ]
     },
     "metadata": {},
     "output_type": "display_data"
    },
    {
     "data": {
      "image/png": "[encoded data removed]",
      "text/plain": [
       "<Figure size 432x288 with 1 Axes>"
      ]
     },
     "metadata": {},
     "output_type": "display_data"
    }
   ],
   "source": [
    "import matplotlib.pyplot as plt\n",
    "# Plot training & validation accuracy values\n",
    "plt.plot(pred.history['acc'])\n",
    "plt.plot(pred.history['val_acc'])\n",
    "plt.title('Model accuracy')\n",
    "plt.ylabel('Accuracy')\n",
    "plt.xlabel('Epoch')\n",
    "plt.legend(['Train', 'Test'], loc='upper left')\n",
    "plt.savefig('training & validation accuracy3.pdf')\n",
    "plt.show()\n",
    "\n",
    "\n",
    "# Plot training & validation loss values\n",
    "plt.plot(pred.history['loss'])\n",
    "plt.plot(pred.history['val_loss'])\n",
    "plt.title('Model loss')\n",
    "plt.ylabel('Loss')\n",
    "plt.xlabel('Epoch')\n",
    "plt.legend(['Train', 'Test'], loc='upper left')\n",
    "plt.savefig('training & validation loss3.pdf')\n",
    "plt.show()\n"
   ]
  },
  {
   "cell_type": "code",
   "execution_count": 53,
   "metadata": {},
   "outputs": [
    {
     "data": {
      "image/png": "[encoded data removed]",
      "text/plain": [
       "<Figure size 432x288 with 1 Axes>"
      ]
     },
     "metadata": {},
     "output_type": "display_data"
    },
    {
     "data": {
      "image/png": "[encoded data removed]",
      "text/plain": [
       "<Figure size 432x288 with 1 Axes>"
      ]
     },
     "metadata": {},
     "output_type": "display_data"
    }
   ],
   "source": [
    "import matplotlib.pyplot as plt\n",
    "# Plot training & validation accuracy values\n",
    "plt.plot(pred.history['acc'])\n",
    "plt.plot(pred.history['val_acc'])\n",
    "plt.title('Model accuracy')\n",
    "plt.ylabel('Accuracy')\n",
    "plt.xlabel('Epoch')\n",
    "plt.legend(['Train', 'Test'], loc='upper left')\n",
    "plt.savefig('training & validation accuracyFinal.pdf')\n",
    "plt.show()\n",
    "\n",
    "\n",
    "# Plot training & validation loss values\n",
    "plt.plot(pred.history['loss'])\n",
    "plt.plot(pred.history['val_loss'])\n",
    "plt.title('Model loss')\n",
    "plt.ylabel('Loss')\n",
    "plt.xlabel('Epoch')\n",
    "plt.legend(['Train', 'Test'], loc='upper left')\n",
    "plt.savefig('training & validation lossFinal.pdf')\n",
    "plt.show()\n"
   ]
  },
  {
   "cell_type": "code",
   "execution_count": 69,
   "metadata": {},
   "outputs": [
    {
     "data": {
      "image/png": "[encoded data removed]",
      "text/plain": [
       "<Figure size 432x288 with 1 Axes>"
      ]
     },
     "metadata": {},
     "output_type": "display_data"
    },
    {
     "data": {
      "image/png": "[encoded data removed]",
      "text/plain": [
       "<Figure size 432x288 with 1 Axes>"
      ]
     },
     "metadata": {},
     "output_type": "display_data"
    }
   ],
   "source": [
    "import matplotlib.pyplot as plt\n",
    "# Plot training & validation accuracy values\n",
    "plt.plot(pred.history['acc'])\n",
    "plt.plot(pred.history['val_acc'])\n",
    "plt.title('Model accuracy')\n",
    "plt.ylabel('Accuracy')\n",
    "plt.xlabel('Epoch')\n",
    "plt.legend(['Train', 'Test'], loc='upper left')\n",
    "plt.savefig('training & validation accuracyFinalFinal.pdf')\n",
    "plt.show()\n",
    "\n",
    "\n",
    "# Plot training & validation loss values\n",
    "plt.plot(pred.history['loss'])\n",
    "plt.plot(pred.history['val_loss'])\n",
    "plt.title('Model loss')\n",
    "plt.ylabel('Loss')\n",
    "plt.xlabel('Epoch')\n",
    "plt.legend(['Train', 'Test'], loc='upper left')\n",
    "plt.savefig('training & validation lossFinalFinal.pdf')\n",
    "plt.show()\n"
   ]
  },
  {
   "cell_type": "code",
   "execution_count": null,
   "metadata": {},
   "outputs": [],
   "source": []
  },
  {
   "cell_type": "code",
   "execution_count": null,
   "metadata": {},
   "outputs": [],
   "source": []
  },
  {
   "cell_type": "code",
   "execution_count": null,
   "metadata": {},
   "outputs": [],
   "source": []
  },
  {
   "cell_type": "code",
   "execution_count": 19,
   "metadata": {},
   "outputs": [
    {
     "name": "stderr",
     "output_type": "stream",
     "text": [
      "C:\\Users\\Muhammad Umer\\Anaconda3\\lib\\site-packages\\ipykernel\\__main__.py:14: DeprecationWarning: Call to deprecated `__getitem__` (Method will be removed in 4.0.0, use self.wv.__getitem__() instead).\n"
     ]
    }
   ],
   "source": [
    "from gensim.models import Word2Vec\n",
    "from sklearn import preprocessing\n",
    "#lab_enc = preprocessing.LabelEncoder()\n",
    "#lab_enc.fit(data['Sentiment'])\n",
    "#data = data\n",
    "tokenized_data = data['text'].apply(lambda x: x.split())\n",
    "model_w2v = Word2Vec( tokenized_data, size=200, window=5, min_count=2,sg = 1, hs = 0, negative = 10, workers= 2, seed = 34)\n",
    "model_w2v.train(tokenized_data, total_examples= len(data['text']), epochs=20)\n",
    "def word_vector(tokens, size):\n",
    "    vec = np.zeros(size).reshape((1, size))\n",
    "    count = 0.\n",
    "    for word in tokens:\n",
    "        try:\n",
    "            vec += model_w2v[word].reshape((1, size))\n",
    "            count += 1.\n",
    "        except KeyError:\n",
    "            continue\n",
    "    if count != 0:\n",
    "        vec /= count\n",
    "        return vec\n",
    "wordvec_arrays = np.zeros((len(tokenized_data), 200))\n",
    "for i in range(len(tokenized_data)):\n",
    "    wordvec_arrays[i,:] = word_vector(tokenized_data[i], 200)\n",
    "data_feature_3 = pd.DataFrame(wordvec_arrays)\n",
    "df_tex = data_feature_3\n",
    "df_cat = data['airline_sentiment']\n",
    "x_train, x_test, y_train, y_test = train_test_split(df_tex, df_cat, test_size=0.3, random_state=2, stratify=df_cat)\n",
    "y_train = y_train.astype('int')\n"
   ]
  },
  {
   "cell_type": "code",
   "execution_count": 21,
   "metadata": {},
   "outputs": [
    {
     "name": "stderr",
     "output_type": "stream",
     "text": [
      "C:\\Users\\Muhammad Umer\\Anaconda3\\lib\\site-packages\\sklearn\\linear_model\\logistic.py:432: FutureWarning: Default solver will be changed to 'lbfgs' in 0.22. Specify a solver to silence this warning.\n",
      "  FutureWarning)\n",
      "C:\\Users\\Muhammad Umer\\Anaconda3\\lib\\site-packages\\sklearn\\linear_model\\logistic.py:469: FutureWarning: Default multi_class will be changed to 'auto' in 0.22. Specify the multi_class option to silence this warning.\n",
      "  \"this warning.\", FutureWarning)\n"
     ]
    },
    {
     "name": "stdout",
     "output_type": "stream",
     "text": [
      "0.7688979963570127\n",
      "              precision    recall  f1-score   support\n",
      "\n",
      "           0       0.80      0.93      0.86      2753\n",
      "           1       0.66      0.45      0.53       930\n",
      "           2       0.71      0.58      0.64       709\n",
      "\n",
      "    accuracy                           0.77      4392\n",
      "   macro avg       0.72      0.65      0.68      4392\n",
      "weighted avg       0.76      0.77      0.75      4392\n",
      "\n"
     ]
    }
   ],
   "source": [
    "from sklearn.linear_model import LogisticRegression\n",
    "from sklearn.metrics import accuracy_score,classification_report\n",
    "lr=LogisticRegression()\n",
    "predRfc=lr.fit(x_train, y_train).predict(x_test)\n",
    "print(accuracy_score(y_test,predRfc))\n",
    "print(classification_report(y_test,predRfc))"
   ]
  }
 ],
 "metadata": {
  "anaconda-cloud": {},
  "kernelspec": {
   "display_name": "Python [default]",
   "language": "python",
   "name": "python3"
  },
  "language_info": {
   "codemirror_mode": {
    "name": "ipython",
    "version": 3
   },
   "file_extension": ".py",
   "mimetype": "text/x-python",
   "name": "python",
   "nbconvert_exporter": "python",
   "pygments_lexer": "ipython3",
   "version": "3.5.6"
  }
 },
 "nbformat": 4,
 "nbformat_minor": 2
}
